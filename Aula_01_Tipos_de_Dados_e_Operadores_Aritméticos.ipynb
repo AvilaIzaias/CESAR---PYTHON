{
  "nbformat": 4,
  "nbformat_minor": 0,
  "metadata": {
    "colab": {
      "name": "Aula 01 - Tipos de Dados e Operadores Aritméticos",
      "provenance": [],
      "collapsed_sections": [],
      "include_colab_link": true
    },
    "kernelspec": {
      "name": "python3",
      "display_name": "Python 3"
    }
  },
  "cells": [
    {
      "cell_type": "markdown",
      "metadata": {
        "id": "view-in-github",
        "colab_type": "text"
      },
      "source": [
        "<a href=\"https://colab.research.google.com/github/AvilaIzaias/CESAR---PYTHON/blob/main/Aula_01_Tipos_de_Dados_e_Operadores_Aritm%C3%A9ticos.ipynb\" target=\"_parent\"><img src=\"https://colab.research.google.com/assets/colab-badge.svg\" alt=\"Open In Colab\"/></a>"
      ]
    },
    {
      "cell_type": "markdown",
      "metadata": {
        "id": "9ujEVvoCTM6p"
      },
      "source": [
        "<img src=\"https://www.cesar.school/wp-content/uploads/2019/09/marca_cesar_school.png\" alt=\"drawing\" width=\"200\"/>\n",
        "\n",
        "# Python - **Aula 01** MOD 12/08/2021\n",
        "\n",
        "---\n",
        "\n",
        "- Entender conceitos básicos sobre programação;\n",
        "- Conhecer a linguagem Python;\n",
        "- Criar seu primeiro programa em Python;\n",
        "\n"
      ]
    },
    {
      "cell_type": "markdown",
      "metadata": {
        "id": "L1rO4J92bWIu"
      },
      "source": [
        "#Compreendendo as variáveis\n",
        "\n",
        "Em termos técnicos, uma variável atribui um local de armazenamento a um valor que está vinculado a um nome ou identificador simbólico. O nome da variável é usado para fazer referência a esse valor armazenado em um programa de computador."
      ]
    },
    {
      "cell_type": "code",
      "metadata": {
        "id": "gbAP6hlEbYeI",
        "outputId": "aa89e2e8-515e-4512-cc86-2daa15a94a82",
        "colab": {
          "base_uri": "https://localhost:8080/"
        }
      },
      "source": [
        "my_int = 103204934813\n",
        "my_int"
      ],
      "execution_count": 2,
      "outputs": [
        {
          "output_type": "execute_result",
          "data": {
            "text/plain": [
              "103204934813"
            ]
          },
          "metadata": {
            "tags": []
          },
          "execution_count": 2
        }
      ]
    },
    {
      "cell_type": "markdown",
      "metadata": {
        "id": "AVxtUEgYxRio"
      },
      "source": [
        "*   o nome da variável `my_int`\n",
        "*   o operador de atribuição, também conhecido como sinal de igual `=`\n",
        "*   o valor que está sendo vinculado ao nome da variável `103204934813`"
      ]
    },
    {
      "cell_type": "markdown",
      "metadata": {
        "id": "AFQKUYj3c1It"
      },
      "source": [
        "## Regras para criação de nomes de variáveis:\n",
        "\n",
        "- Não pode começar com número;\n",
        "- Não pode haver espaço (use `_`);\n",
        "- Não pode haver caracteres especiais: `\" ' , < > | / \\ ( ) @ ! # $ % ^ & * ~ - +`\n",
        "\n",
        "##Reatribuindo Variáveis"
      ]
    },
    {
      "cell_type": "code",
      "metadata": {
        "id": "S3sVtJ7aucvi",
        "outputId": "96418fa0-bb51-4805-9109-e31e2e0245a3",
        "colab": {
          "base_uri": "https://localhost:8080/",
          "height": 35
        }
      },
      "source": [
        "my_int = 50\n",
        "nome = 'gerson'\n",
        "nome = 96.12\n",
        "nome = 'fulano'\n",
        "nome"
      ],
      "execution_count": 4,
      "outputs": [
        {
          "output_type": "execute_result",
          "data": {
            "application/vnd.google.colaboratory.intrinsic+json": {
              "type": "string"
            },
            "text/plain": [
              "'fulano'"
            ]
          },
          "metadata": {
            "tags": []
          },
          "execution_count": 4
        }
      ]
    },
    {
      "cell_type": "markdown",
      "metadata": {
        "id": "UUnLyISHNT2K"
      },
      "source": [
        "##Atribuição múltipla\n",
        "\n",
        "Com Python, você pode atribuir um único valor a várias variáveis ​​ao mesmo tempo. Isso permite inicializar várias variáveis ​​de uma vez, que você mesmo pode reatribuir posteriormente no programa ou por meio da entrada do usuário."
      ]
    },
    {
      "cell_type": "code",
      "metadata": {
        "id": "HtUBkYLeNbgz",
        "outputId": "4bf5b586-1a21-480d-8def-c7fab0410ad0",
        "colab": {
          "base_uri": "https://localhost:8080/"
        }
      },
      "source": [
        "x = y = z = 0\n",
        "z # qualquer dos três eu colocar x, y ou z a saída será 0"
      ],
      "execution_count": 8,
      "outputs": [
        {
          "output_type": "execute_result",
          "data": {
            "text/plain": [
              "0"
            ]
          },
          "metadata": {
            "tags": []
          },
          "execution_count": 8
        }
      ]
    },
    {
      "cell_type": "markdown",
      "metadata": {
        "id": "WHLD7iQHzhc9"
      },
      "source": [
        "\n",
        "#Criação e impressão de strings\n",
        "\n",
        "Strings existem entre aspas simples `'` ou duplas `\"` em Python, portanto, para criar uma string, coloque uma sequência de caracteres em um ou outro."
      ]
    },
    {
      "cell_type": "code",
      "metadata": {
        "id": "pT8v2fX3T0P_",
        "colab": {
          "base_uri": "https://localhost:8080/",
          "height": 35
        },
        "outputId": "143e0538-f6f4-4d11-cef2-fed00610ac20"
      },
      "source": [
        "'Esta é uma string entre aspas simples'\n",
        "\"Esta é uma string entre aspas duplas\" #sempre irá sair a última linha de comando"
      ],
      "execution_count": 12,
      "outputs": [
        {
          "output_type": "execute_result",
          "data": {
            "application/vnd.google.colaboratory.intrinsic+json": {
              "type": "string"
            },
            "text/plain": [
              "'Esta é uma string entre aspas duplas'"
            ]
          },
          "metadata": {
            "tags": []
          },
          "execution_count": 12
        }
      ]
    },
    {
      "cell_type": "markdown",
      "metadata": {
        "id": "koA9l9SLvGgv"
      },
      "source": [
        "Podemos imprimir strings simplesmente chamando a função `print()`"
      ]
    },
    {
      "cell_type": "code",
      "metadata": {
        "id": "Q2e1z7ECvOhm",
        "colab": {
          "base_uri": "https://localhost:8080/",
          "height": 86
        },
        "outputId": "e4682261-0d04-4aa3-e50e-a23d0f5fbe1b"
      },
      "source": [
        "# Print em Python\n",
        "print(\"Olá Mundo!\")\n",
        "print(\"segundo print\")\n",
        "print(\"Vai sair as três prints\")\n",
        "'Olá mundo!'\n",
        "'denovo' # se não tiver a função print sai a última linha de comando\n",
        "'se não tiver a função print sai a última linha de comando'"
      ],
      "execution_count": 17,
      "outputs": [
        {
          "output_type": "stream",
          "text": [
            "Olá Mundo!\n",
            "segundo print\n",
            "Vai sair as três prints\n"
          ],
          "name": "stdout"
        },
        {
          "output_type": "execute_result",
          "data": {
            "application/vnd.google.colaboratory.intrinsic+json": {
              "type": "string"
            },
            "text/plain": [
              "'se não tiver a função print sai a última linha de comando'"
            ]
          },
          "metadata": {
            "tags": []
          },
          "execution_count": 17
        }
      ]
    },
    {
      "cell_type": "markdown",
      "metadata": {
        "id": "FfEWOwmhVLhE"
      },
      "source": [
        "##Sintaxe do comentário\n",
        "Os comentários em Python começam com uma marca de hash `#` e um caractere de espaço em branco e continuam até o final da linha.\n",
        "\n",
        "Geralmente, os comentários serão semelhantes a este:"
      ]
    },
    {
      "cell_type": "code",
      "metadata": {
        "id": "I8hKONOyVQOw",
        "outputId": "68e51515-09e1-41c4-984a-f38df268ae91",
        "colab": {
          "base_uri": "https://localhost:8080/",
          "height": 35
        }
      },
      "source": [
        "# comentário de linha\n",
        "'''comentario de bloco'''\n",
        "''' como é esse negocio de comentario em bloco? '''\n",
        "'A cor do comentário é green'"
      ],
      "execution_count": 20,
      "outputs": [
        {
          "output_type": "execute_result",
          "data": {
            "application/vnd.google.colaboratory.intrinsic+json": {
              "type": "string"
            },
            "text/plain": [
              "'A cor do comentário é green'"
            ]
          },
          "metadata": {
            "tags": []
          },
          "execution_count": 20
        }
      ]
    },
    {
      "cell_type": "markdown",
      "metadata": {
        "id": "W7GPfOkUwNgg"
      },
      "source": [
        "##Comentários Inline\n",
        "Os comentários Iinline ocorrem na mesma linha de uma instrução, seguindo o próprio código.\n",
        "\n",
        "Geralmente, os comentários inline são assim:"
      ]
    },
    {
      "cell_type": "code",
      "metadata": {
        "id": "9BlI5KrMwkQ1",
        "outputId": "135ccc5d-db52-405a-fb1e-766bffcf0961",
        "colab": {
          "base_uri": "https://localhost:8080/"
        }
      },
      "source": [
        "x = 8 # Inicializa x com um número arvitrário\n",
        "x"
      ],
      "execution_count": 22,
      "outputs": [
        {
          "output_type": "execute_result",
          "data": {
            "text/plain": [
              "8"
            ]
          },
          "metadata": {
            "tags": []
          },
          "execution_count": 22
        }
      ]
    },
    {
      "cell_type": "markdown",
      "metadata": {
        "id": "WsXf_ireWQZd"
      },
      "source": [
        "# Tipos de dados\n",
        "\n",
        "## Numéricos\n",
        "- `int` - Inteiros\n",
        "- `float` - Pontos Flutuantes\n",
        "\n",
        "## Texto\n",
        "- `str` - String\n",
        "\n",
        "## Booleano\n",
        "- `bool` - `True` ou `False`\n",
        "\n",
        "##Listas\n",
        "- `list` - [ ]\n",
        "\n",
        "##Tuplas\n",
        "- `tuples` - ( )\n",
        "\n",
        "##Dicionários\n",
        "- `dictionary` - { }\n",
        "\n",
        "> Função `type()`"
      ]
    },
    {
      "cell_type": "code",
      "metadata": {
        "id": "LrgPw5AZWYBY",
        "colab": {
          "base_uri": "https://localhost:8080/"
        },
        "outputId": "34cff7cc-f8f4-49c7-c439-c807f2c09e03"
      },
      "source": [
        "print(type (12))\n",
        "print(type (-158))\n",
        "print(type (3.14))\n",
        "print(type (12.0))\n",
        "print(type (True)) #Observe que começa com letra maiúscula\n",
        "print(type ('asasas'))\n",
        "print(type (my_int))\n",
        "print(type (False)) #Observe que começa com letra maiúscula"
      ],
      "execution_count": 35,
      "outputs": [
        {
          "output_type": "stream",
          "text": [
            "<class 'int'>\n",
            "<class 'int'>\n",
            "<class 'float'>\n",
            "<class 'float'>\n",
            "<class 'bool'>\n",
            "<class 'str'>\n",
            "<class 'int'>\n",
            "<class 'bool'>\n"
          ],
          "name": "stdout"
        }
      ]
    },
    {
      "cell_type": "markdown",
      "metadata": {
        "id": "qf0JgZfioSeU"
      },
      "source": [
        "# ENTRADA DE DADOS\n",
        "Entrada de Dados refere-se a entrada de dados do mundo externo para o meio digital.\n",
        "\n",
        "Sintaxe da função input()\n",
        "\n",
        "```variável = input(mensagem opcional)```\n"
      ]
    },
    {
      "cell_type": "code",
      "metadata": {
        "id": "0Ac7eUAxoaJB",
        "colab": {
          "base_uri": "https://localhost:8080/"
        },
        "outputId": "a514e40b-d7f2-4386-d8ce-d28c5415d6b2"
      },
      "source": [
        "login = input(\"Login: \")\n",
        "senha = input(\"Senha: \")\n",
        "\n",
        "print(\"O usuário informado foi: %s, e a senha digitada foi: %s\" %(login, senha))\n",
        "print(f\"O usuário informado foi: {login}, e a senha digitada foi:\")"
      ],
      "execution_count": 27,
      "outputs": [
        {
          "output_type": "stream",
          "text": [
            "Login: kkkk\n",
            "Senha: 9999\n",
            "O usuário informado foi: kkkk, e a senha digitada foi: 9999\n",
            "O usuário informado foi: kkkk, e a senha digitada foi:\n"
          ],
          "name": "stdout"
        }
      ]
    },
    {
      "cell_type": "code",
      "metadata": {
        "id": "kZWBrw6Egbey",
        "outputId": "d6ed16f9-75bf-41cc-bce6-6c51cb824259",
        "colab": {
          "base_uri": "https://localhost:8080/"
        }
      },
      "source": [
        "login = input(\"Digite seu login: \") #pedido de entrada dados do mundo exterior é pela funçao input(em amarelo)\n",
        "senha = input(\"Digite sua senha: \") #pedido de entrada dados do mundo exterior é pela funçao input(em amarelo)\n",
        "\n",
        "print(\"O usuário informado foi: \", login) #pedido de saída dados do mundo exterior é pela funçao print(em amarelo)\n",
        "print(\"A senha informada foi: \", senha) #pedido de saída dados do mundo exterior é pela funçao print(em amarelo)"
      ],
      "execution_count": 28,
      "outputs": [
        {
          "output_type": "stream",
          "text": [
            "Digite seu login: oooo\n",
            "Digite sua senha: pppp\n",
            "O usuário informado foi:  oooo\n",
            "A senha informada foi:  pppp\n"
          ],
          "name": "stdout"
        }
      ]
    },
    {
      "cell_type": "markdown",
      "metadata": {
        "id": "gJStn9uApEa4"
      },
      "source": [
        "#Funções para conversão de tipo\n",
        "\n",
        "Algumas vezes é necessário converter valores de um tipo para outro. As funções int, float e str tentarão converter seus argumentos para os tipos int, float e str, respectivamente. Nós chamamos elas de funções para conversão de tipos."
      ]
    },
    {
      "cell_type": "markdown",
      "metadata": {
        "id": "WLn0pnTqnBh3"
      },
      "source": [
        "##Convertendo os tipos de número"
      ]
    },
    {
      "cell_type": "code",
      "metadata": {
        "id": "ZCEYln4WsTL5",
        "colab": {
          "base_uri": "https://localhost:8080/"
        },
        "outputId": "fdab9bcf-74cb-403d-d256-393cdca90753"
      },
      "source": [
        "# Convertendo os números inteiros em floats\n",
        "f = 57\n",
        "print(float(f))\n",
        "\n",
        "#Convertendo floats em inteiros\n",
        "\n",
        "b = 125.0\n",
        "c = 390.8\n",
        "\n",
        "print(int(b))\n",
        "print(int(c))\n",
        "\n",
        "a = 4 / 2\n",
        "print(a)"
      ],
      "execution_count": 29,
      "outputs": [
        {
          "output_type": "stream",
          "text": [
            "57.0\n",
            "125\n",
            "390\n",
            "2.0\n"
          ],
          "name": "stdout"
        }
      ]
    },
    {
      "cell_type": "code",
      "metadata": {
        "id": "SHFrkbQpjSlD",
        "outputId": "8f785ffe-2f2d-4b07-88ca-53963cd7d51a",
        "colab": {
          "base_uri": "https://localhost:8080/"
        }
      },
      "source": [
        "g = 66 #você pode converter o número inteiro em float e vice-versa... utilizando a função print(float(int)) print(int(float))\n",
        "print(float (g)) # o g que era int foi convertido em float na saída\n",
        "a = 10.2\n",
        "b = 70.55\n",
        "print(int (a))\n",
        "print(int (b))\n",
        "c = 4 / 3\n",
        "print(c)\n",
        "c = 4 // 3\n",
        "print(c)"
      ],
      "execution_count": 33,
      "outputs": [
        {
          "output_type": "stream",
          "text": [
            "66.0\n",
            "10\n",
            "70\n",
            "1.3333333333333333\n",
            "1\n"
          ],
          "name": "stdout"
        }
      ]
    },
    {
      "cell_type": "markdown",
      "metadata": {
        "id": "unA7FMpPsp2q"
      },
      "source": [
        "##Convertendo com as strings"
      ]
    },
    {
      "cell_type": "code",
      "metadata": {
        "id": "OSKDPD4_s0so",
        "colab": {
          "base_uri": "https://localhost:8080/"
        },
        "outputId": "3890209e-3dc8-4cde-9c53-9201c4cad91c"
      },
      "source": [
        "# Convertendo números em strings\n",
        "print(str(12))\n",
        "\n",
        "print(str(421.034))\n",
        "\n",
        "f = 5524.53\n",
        "print(str(f))\n",
        "\n",
        "print(\"Sammy has \" + str(f) + \" points.\")\n",
        "\n",
        "# Convertendo strings em números\n",
        "\n",
        "lines_yesterday = \"50\"\n",
        "lines_today = \"108\"\n",
        "\n",
        "lines_more = float(lines_today) - int(lines_yesterday)\n",
        "\n",
        "print(lines_more)"
      ],
      "execution_count": 36,
      "outputs": [
        {
          "output_type": "stream",
          "text": [
            "12\n",
            "421.034\n",
            "5524.53\n",
            "Sammy has 5524.53 points.\n",
            "58.0\n"
          ],
          "name": "stdout"
        }
      ]
    },
    {
      "cell_type": "code",
      "metadata": {
        "id": "UKg59eLWoHiT",
        "outputId": "423e2a68-23b3-4b4b-ab39-f70117dce8e9",
        "colab": {
          "base_uri": "https://localhost:8080/"
        }
      },
      "source": [
        "print(str (12)) #convertendo diretamente int em string\n",
        "g = 765.99\n",
        "print(str (g))\n",
        "print(int (g))\n",
        "h = 768.88\n",
        "y = int (h) - int (g)\n",
        "print(y)\n",
        "y = (h) - (g)\n",
        "print(y)"
      ],
      "execution_count": 41,
      "outputs": [
        {
          "output_type": "stream",
          "text": [
            "12\n",
            "765.99\n",
            "765\n",
            "3\n",
            "2.8899999999999864\n"
          ],
          "name": "stdout"
        }
      ]
    },
    {
      "cell_type": "markdown",
      "metadata": {
        "id": "6fOqcWCyYMit"
      },
      "source": [
        "# Operações Aritméticas\n",
        "\n",
        "`x + y`\tSoma de X e Y\n",
        "\n",
        "`x - y`\tSubtração de X e Y\n",
        "\n",
        "`-x`\tSinal alterado de X\n",
        "\n",
        "`+x`\tIdentidade de X\n",
        "\n",
        "`x * y`\tMultiplicação de X e Y\n",
        "\n",
        "`x / y`\tDivisão de X e Y\n",
        "\n",
        "`x // y`\tDivisão de X e Y com resultado em inteiro\n",
        "\n",
        "`x % y`\tResto da divisão de X / Y\n",
        "\n",
        "`x ** y`\tX elevado a Y"
      ]
    },
    {
      "cell_type": "code",
      "metadata": {
        "id": "22HRvNH8YbN4",
        "colab": {
          "base_uri": "https://localhost:8080/"
        },
        "outputId": "dec23f4e-2c3a-4fa4-bd4b-1c4710ede317"
      },
      "source": [
        "10 + 12"
      ],
      "execution_count": null,
      "outputs": [
        {
          "output_type": "execute_result",
          "data": {
            "text/plain": [
              "22"
            ]
          },
          "metadata": {
            "tags": []
          },
          "execution_count": 33
        }
      ]
    },
    {
      "cell_type": "code",
      "metadata": {
        "id": "ENKf-mJAZRle",
        "colab": {
          "base_uri": "https://localhost:8080/"
        },
        "outputId": "b6beca06-be31-4654-8216-f83acddcc765"
      },
      "source": [
        "100 -20"
      ],
      "execution_count": null,
      "outputs": [
        {
          "output_type": "execute_result",
          "data": {
            "text/plain": [
              "80"
            ]
          },
          "metadata": {
            "tags": []
          },
          "execution_count": 34
        }
      ]
    },
    {
      "cell_type": "code",
      "metadata": {
        "id": "FuYK_oc9ZT-X",
        "colab": {
          "base_uri": "https://localhost:8080/"
        },
        "outputId": "94bf1d47-0e3a-4b4e-dde6-d133d03c7a8f"
      },
      "source": [
        "5 * 3.0"
      ],
      "execution_count": null,
      "outputs": [
        {
          "output_type": "execute_result",
          "data": {
            "text/plain": [
              "15.0"
            ]
          },
          "metadata": {
            "tags": []
          },
          "execution_count": 35
        }
      ]
    },
    {
      "cell_type": "code",
      "metadata": {
        "id": "6TUrxlpLZZYP",
        "colab": {
          "base_uri": "https://localhost:8080/"
        },
        "outputId": "d503fabf-031f-4158-e7c6-e39f33250117"
      },
      "source": [
        "10**2"
      ],
      "execution_count": null,
      "outputs": [
        {
          "output_type": "execute_result",
          "data": {
            "text/plain": [
              "100"
            ]
          },
          "metadata": {
            "tags": []
          },
          "execution_count": 36
        }
      ]
    },
    {
      "cell_type": "code",
      "metadata": {
        "id": "HThziQMoZeR-",
        "colab": {
          "base_uri": "https://localhost:8080/"
        },
        "outputId": "0e070e51-41e9-4638-9fab-40a5bb6b9460"
      },
      "source": [
        "5 // 2"
      ],
      "execution_count": null,
      "outputs": [
        {
          "output_type": "execute_result",
          "data": {
            "text/plain": [
              "2"
            ]
          },
          "metadata": {
            "tags": []
          },
          "execution_count": 38
        }
      ]
    },
    {
      "cell_type": "markdown",
      "metadata": {
        "id": "PbswAVPDQWGU"
      },
      "source": [
        "#Operações Aritméticas Unárias\n",
        "\n",
        "Uma expressão matemática unária consiste em apenas um componente ou elemento e, em Python, os sinais de mais e menos podem ser usados ​​como um único elemento emparelhado com um valor para retornar a identidade do valor (`+`) ou alterar o sinal do valor (`-`)."
      ]
    },
    {
      "cell_type": "code",
      "metadata": {
        "id": "V_k9cZFmRE5D",
        "colab": {
          "base_uri": "https://localhost:8080/"
        },
        "outputId": "93b6f235-7fa3-4513-c22f-39edb2ad185b"
      },
      "source": [
        "i = 3.3\n",
        "print(+i)\n",
        "\n",
        "j = -19\n",
        "print(+j)"
      ],
      "execution_count": null,
      "outputs": [
        {
          "output_type": "stream",
          "text": [
            "3.3\n",
            "-19\n"
          ],
          "name": "stdout"
        }
      ]
    },
    {
      "cell_type": "code",
      "metadata": {
        "id": "A4LmTWTFRO--",
        "colab": {
          "base_uri": "https://localhost:8080/"
        },
        "outputId": "9b980349-0ed9-4211-9ab9-a32f41d2804f"
      },
      "source": [
        "i = 3.3\n",
        "print(-i)\n",
        "\n",
        "j = -19\n",
        "print(-j)"
      ],
      "execution_count": null,
      "outputs": [
        {
          "output_type": "stream",
          "text": [
            "-3.3\n",
            "19\n"
          ],
          "name": "stdout"
        }
      ]
    },
    {
      "cell_type": "markdown",
      "metadata": {
        "id": "N5isIh00MSET"
      },
      "source": [
        "A ordem da operação aritmética importa!"
      ]
    },
    {
      "cell_type": "code",
      "metadata": {
        "id": "sukjPYA-aIJ2",
        "colab": {
          "base_uri": "https://localhost:8080/"
        },
        "outputId": "39276d4d-30be-4c2a-c281-bc89bfe31528"
      },
      "source": [
        "2 + 10 * 10 - 5"
      ],
      "execution_count": null,
      "outputs": [
        {
          "output_type": "execute_result",
          "data": {
            "text/plain": [
              "97"
            ]
          },
          "metadata": {
            "tags": []
          },
          "execution_count": 42
        }
      ]
    },
    {
      "cell_type": "code",
      "metadata": {
        "id": "9VzHixciaWmH",
        "colab": {
          "base_uri": "https://localhost:8080/"
        },
        "outputId": "8e8b31ce-befd-491d-8c13-07b34cc41f32"
      },
      "source": [
        "(2 + 10) * (10 - 5)"
      ],
      "execution_count": null,
      "outputs": [
        {
          "output_type": "execute_result",
          "data": {
            "text/plain": [
              "60"
            ]
          },
          "metadata": {
            "tags": []
          },
          "execution_count": 43
        }
      ]
    },
    {
      "cell_type": "code",
      "metadata": {
        "id": "Wz47pP7DMqNA",
        "colab": {
          "base_uri": "https://localhost:8080/"
        },
        "outputId": "16270537-8451-4a89-e498-e68774576bd4"
      },
      "source": [
        "20 + 5 * 2"
      ],
      "execution_count": null,
      "outputs": [
        {
          "output_type": "execute_result",
          "data": {
            "text/plain": [
              "30"
            ]
          },
          "metadata": {
            "tags": []
          },
          "execution_count": 44
        }
      ]
    },
    {
      "cell_type": "code",
      "metadata": {
        "id": "qlxTpJG9mDpw",
        "colab": {
          "base_uri": "https://localhost:8080/"
        },
        "outputId": "16dd9cea-e41d-416c-f5a9-f6f1fef31454"
      },
      "source": [
        "(20 + 5) * 2"
      ],
      "execution_count": null,
      "outputs": [
        {
          "output_type": "execute_result",
          "data": {
            "text/plain": [
              "50"
            ]
          },
          "metadata": {
            "tags": []
          },
          "execution_count": 45
        }
      ]
    },
    {
      "cell_type": "markdown",
      "metadata": {
        "id": "Ohy7mWPJRWbJ"
      },
      "source": [
        "##Operadores de atribuição\n",
        "\n",
        "\n",
        "* `+=` - - adiciona e atribui o valor\n",
        "* `-=` - - subtrai e atribui o valor\n",
        "* `*=` - - multiplica e atribui o valor\n",
        "* `/=` - - divide e atribui o valor\n",
        "* `//=` - - divide e depois atribuir o valor em inteiro\n",
        "* `**=` - - aumentar a potência e então atribuir o valor\n",
        "* `%=` - - retorna o resto da divisão e depois atribui o valor\n",
        "\n"
      ]
    },
    {
      "cell_type": "code",
      "metadata": {
        "id": "wASxPioUTGTA"
      },
      "source": [
        "y = 0\n",
        "y = y + 1 # y += 1\n",
        "y += 1\n",
        "y -= 1\n",
        "y *= 2\n",
        "y /= 2\n",
        "y // = 2\n",
        "y **= 5\n",
        "y %= 3"
      ],
      "execution_count": null,
      "outputs": []
    },
    {
      "cell_type": "markdown",
      "metadata": {
        "id": "ALgn8jEOXI8m"
      },
      "source": [
        "# Exercícios\n",
        "\n",
        "1. Faça um Programa que mostre a mensagem \"Alo mundo\" na tela"
      ]
    },
    {
      "cell_type": "code",
      "metadata": {
        "id": "E-tm-Ac-dkKI",
        "colab": {
          "base_uri": "https://localhost:8080/"
        },
        "outputId": "b917c87f-5dcf-4f64-f8e4-b7a93557f1ac"
      },
      "source": [
        "print(\"Alo Mundo\")"
      ],
      "execution_count": null,
      "outputs": [
        {
          "output_type": "stream",
          "text": [
            "Alo Mundo\n"
          ],
          "name": "stdout"
        }
      ]
    },
    {
      "cell_type": "markdown",
      "metadata": {
        "id": "H9Xmh3n0dku7"
      },
      "source": [
        "\n",
        "2. Faça um Programa que peça um número e então mostre a mensagem O número informado foi [número]."
      ]
    },
    {
      "cell_type": "code",
      "metadata": {
        "id": "oJxXXoQMePMm"
      },
      "source": [
        ""
      ],
      "execution_count": null,
      "outputs": []
    },
    {
      "cell_type": "markdown",
      "metadata": {
        "id": "Mc8ww-KEdndf"
      },
      "source": [
        "\n",
        "3. Faça um Programa que peça dois números e imprima a soma."
      ]
    },
    {
      "cell_type": "code",
      "metadata": {
        "id": "SfwZe2zseO3m",
        "colab": {
          "base_uri": "https://localhost:8080/"
        },
        "outputId": "b9f98590-63b8-4569-b4a3-0785112325f0"
      },
      "source": [
        "import math\n",
        "numero1 = float(input(\"Digite o primeiro numero: \"))\n",
        "numero2 = int(input(\"Digite o segundo numero: \"))\n",
        "\n",
        "resultado = numero1 + numero2\n",
        "\n",
        "print(\"A soma dos valores é: \" + str(resultado))\n",
        "print(\"A soma dos valores é: %i\"  %(resultado))\n",
        "print(f\"A soma dos valores é: {resultado}\")\n",
        "print(resultado)"
      ],
      "execution_count": null,
      "outputs": [
        {
          "output_type": "stream",
          "text": [
            "Digite o primeiro numero: 65\n",
            "Digite o segundo numero: 6\n",
            "A soma dos valores é: 71.0\n",
            "A soma dos valores é: 71\n",
            "A soma dos valores é: 71.0\n",
            "71.0\n"
          ],
          "name": "stdout"
        }
      ]
    },
    {
      "cell_type": "markdown",
      "metadata": {
        "id": "MfVY2KazdpxA"
      },
      "source": [
        "\n",
        "4. Faça um Programa que peça as 4 notas bimestrais e mostre a média."
      ]
    },
    {
      "cell_type": "code",
      "metadata": {
        "id": "B5dg4jyLeOV9"
      },
      "source": [
        ""
      ],
      "execution_count": null,
      "outputs": []
    },
    {
      "cell_type": "markdown",
      "metadata": {
        "id": "GYPjRaE1dsEo"
      },
      "source": [
        "\n",
        "5. Faça um Programa que converta metros para centímetros."
      ]
    },
    {
      "cell_type": "code",
      "metadata": {
        "id": "bDTpB4hxeOAS"
      },
      "source": [
        ""
      ],
      "execution_count": null,
      "outputs": []
    },
    {
      "cell_type": "markdown",
      "metadata": {
        "id": "Iw_6PGlvdt2P"
      },
      "source": [
        "\n",
        "6. Faça um Programa que peça o raio de um círculo, calcule e mostre sua área."
      ]
    },
    {
      "cell_type": "code",
      "metadata": {
        "id": "QBB456-ceNox"
      },
      "source": [
        ""
      ],
      "execution_count": null,
      "outputs": []
    },
    {
      "cell_type": "markdown",
      "metadata": {
        "id": "6WX2yHw8dvgh"
      },
      "source": [
        "\n",
        "7. Faça um Programa que calcule a área de um quadrado, em seguida mostre o dobro desta área para o usuário."
      ]
    },
    {
      "cell_type": "code",
      "metadata": {
        "id": "bq1uTrxieNIi"
      },
      "source": [
        ""
      ],
      "execution_count": null,
      "outputs": []
    },
    {
      "cell_type": "markdown",
      "metadata": {
        "id": "OHtr_FwmdxNL"
      },
      "source": [
        "\n",
        "8. Faça um Programa que pergunte quanto você ganha por hora e o número de horas trabalhadas no mês. Calcule e mostre o total do seu salário no referido mês."
      ]
    },
    {
      "cell_type": "code",
      "metadata": {
        "id": "r8eK89x0eMzi"
      },
      "source": [
        ""
      ],
      "execution_count": null,
      "outputs": []
    },
    {
      "cell_type": "markdown",
      "metadata": {
        "id": "OTc5-XqodzSn"
      },
      "source": [
        "\n",
        "9. Faça um Programa que peça a temperatura em graus Fahrenheit, transforme e mostre a temperatura em graus Celsius.\n",
        "> C = 5 * ((F-32) / 9)."
      ]
    },
    {
      "cell_type": "code",
      "metadata": {
        "id": "bfkUM9cceMbv",
        "outputId": "cba02da4-741b-4b77-bfbb-cd6294520ec3",
        "colab": {
          "base_uri": "https://localhost:8080/"
        }
      },
      "source": [
        "fa = float(input(\"Digite a temperatura em Fahrenheit a ser convertida em Celsius: \"))\n",
        "c = 5 * ((fa - 32)/9)\n",
        "print(fa,\"º em Fahrenheit é equivalente a:  \", c,\"º em Celsius\")"
      ],
      "execution_count": 9,
      "outputs": [
        {
          "output_type": "stream",
          "text": [
            "Digite a temperatura em Fahrenheit a ser convertida em Celsius: 100\n",
            "100.0 º em Fahrenheit é equivalente a:   37.77777777777778 º em Celsius\n"
          ],
          "name": "stdout"
        }
      ]
    },
    {
      "cell_type": "markdown",
      "metadata": {
        "id": "E17ya82wd1rv"
      },
      "source": [
        "\n",
        "10. Faça um Programa que peça a temperatura em graus Celsius, transforme e mostre em graus Fahrenheit."
      ]
    },
    {
      "cell_type": "code",
      "metadata": {
        "id": "5f6H4KPoeMBf"
      },
      "source": [
        ""
      ],
      "execution_count": null,
      "outputs": []
    },
    {
      "cell_type": "markdown",
      "metadata": {
        "id": "gfkqRT1hd5Uq"
      },
      "source": [
        "\n",
        "11. Faça um Programa que peça 2 números inteiros e um número real. Calcule e mostre:\n",
        "    - o produto do dobro do primeiro com metade do segundo.\n",
        "    - soma do triplo do primeiro com o terceiro.\n",
        "    - terceiro elevado ao cubo."
      ]
    },
    {
      "cell_type": "code",
      "metadata": {
        "id": "U0LGrxCYeLbT"
      },
      "source": [
        ""
      ],
      "execution_count": null,
      "outputs": []
    },
    {
      "cell_type": "markdown",
      "metadata": {
        "id": "GeccMwZid7LV"
      },
      "source": [
        "\n",
        "12. Tendo como dados de entrada a altura de uma pessoa, construa um algoritmo que calcule seu peso ideal, usando a seguinte fórmula: (72.7*altura) - 58"
      ]
    },
    {
      "cell_type": "code",
      "metadata": {
        "id": "KG7NZMI4eK-R"
      },
      "source": [
        ""
      ],
      "execution_count": null,
      "outputs": []
    },
    {
      "cell_type": "markdown",
      "metadata": {
        "id": "TGfnvz6rd9Q3"
      },
      "source": [
        "\n",
        "13. Tendo como dado de entrada a altura (h) de uma pessoa, construa um algoritmo que calcule seu peso ideal, utilizando as seguintes fórmulas:\n",
        "    - Para homens: (72.7*h) - 58\n",
        "    - Para mulheres: (62.1*h) - 44.7"
      ]
    },
    {
      "cell_type": "code",
      "metadata": {
        "id": "OmLkbOULeKjQ"
      },
      "source": [
        ""
      ],
      "execution_count": null,
      "outputs": []
    },
    {
      "cell_type": "markdown",
      "metadata": {
        "id": "rUcxxTf6d_4G"
      },
      "source": [
        "\n",
        "14. João Papo-de-Pescador, homem de bem, comprou um microcomputador para controlar o rendimento diário de seu trabalho. Toda vez que ele traz um peso de peixes maior que o estabelecido pelo regulamento de pesca do estado de São Paulo (50 quilos) deve pagar uma multa de R\\$ 4,00 por quilo excedente. João precisa que você faça um programa que leia a variável peso (peso de peixes) e calcule o excesso. Gravar na variável excesso a quantidade de quilos além do limite e na variável multa o valor da multa que João deverá pagar. Imprima os dados do programa com as mensagens adequadas."
      ]
    },
    {
      "cell_type": "code",
      "metadata": {
        "id": "LacOhDYmeKAW"
      },
      "source": [
        ""
      ],
      "execution_count": null,
      "outputs": []
    },
    {
      "cell_type": "markdown",
      "metadata": {
        "id": "XH9X194beCpW"
      },
      "source": [
        "\n",
        "15. Faça um Programa que pergunte quanto você ganha por hora e o número de horas trabalhadas no mês. Calcule e mostre o total do seu salário no referido mês, sabendo-se que são descontados 11% para o Imposto de Renda, 8% para o INSS e 5% para o sindicato, faça um programa que nos dê:\n",
        "    * salário bruto.\n",
        "    - quanto pagou ao INSS.\n",
        "    + quanto pagou ao sindicato.\n",
        "    - o salário líquido.\n",
        "    - calcule os descontos e o salário líquido, conforme a tabela abaixo:\n",
        "\n",
        "```\n",
        "            + Salário Bruto : R$\n",
        "            - IR (11%) : R$\n",
        "            - INSS (8%) : R$\n",
        "            - Sindicato ( 5%) : R$\n",
        "            = Salário Liquido : R$\n",
        "```\n",
        "> Obs.: Salário Bruto - Descontos = Salário Líquido.\n"
      ]
    },
    {
      "cell_type": "code",
      "metadata": {
        "id": "bTjIis6yeJDi"
      },
      "source": [
        ""
      ],
      "execution_count": null,
      "outputs": []
    },
    {
      "cell_type": "markdown",
      "metadata": {
        "id": "dQgoUp4FeEjs"
      },
      "source": [
        "\n",
        "16. Faça um programa para uma loja de tintas. O programa deverá pedir o tamanho em metros quadrados da área a ser pintada. Considere que a cobertura da tinta é de 1 litro para cada 3 metros quadrados e que a tinta é vendida em latas de 18 litros, que custam R\\$ 80,00. Informe ao usuário a quantidades de latas de tinta a serem compradas e o preço total. Obs.: somente são vendidos um número inteiro de latas."
      ]
    },
    {
      "cell_type": "code",
      "metadata": {
        "id": "BLgRrbqteIiY"
      },
      "source": [
        ""
      ],
      "execution_count": null,
      "outputs": []
    },
    {
      "cell_type": "markdown",
      "metadata": {
        "id": "aDlscibneF_-"
      },
      "source": [
        "\n",
        "17. Faça um Programa para uma loja de tintas. O programa deverá pedir o tamanho em metros quadrados da área a ser pintada. Considere que a cobertura da tinta é de 1 litro para cada 6 metros quadrados e que a tinta é vendida em latas de 18 litros, que custam R\\$ 80,00 ou em galões de 3,6 litros, que custam R\\$ 25,00.\n",
        "  - Informe ao usuário as quantidades de tinta a serem compradas e os respectivos preços em 3 situações:\n",
        "  - comprar apenas latas de 18 litros;\n",
        "  - comprar apenas galões de 3,6 litros;\n",
        "  - misturar latas e galões, de forma que o desperdício de tinta seja menor. Acrescente 10% de folga e sempre arredonde os valores para cima, isto é, considere latas cheias."
      ]
    },
    {
      "cell_type": "code",
      "metadata": {
        "id": "wH56ThFaeIOx"
      },
      "source": [
        ""
      ],
      "execution_count": null,
      "outputs": []
    },
    {
      "cell_type": "markdown",
      "metadata": {
        "id": "nsH6ogQWeHGf"
      },
      "source": [
        "\n",
        "18. Faça um programa que peça o tamanho de um arquivo para download (em MB) e a velocidade de um link de Internet (em Mbps), calcule e informe o tempo aproximado de download do arquivo usando este link (em minutos)."
      ]
    },
    {
      "cell_type": "code",
      "metadata": {
        "id": "KfQCgryMeHsf"
      },
      "source": [
        ""
      ],
      "execution_count": null,
      "outputs": []
    },
    {
      "cell_type": "code",
      "metadata": {
        "id": "UGKMemu2h5sD",
        "colab": {
          "base_uri": "https://localhost:8080/"
        },
        "outputId": "dd7ca2be-8408-412e-89e6-1e74caab1cb2"
      },
      "source": [
        "altura = float('10')\n",
        "print(f'Seu peso ideal é de {(altura * 72.2) - 58} kg.') "
      ],
      "execution_count": null,
      "outputs": [
        {
          "output_type": "stream",
          "text": [
            "Seu peso ideal é de 664.0 kg.\n"
          ],
          "name": "stdout"
        }
      ]
    }
  ]
}