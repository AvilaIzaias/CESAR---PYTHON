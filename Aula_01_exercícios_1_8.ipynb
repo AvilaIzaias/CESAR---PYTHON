{
  "nbformat": 4,
  "nbformat_minor": 0,
  "metadata": {
    "colab": {
      "name": "Aula 01 - exercícios 1 - 8",
      "provenance": [],
      "collapsed_sections": [],
      "include_colab_link": true
    },
    "kernelspec": {
      "name": "python3",
      "display_name": "Python 3"
    }
  },
  "cells": [
    {
      "cell_type": "markdown",
      "metadata": {
        "id": "view-in-github",
        "colab_type": "text"
      },
      "source": [
        "<a href=\"https://colab.research.google.com/github/AvilaIzaias/CESAR---PYTHON/blob/main/Aula_01_exerc%C3%ADcios_1_8.ipynb\" target=\"_parent\"><img src=\"https://colab.research.google.com/assets/colab-badge.svg\" alt=\"Open In Colab\"/></a>"
      ]
    },
    {
      "cell_type": "markdown",
      "metadata": {
        "id": "9ujEVvoCTM6p"
      },
      "source": [
        "<img src=\"https://www.cesar.school/wp-content/uploads/2019/09/marca_cesar_school.png\" alt=\"drawing\" width=\"200\"/>\n",
        "\n",
        "# Python - **Exercícios da aula 1 (1 - 8) **\n",
        "\n",
        "---\n",
        "\n",
        "\n",
        "\n"
      ]
    },
    {
      "cell_type": "markdown",
      "metadata": {
        "id": "ALgn8jEOXI8m"
      },
      "source": [
        "# Exercícios\n",
        "\n",
        "1. Faça um Programa que mostre a mensagem \"Alo mundo\" na tela"
      ]
    },
    {
      "cell_type": "code",
      "metadata": {
        "id": "E-tm-Ac-dkKI",
        "colab": {
          "base_uri": "https://localhost:8080/"
        },
        "outputId": "e9913fdd-c4f7-4b72-b6e8-fc677de102b8"
      },
      "source": [
        "print(\"Alo mundo\")"
      ],
      "execution_count": null,
      "outputs": [
        {
          "output_type": "stream",
          "text": [
            "Alo mundo\n"
          ],
          "name": "stdout"
        }
      ]
    },
    {
      "cell_type": "markdown",
      "metadata": {
        "id": "H9Xmh3n0dku7"
      },
      "source": [
        "\n",
        "2. Faça um Programa que peça um número e então mostre a mensagem O número informado foi [número]."
      ]
    },
    {
      "cell_type": "code",
      "metadata": {
        "id": "oJxXXoQMePMm",
        "colab": {
          "base_uri": "https://localhost:8080/"
        },
        "outputId": "6602409b-87f4-4073-d492-c0664404ad37"
      },
      "source": [
        "x = input(\"Digite um número: \")\n",
        "print(f\"O número informado foi: {x}\")\n",
        "print(\"O número informado foi: %s\" %(x))\n",
        "print(f\"O número informado foi: {x}\")\n",
        "# as tres maneiras de mostrar o resultado na tela"
      ],
      "execution_count": null,
      "outputs": [
        {
          "output_type": "stream",
          "text": [
            "Digite um número: 666\n",
            "O número informado foi: 666\n",
            "O número informado foi: 666\n",
            "O número informado foi: 666\n"
          ],
          "name": "stdout"
        }
      ]
    },
    {
      "cell_type": "markdown",
      "metadata": {
        "id": "Mc8ww-KEdndf"
      },
      "source": [
        "\n",
        "3. Faça um Programa que peça dois números e imprima a soma."
      ]
    },
    {
      "cell_type": "code",
      "metadata": {
        "id": "SfwZe2zseO3m",
        "colab": {
          "base_uri": "https://localhost:8080/"
        },
        "outputId": "d730da1f-fd42-4f10-9df2-768c7006f0b5"
      },
      "source": [
        "a = int(input(\"Digite um número: \"))\n",
        "b = int(input(\"Digite outro número: \"))\n",
        "c = (a + b)\n",
        "print(c)"
      ],
      "execution_count": null,
      "outputs": [
        {
          "output_type": "stream",
          "text": [
            "Digite um número: 4\n",
            "Digite outro número: 6\n",
            "10\n"
          ],
          "name": "stdout"
        }
      ]
    },
    {
      "cell_type": "markdown",
      "metadata": {
        "id": "MfVY2KazdpxA"
      },
      "source": [
        "\n",
        "4. Faça um Programa que peça as 4 notas bimestrais e mostre a média."
      ]
    },
    {
      "cell_type": "code",
      "metadata": {
        "id": "B5dg4jyLeOV9",
        "colab": {
          "base_uri": "https://localhost:8080/"
        },
        "outputId": "c3aeb3bb-dffd-4bb8-d073-d11e998b3937"
      },
      "source": [
        "N1 = float(input(\"Média do 1º bimestre: \"))\n",
        "N2 = float(input(\"Média do 2º bimestre: \"))\n",
        "N3 = float(input(\"Média do 3º bimestre: \"))\n",
        "N4 = float(input(\"Média do 4º bimestre: \"))\n",
        "media = (N1 + N2 + N3 + N4)/4\n",
        "print(\"A média foi: \" , media)"
      ],
      "execution_count": null,
      "outputs": [
        {
          "output_type": "stream",
          "text": [
            "Média do 1º bimestre: 10\n",
            "Média do 2º bimestre: 5\n",
            "Média do 3º bimestre: 7\n",
            "Média do 4º bimestre: 8\n",
            "A média foi:  7.5\n"
          ],
          "name": "stdout"
        }
      ]
    },
    {
      "cell_type": "markdown",
      "metadata": {
        "id": "GYPjRaE1dsEo"
      },
      "source": [
        "\n",
        "5. Faça um Programa que converta metros para centímetros."
      ]
    },
    {
      "cell_type": "code",
      "metadata": {
        "id": "bDTpB4hxeOAS",
        "colab": {
          "base_uri": "https://localhost:8080/"
        },
        "outputId": "fb08b00f-8a1a-45d6-df60-b564b3fe40b7"
      },
      "source": [
        "# cada cm = 100 m e 1m = 0,01 cm\n",
        "i = float(input(\"Digite quanto(s) metro(s) a ser convertido: \"))\n",
        "cm = i * 100.0\n",
        "print(\"Valor em metros = \", i , \" m\", \"Convertido: \", cm , \"cm\")\n"
      ],
      "execution_count": null,
      "outputs": [
        {
          "output_type": "stream",
          "text": [
            "Digite quanto(s) metro(s) a ser convertido: 10\n",
            "Valor em metros =  10.0  m Convertido:  1000.0 cm\n"
          ],
          "name": "stdout"
        }
      ]
    },
    {
      "cell_type": "markdown",
      "metadata": {
        "id": "Iw_6PGlvdt2P"
      },
      "source": [
        "\n",
        "6. Faça um Programa que peça o raio de um círculo, calcule e mostre sua área."
      ]
    },
    {
      "cell_type": "code",
      "metadata": {
        "id": "QBB456-ceNox",
        "colab": {
          "base_uri": "https://localhost:8080/"
        },
        "outputId": "df7a429c-d059-4d29-f255-a97512b2856d"
      },
      "source": [
        "#área de um círculo é igual a Pi * r ** r\n",
        "r = float(input(\"Digite o raio do círculo\"))\n",
        "pi = 3.14\n",
        "area = pi * (r ** 2)\n",
        "print(area)"
      ],
      "execution_count": null,
      "outputs": [
        {
          "output_type": "stream",
          "text": [
            "Digite o raio do círculo2\n",
            "12.56\n"
          ],
          "name": "stdout"
        }
      ]
    },
    {
      "cell_type": "markdown",
      "metadata": {
        "id": "6WX2yHw8dvgh"
      },
      "source": [
        "\n",
        "7. Faça um Programa que calcule a área de um quadrado, em seguida mostre o dobro desta área para o usuário."
      ]
    },
    {
      "cell_type": "code",
      "metadata": {
        "id": "bq1uTrxieNIi",
        "colab": {
          "base_uri": "https://localhost:8080/"
        },
        "outputId": "db1716af-19ba-4671-e43c-c261d433f9ea"
      },
      "source": [
        "l = int(input(\"Digite a medida do lado do quadrado: \"))\n",
        "area = l ** 2\n",
        "print(\"O dobro da área do quadrado é: \" , area * 2)\n"
      ],
      "execution_count": null,
      "outputs": [
        {
          "output_type": "stream",
          "text": [
            "Digite a medida do lado do quadrado: 3\n",
            "O dobro da área do quadrado é:  18\n"
          ],
          "name": "stdout"
        }
      ]
    },
    {
      "cell_type": "markdown",
      "metadata": {
        "id": "OHtr_FwmdxNL"
      },
      "source": [
        "\n",
        "8. Faça um Programa que pergunte quanto você ganha por hora e o número de horas trabalhadas no mês. Calcule e mostre o total do seu salário no referido mês."
      ]
    },
    {
      "cell_type": "code",
      "metadata": {
        "id": "r8eK89x0eMzi",
        "colab": {
          "base_uri": "https://localhost:8080/"
        },
        "outputId": "f227cf26-3c60-4c1c-8975-2be682faf986"
      },
      "source": [
        "vpH = float(input(\"Quanto você ganha por hora? \"))\n",
        "nhM = int(input(\"Quantas horas você trabalha por mês?\"))\n",
        "salMes = vpH * nhM\n",
        "print(\"O salário no mês foi de: R$ \", salMes)"
      ],
      "execution_count": null,
      "outputs": [
        {
          "output_type": "stream",
          "text": [
            "Quanto você ganha por hora? 2\n",
            "Quantas horas você trabalha por mês?100\n",
            "O salário no mês foi de: R$  200.0\n"
          ],
          "name": "stdout"
        }
      ]
    }
  ]
}