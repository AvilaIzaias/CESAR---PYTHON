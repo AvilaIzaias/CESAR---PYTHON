{
  "nbformat": 4,
  "nbformat_minor": 0,
  "metadata": {
    "colab": {
      "name": "Aula 02 - Operadores lógicos e Estrutura Condicional",
      "provenance": [],
      "collapsed_sections": [
        "9ujEVvoCTM6p"
      ],
      "include_colab_link": true
    },
    "kernelspec": {
      "name": "python3",
      "display_name": "Python 3"
    }
  },
  "cells": [
    {
      "cell_type": "markdown",
      "metadata": {
        "id": "view-in-github",
        "colab_type": "text"
      },
      "source": [
        "<a href=\"https://colab.research.google.com/github/AvilaIzaias/CESAR---PYTHON/blob/main/Aula_02_Operadores_l%C3%B3gicos_e_Estrutura_Condicional.ipynb\" target=\"_parent\"><img src=\"https://colab.research.google.com/assets/colab-badge.svg\" alt=\"Open In Colab\"/></a>"
      ]
    },
    {
      "cell_type": "markdown",
      "metadata": {
        "id": "9ujEVvoCTM6p"
      },
      "source": [
        "<img src=\"https://www.cesar.school/wp-content/uploads/2019/09/marca_cesar_school.png\" alt=\"drawing\" width=\"200\"/>\n",
        "\n",
        "# Python - **Aula 02**\n",
        "\n",
        "---\n",
        "\n",
        "- Entender conceitos básicos sobre programação;\n",
        "- Conhecer a linguagem Python;\n",
        "- Criar seu primeiro programa em Python;\n"
      ]
    },
    {
      "cell_type": "markdown",
      "metadata": {
        "id": "zAWgCzEXyWGU"
      },
      "source": [
        "# Operadores Lógicos"
      ]
    },
    {
      "cell_type": "markdown",
      "metadata": {
        "id": "rzDS1hUgwxsN"
      },
      "source": [
        "## Operadores Relacionais\n",
        "\n",
        "Uma condição é o estabelecimento de uma relação lógica entre dois elementos. Para definir uma relação lógica é necessário usar operadores relacionais. Uma relação lógica (comparação) retorna somente os valores verdadeiro ou falso.\n",
        "\n",
        "* Igual a: `x == y`\n",
        "* Maior que: `x > y`\n",
        "* Menor que: `x < y`\n",
        "* Maior ou igual a: `x >= y`\n",
        "* Menor ou igual a: `x <= y`\n",
        "* Diferente de: `x != y`"
      ]
    },
    {
      "cell_type": "code",
      "metadata": {
        "id": "LrgPw5AZWYBY",
        "colab": {
          "base_uri": "https://localhost:8080/"
        },
        "outputId": "720fc1c3-aac9-49a5-c6fc-8099b0f8f08b"
      },
      "source": [
        " 12 >= 12"
      ],
      "execution_count": null,
      "outputs": [
        {
          "output_type": "execute_result",
          "data": {
            "text/plain": [
              "True"
            ]
          },
          "metadata": {
            "tags": []
          },
          "execution_count": 3
        }
      ]
    },
    {
      "cell_type": "markdown",
      "metadata": {
        "id": "AkKDg0Lxw3c4"
      },
      "source": [
        "## Operadores Lógicos\n",
        "São utilizados para uma mesma tomada de decisão que necessite de mais de uma condição. Também são conhecidos como operadores booleanos. Operadores lógicos retornam somente os valores verdadeiro ou falso.\n",
        "\n",
        "| Operador Lógico | Função    | Prioridade |\n",
        "|-----------------|-----------|---------------------|\n",
        "| `NOT`           | Negação   | 1                   |\n",
        "| `AND`           | Conjunção | 2                   |\n",
        "| `OR`            | Disjunção | 3                   |"
      ]
    },
    {
      "cell_type": "code",
      "metadata": {
        "id": "DRUv3H5AsF8V",
        "colab": {
          "base_uri": "https://localhost:8080/"
        },
        "outputId": "20ad18cd-3f98-4b8c-d725-7250546dd9fc"
      },
      "source": [
        "x = 1\n",
        "y = 3\n",
        "z = 5\n",
        "w = 2\n",
        "\n",
        "print(z > w and w > y)  # False\n",
        "print(z > w or w > y)   # True\n",
        "print(not y + w == z)   # False"
      ],
      "execution_count": null,
      "outputs": [
        {
          "output_type": "stream",
          "text": [
            "False\n",
            "True\n",
            "False\n"
          ],
          "name": "stdout"
        }
      ]
    },
    {
      "cell_type": "code",
      "metadata": {
        "id": "u4NMl4X0w43O",
        "colab": {
          "base_uri": "https://localhost:8080/"
        },
        "outputId": "333cedc7-8e74-4f5f-eed6-5e5da1ea185a"
      },
      "source": [
        "n = 5\n",
        "#1 > n < 7\n",
        "1 < n and n < 7"
      ],
      "execution_count": null,
      "outputs": [
        {
          "output_type": "execute_result",
          "data": {
            "text/plain": [
              "True"
            ]
          },
          "metadata": {
            "tags": []
          },
          "execution_count": 11
        }
      ]
    },
    {
      "cell_type": "code",
      "metadata": {
        "id": "_QfX5hX0w9do",
        "colab": {
          "base_uri": "https://localhost:8080/"
        },
        "outputId": "8c86ec44-fa4f-4544-e4a9-1865b4049d12"
      },
      "source": [
        "1 > 5 or 5 < 7"
      ],
      "execution_count": null,
      "outputs": [
        {
          "output_type": "execute_result",
          "data": {
            "text/plain": [
              "True"
            ]
          },
          "metadata": {
            "tags": []
          },
          "execution_count": 12
        }
      ]
    },
    {
      "cell_type": "code",
      "metadata": {
        "id": "U4xFIRbipw2g",
        "colab": {
          "base_uri": "https://localhost:8080/"
        },
        "outputId": "c87614eb-8abe-4b05-b18b-b9d474038660"
      },
      "source": [
        "a = True\n",
        "b = 8 > 4\n",
        "not a and b"
      ],
      "execution_count": null,
      "outputs": [
        {
          "output_type": "execute_result",
          "data": {
            "text/plain": [
              "False"
            ]
          },
          "metadata": {
            "tags": []
          },
          "execution_count": 13
        }
      ]
    },
    {
      "cell_type": "markdown",
      "metadata": {
        "id": "WsXf_ireWQZd"
      },
      "source": [
        "#Estruturas Condicionais\n",
        "\n",
        "Em Python, é possível controlar o fluxo de execução do código usando estruturas condicionais.\n",
        "\n"
      ]
    },
    {
      "cell_type": "markdown",
      "metadata": {
        "id": "zmalBcHrxAkw"
      },
      "source": [
        "## Estrutura Condicional Simples\n",
        "\n",
        "- if\n",
        "\n",
        "```python\n",
        "if condição:\n",
        "  # se for verdade\n",
        "```\n",
        "\n"
      ]
    },
    {
      "cell_type": "code",
      "metadata": {
        "id": "12kCjeeyxEHI",
        "colab": {
          "base_uri": "https://localhost:8080/"
        },
        "outputId": "4dcbfc39-276e-40ac-8664-2a99cd2075b7"
      },
      "source": [
        "if (5 > 2):\n",
        "  print('Verdadeiro')\n",
        "  print('Muito verdadeiro mesmo!')\n",
        "\n",
        "print('Sempre vai ser exbido')"
      ],
      "execution_count": null,
      "outputs": [
        {
          "output_type": "stream",
          "text": [
            "Verdadeiro\n",
            "Muito verdadeiro mesmo!\n",
            "Sempre vai ser exbido\n"
          ],
          "name": "stdout"
        }
      ]
    },
    {
      "cell_type": "markdown",
      "metadata": {
        "id": "4lZ3gYBwxIqw"
      },
      "source": [
        "## Estrutura Condicional Composta\n",
        "\n",
        "- if\n",
        "- elif\n",
        "- else\n",
        "\n",
        "```python\n",
        "if condição:\n",
        "  # se for verdade\n",
        "else:\n",
        "  # se não for verdade\n",
        "```\n",
        "\n",
        "```python\n",
        "if condição:\n",
        "  # se for verdade\n",
        "elif outra_condicao:\n",
        "  # se a outra condição for verdadeira\n",
        "else:\n",
        "  # se não for verdade\n",
        "```"
      ]
    },
    {
      "cell_type": "code",
      "metadata": {
        "id": "8CDRVqpCxL5N",
        "colab": {
          "base_uri": "https://localhost:8080/"
        },
        "outputId": "7ad640e2-cec7-4904-b290-e9d5492c87c9"
      },
      "source": [
        "nome = 'torquato'\n",
        "\n",
        "if nome == 'erick':\n",
        "  print('Pode passar')\n",
        "else:\n",
        "  print('Não pode passar')"
      ],
      "execution_count": null,
      "outputs": [
        {
          "output_type": "stream",
          "text": [
            "Não pode passar\n"
          ],
          "name": "stdout"
        }
      ]
    },
    {
      "cell_type": "code",
      "metadata": {
        "id": "vKb7Mu1SxN8-",
        "colab": {
          "base_uri": "https://localhost:8080/"
        },
        "outputId": "a6c91aaf-7383-4c33-b352-a588148a542c"
      },
      "source": [
        "nome = 'silvio'\n",
        "\n",
        "if nome == 'erick':\n",
        "  print('Pode passar')\n",
        "elif nome == 'torquato':\n",
        "  print('Pode passar e levar 2 reais')\n",
        "else:\n",
        "  print('Não pode passar')"
      ],
      "execution_count": null,
      "outputs": [
        {
          "output_type": "stream",
          "text": [
            "Não pode passar\n"
          ],
          "name": "stdout"
        }
      ]
    },
    {
      "cell_type": "markdown",
      "metadata": {
        "id": "ONQEKPoD5WRt"
      },
      "source": [
        "## IF inline\n",
        "\n",
        "(caso verdadeiro) if (condição) else (caso falso)"
      ]
    },
    {
      "cell_type": "code",
      "metadata": {
        "id": "KRa8D_vB5l_B",
        "colab": {
          "base_uri": "https://localhost:8080/"
        },
        "outputId": "55696153-c500-41f2-af9b-098769fa6a34"
      },
      "source": [
        "nome = 'torquato'\n",
        "resultado = 'Pode passar' if nome == 'erick' else 'Não pode passar'\n",
        "print(resultado)\n",
        "\n",
        "resultado = ''\n",
        "if nome == 'erick':\n",
        "  resultado = 'Pode passar'\n",
        "else:\n",
        "  resultado = 'Não pode passar'"
      ],
      "execution_count": null,
      "outputs": [
        {
          "output_type": "stream",
          "text": [
            "Não pode passar\n"
          ],
          "name": "stdout"
        }
      ]
    },
    {
      "cell_type": "markdown",
      "metadata": {
        "id": "L1_5F0TnxazF"
      },
      "source": [
        "# Exercícios\n"
      ]
    },
    {
      "cell_type": "markdown",
      "metadata": {
        "id": "ALgn8jEOXI8m"
      },
      "source": [
        "1. Informe a saída das seguintes expressões:\n",
        "\n",
        "a)\n",
        "```python\n",
        "3 < 8\n",
        "```\n",
        "b)\n",
        "```python\n",
        "a = 12\n",
        "b = a - 10\n",
        "a > b\n",
        "```\n",
        "c)\n",
        "```python\n",
        "16 != 16\n",
        "```\n",
        "d)\n",
        "```python\n",
        "2 < 5 > 10\n",
        "```\n",
        "e)\n",
        "```python\n",
        "3 <= 5 >= 5\n",
        "```"
      ]
    },
    {
      "cell_type": "markdown",
      "metadata": {
        "id": "38fv7groq1TP"
      },
      "source": [
        "2. Verifique se as igualdades abaixo são verdadeiras:"
      ]
    },
    {
      "cell_type": "markdown",
      "metadata": {
        "id": "NVrRDMptq-XV"
      },
      "source": [
        "**(a)** $2 \\times 2.0 = 4$"
      ]
    },
    {
      "cell_type": "code",
      "metadata": {
        "id": "WUKZ6b78rA7V",
        "colab": {
          "base_uri": "https://localhost:8080/"
        },
        "outputId": "63c4ac52-6e29-4b96-8e35-3b4bd3a39540"
      },
      "source": [
        "2 * 2 == 4"
      ],
      "execution_count": null,
      "outputs": [
        {
          "output_type": "execute_result",
          "data": {
            "text/plain": [
              "True"
            ]
          },
          "metadata": {
            "tags": []
          },
          "execution_count": 27
        }
      ]
    },
    {
      "cell_type": "markdown",
      "metadata": {
        "id": "tOJCnahPrD-W"
      },
      "source": [
        "**(b)** $2 \\times 3 = 5$"
      ]
    },
    {
      "cell_type": "code",
      "metadata": {
        "id": "GkMDHX0vrEqZ",
        "colab": {
          "base_uri": "https://localhost:8080/"
        },
        "outputId": "0d6c7de0-219c-49b6-9599-0a48b04f93b6"
      },
      "source": [
        "2 * 3 == 5"
      ],
      "execution_count": null,
      "outputs": [
        {
          "output_type": "execute_result",
          "data": {
            "text/plain": [
              "False"
            ]
          },
          "metadata": {
            "tags": []
          },
          "execution_count": 28
        }
      ]
    },
    {
      "cell_type": "markdown",
      "metadata": {
        "id": "bmiounPQrE7N"
      },
      "source": [
        "**(c)** $4a + 3 = b$, para $a=3$ e $b=15$ (primeiro declare as variáveis `a` e `b`)"
      ]
    },
    {
      "cell_type": "code",
      "metadata": {
        "id": "gYX4EINtrHR9",
        "colab": {
          "base_uri": "https://localhost:8080/"
        },
        "outputId": "dddc0880-3287-4854-c2be-7db6eed84ded"
      },
      "source": [
        "a = 3\n",
        "b = 15\n",
        "\n",
        "4 * a + 3 == b"
      ],
      "execution_count": null,
      "outputs": [
        {
          "output_type": "execute_result",
          "data": {
            "text/plain": [
              "True"
            ]
          },
          "metadata": {
            "tags": []
          },
          "execution_count": 29
        }
      ]
    },
    {
      "cell_type": "markdown",
      "metadata": {
        "id": "8cxnTi98vCBA"
      },
      "source": [
        "3. Faça um programa que calcule as raízes de uma equação do segundo grau, na forma ax2 + bx + c. O programa deverá pedir os valores de a, b e c e fazer as consistências, informando ao usuário nas seguintes situações:\n",
        "\n",
        "a- Se o usuário informar o valor de A igual a zero, a equação não é do segundo grau e o programa não deve fazer pedir os demais valores, sendo encerrado;\n",
        "\n",
        "b- Se o delta calculado for negativo, a equação não possui raizes reais. Informe ao usuário e encerre o programa;\n",
        "\n",
        "c- Se o delta calculado for igual a zero a equação possui apenas uma raiz real; informe-a ao usuário;\n",
        "\n",
        "d- Se o delta for positivo, a equação possui duas raiz reais; informe-as ao usuário;"
      ]
    },
    {
      "cell_type": "code",
      "metadata": {
        "id": "OXnitl8yvPel"
      },
      "source": [
        "import math\n",
        "\n",
        "a = int(input(\"Informe o coeficiente a: \"))\n",
        "\n",
        "if (a==0):\n",
        "  print(\"A equação não é de segundo grau. Tchau\")\n",
        "else:\n",
        "  b = int(input(\"Informe o coeficiente b: \"))\n",
        "  c = int(input(\"Informe o coeficiente c: \"))\n",
        "\n",
        "  delta = b**2 - (4*a*c)\n",
        "\n",
        "  if (delta < 0):\n",
        "    print(\"Delta menor que zero. Não possui raízes reais, somente imaginárias. Tchau\")\n",
        "  elif (delta == 0):\n",
        "    raiz = -b / (2 * a)\n",
        "    print(f\"Delta é igual a 0, raiz={raiz}\")\n",
        "  else:\n",
        "    raiz1 = (-b + math.sqrt(delta)) / (2 * a)\n",
        "    raiz2 = (-b - math.sqrt(delta)) / (2 * a)\n",
        "    print(f\"Raizes: {raiz1} e {raiz2}\")\n",
        "\n"
      ],
      "execution_count": null,
      "outputs": []
    },
    {
      "cell_type": "markdown",
      "metadata": {
        "id": "Hjpnzu9HvQiU"
      },
      "source": [
        "4. Faça um Programa que peça um número correspondente a um determinado ano e em seguida informe se este ano é ou não bissexto."
      ]
    },
    {
      "cell_type": "code",
      "metadata": {
        "id": "Lh2LloRVvTvc"
      },
      "source": [
        "ano = int(input(\"Digite o ano\"))\n",
        "\n",
        "if ((ano%4==0 and ano%100 != 0) or (ano%400==0)):\n",
        "  print(\"Bissexto\")\n",
        "else:\n",
        "  print(\"Não bissexto\")"
      ],
      "execution_count": null,
      "outputs": []
    },
    {
      "cell_type": "markdown",
      "metadata": {
        "id": "XunttGjtvUH0"
      },
      "source": [
        "5. Faça um Programa que peça uma data no formato dd/mm/aaaa e determine se a mesma é uma data válida."
      ]
    },
    {
      "cell_type": "code",
      "metadata": {
        "id": "2UzoTDudvUfr",
        "colab": {
          "base_uri": "https://localhost:8080/"
        },
        "outputId": "b09c0355-e38a-4daf-8171-381b63539c55"
      },
      "source": [
        "dia = int(input(\"Dia: \"))\n",
        "mes = int(input(\"Mes: \"))\n",
        "ano = input(\"Ano: \")\n",
        "\n",
        "validade = False\n",
        "\n",
        "if (mes==1 or mes==3 or mes == 5 or mes==7 or mes==8 or mes==10 or mes==12):\n",
        "  if (0 < dia <= 31):\n",
        "    validade = True\n",
        "elif (mes==4 or mes==6 or mes==9 or mes==11):\n",
        "  if (0 < dia <= 30):\n",
        "    validade = True\n",
        "elif mes==2:\n",
        "  if ((ano%4==0 and ano%100 != 0) or (ano%400==0)):\n",
        "    if (0 < dia <= 29):\n",
        "      validade = True\n",
        "  elif (0 < dia <= 28):\n",
        "    validade = True\n",
        "    \n",
        "if (validade):\n",
        "  print(f\"Data válida: {dia}/{mes}/{ano}\")"
      ],
      "execution_count": null,
      "outputs": [
        {
          "output_type": "stream",
          "text": [
            "Dia: 03\n",
            "Mes: 08\n",
            "Ano: 8791327981327\n",
            "Data válida: 3/8/8791327981327\n"
          ],
          "name": "stdout"
        }
      ]
    },
    {
      "cell_type": "markdown",
      "metadata": {
        "id": "TgyLzECrvUnP"
      },
      "source": [
        "6. Faça um Programa que leia um número e exiba o dia correspondente da semana. (1-Domingo, 2- Segunda, etc.), se digitar outro valor deve aparecer valor inválido."
      ]
    },
    {
      "cell_type": "code",
      "metadata": {
        "id": "aDvuInTgvifq"
      },
      "source": [
        ""
      ],
      "execution_count": null,
      "outputs": []
    },
    {
      "cell_type": "markdown",
      "metadata": {
        "id": "Si_23BWYxrO5"
      },
      "source": [
        "7. Crie um programa para um circo, no qual dada a idade de uma pessoa, seja indicado o valor do ingresso segundo as regras:\n",
        "\n",
        "a) A entrada para qualquer pessoa com menos de 4 anos ou maior que 60 é gratuita;\n",
        "\n",
        "b) a entrada para qualquer pessoa com idade entre 4 e 18 custa 20 reais;\n",
        "\n",
        "c) a entrada para qualquer pessoa com 18 ou mais custa 30 reais;\n",
        "\n",
        "d) estudantes e professores pagam meia-entrada."
      ]
    },
    {
      "cell_type": "code",
      "metadata": {
        "id": "pNZbzASKxtzV"
      },
      "source": [
        ""
      ],
      "execution_count": null,
      "outputs": []
    },
    {
      "cell_type": "markdown",
      "metadata": {
        "id": "FR7yDSeiqG3C"
      },
      "source": [
        "8. Complete o código na célula abaixo para imprimir uma mensagem informando se um aluno foi aprovado ou reprovado em uma disciplina com base em sua nota final. A nota mínima necessária para aprovação é  5 ."
      ]
    },
    {
      "cell_type": "code",
      "metadata": {
        "id": "SOYR5rb_qJeM"
      },
      "source": [
        "notaAluno = 0 # insira aqui a nota do aluno\n",
        "\n",
        "# Complete o código abaixo\n",
        "if :\n",
        "    print(\" \")\n",
        "else:\n",
        "    print(\" \")"
      ],
      "execution_count": null,
      "outputs": []
    },
    {
      "cell_type": "markdown",
      "metadata": {
        "id": "Hm-cqUzIqdiM"
      },
      "source": [
        "9. Construa uma pequena **chave dicotômica** para identificar uma determinada planta como membro de um dos principais grupos: *Bryophyta*, *Pteridophyta*, *Gymnospermae* ou *Angiospermae*.\n",
        "A identificação se dá com base na presença (1) ou ausência (0) de três caracteres: **vascularização**, **sementes** e **flores**. \n",
        "Utilize a tabela abaixo como referência."
      ]
    },
    {
      "cell_type": "markdown",
      "metadata": {
        "id": "rb-IaXMLqmwB"
      },
      "source": [
        "| Grupo | Vascularização| Sementes| Flores |\n",
        "|--|--|--|--|\n",
        "| Bryophyta | 0 | 0 | 0 |\n",
        "| Pteridophyta | 1| 0 | 0 |\n",
        "| Gymnospermae | 1 | 1 | 0 |\n",
        "| Angiospermae | 1 | 1 | 1 |\n"
      ]
    },
    {
      "cell_type": "code",
      "metadata": {
        "id": "zoQsaFZjqcxA"
      },
      "source": [
        "# Estas variáveis armazenam a presença (1) ou ausência (0) de cada caractere\n",
        "vasc = 0\n",
        "sem = 0\n",
        "flor = 0\n",
        "\n",
        "# Seu código aqui"
      ],
      "execution_count": null,
      "outputs": []
    },
    {
      "cell_type": "markdown",
      "metadata": {
        "id": "aNI2VzpEsuSo"
      },
      "source": [
        "10. Um posto está vendendo combustíveis com a seguinte tabela de descontos:\n",
        "\n",
        "a. Álcool:\n",
        "\n",
        "    até 20 litros, desconto de 3% por litro\n",
        "    acima de 20 litros, desconto de 5% por litro\n",
        "\n",
        "b. Gasolina:\n",
        "\n",
        "    até 20 litros, desconto de 4% por litro\n",
        "    acima de 20 litros, desconto de 6% por litro\n",
        "\n",
        "Escreva um algoritmo que leia o número de litros vendidos, o tipo de combustível (codificado da seguinte forma: A-álcool, G-gasolina), calcule e imprima o valor a ser pago pelo cliente sabendo-se que o preço do litro da gasolina é 2.50 o preço do litro do álcool é 1,90."
      ]
    },
    {
      "cell_type": "code",
      "metadata": {
        "id": "D3MJKrgxtlzb"
      },
      "source": [
        ""
      ],
      "execution_count": null,
      "outputs": []
    },
    {
      "cell_type": "markdown",
      "metadata": {
        "id": "wpMhfBBetmCa"
      },
      "source": [
        "11. Faça um Programa que leia 2 números e em seguida pergunte ao usuário qual operação ele deseja realizar. O resultado da operação deve ser acompanhado de uma frase que diga se o número é:\n",
        "\n",
        "a. par ou ímpar;\n",
        "\n",
        "b. positivo ou negativo;\n",
        "\n",
        "c. inteiro ou decimal."
      ]
    },
    {
      "cell_type": "code",
      "metadata": {
        "id": "ypcUM1gvtuVY"
      },
      "source": [
        ""
      ],
      "execution_count": null,
      "outputs": []
    }
  ]
}