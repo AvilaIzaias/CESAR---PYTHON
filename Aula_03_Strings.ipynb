{
  "nbformat": 4,
  "nbformat_minor": 0,
  "metadata": {
    "colab": {
      "name": "Aula 03 - Strings",
      "provenance": [],
      "collapsed_sections": [],
      "include_colab_link": true
    },
    "kernelspec": {
      "name": "python3",
      "display_name": "Python 3"
    },
    "language_info": {
      "name": "python"
    }
  },
  "cells": [
    {
      "cell_type": "markdown",
      "metadata": {
        "id": "view-in-github",
        "colab_type": "text"
      },
      "source": [
        "<a href=\"https://colab.research.google.com/github/AvilaIzaias/CESAR---PYTHON/blob/main/Aula_03_Strings.ipynb\" target=\"_parent\"><img src=\"https://colab.research.google.com/assets/colab-badge.svg\" alt=\"Open In Colab\"/></a>"
      ]
    },
    {
      "cell_type": "markdown",
      "metadata": {
        "id": "tRvcy-qw7juT"
      },
      "source": [
        "<img src=\"https://www.cesar.school/wp-content/uploads/2019/09/marca_cesar_school.png\" alt=\"drawing\" width=\"200\"/>\n",
        "\n",
        "# Python - **Aula 03**\n",
        "\n",
        "---\n",
        "\n",
        "- Manipulação de Strings\n",
        "- Containers de dados\n",
        "  - Lista\n",
        "  - Sets\n",
        "  - Tupla\n",
        "  - Dicionário\n"
      ]
    },
    {
      "cell_type": "markdown",
      "metadata": {
        "id": "w4q08h5q8Joc"
      },
      "source": [
        "## str\n",
        "\n",
        "Em Python, textos são armazenados como uma sequência de caracteres [Unicode](https://pt.wikipedia.org/wiki/Unicode). Essa seguência, conhecida como **String** é representada no Python com o tipo `str`.\n",
        "\n",
        "Ex.: `'Exemplo de Texto'`\n",
        "\n",
        "Por ser uma sequência, é possivel acessar cada caracter através de um índice. Além disso, o tipo `str` fornece uma variedade de métodos de manipulação desses caracteres.\n",
        "\n",
        "Para criar uma variável `str`, é possível usar aspas simples, duplas ou \"triplas\":"
      ]
    },
    {
      "cell_type": "code",
      "metadata": {
        "id": "kV7Yrphu7SqF"
      },
      "source": [
        "# Aspas simples\n",
        "sim = 'Simples'\n",
        "\n",
        "# Aspas duplas\n",
        "dup = \"Duplas\"\n",
        "\n",
        "# Aspas triplas*\n",
        "tri = '''Triplas\n",
        "podem\n",
        "ter várias\n",
        "linhas'''\n",
        "\n",
        "print(sim)\n",
        "print(dup)\n",
        "print(tri)"
      ],
      "execution_count": null,
      "outputs": []
    },
    {
      "cell_type": "markdown",
      "metadata": {
        "id": "BrZTwMpu-FEq"
      },
      "source": [
        "## Caracteres de Escape\n",
        "\n",
        "São chamados de **caracteres de escape** marcadores usados para acessar caracteres do código Unicode. Para escreve-los, use `contra-barra + caractere`:\n",
        "\n",
        "| sintaxe | descrição |\n",
        "|---------|-----------|\n",
        "| `\\n` | Quebra de linha |\n",
        "| `\\t` | Tabulação |\n",
        "| `\\'` | Aspas simples |\n",
        "| `\\\"` | Aspas duplas |\n",
        "| `\\\\` | Aspas duplas |\n",
        "\n",
        "> Obs.: A interpretação dos caracteres de escape pode ser \"desativada\" usando Raw Strings, marcadas com um `r` antes das aspas:\n",
        "```python\n",
        "text = r'Exemplo de texto\\nSem caracteres de escape'\n",
        "```"
      ]
    },
    {
      "cell_type": "code",
      "metadata": {
        "id": "NzRBt9dw99n-"
      },
      "source": [
        "# caracteres de escape\n",
        "\n",
        "\n",
        "# r-strings\n",
        "\n"
      ],
      "execution_count": null,
      "outputs": []
    },
    {
      "cell_type": "markdown",
      "metadata": {
        "id": "ZxcEKfujBVqL"
      },
      "source": [
        "## Função embutida `len()`\n",
        "\n",
        "A função `len()` retorna a quantidade de itens dentro de um \"container\". Como as strings de Python são coleções de caracteres, a função `len()` quando recebe uma string, retorna a quantade de caracteres do texto.\n",
        "\n",
        "```python\n",
        "text = 'supercalifragilisticexpialidocious'\n",
        "print(len(text)) # 34\n",
        "```"
      ]
    },
    {
      "cell_type": "code",
      "metadata": {
        "id": "dK0Nos7pBsTo"
      },
      "source": [
        ""
      ],
      "execution_count": null,
      "outputs": []
    },
    {
      "cell_type": "markdown",
      "metadata": {
        "id": "lAD8Fh2NCzIL"
      },
      "source": [
        "## Indexaçaõ de Strings\n",
        "\n",
        "<!--![Hello](https://developers.google.com/edu/python/images/hello.png)-->\n",
        "\n",
        "|P|y|t|h|o|n|\n",
        "|-|-|-|-|-|-|\n",
        "|0|1|2|3|4|5|6|\n",
        "|-6|-5|-4|-3|-2|-1|\n",
        "\n",
        "Cada caractere dentro de uma string pode ser acessado pela sua posição (índice). Esse *index* pode ser positivo ou negativo.\n",
        "\n",
        "```python\n",
        "py = 'Python'\n",
        "py[3] # h\n",
        "```\n",
        "\n",
        "Além de um caractere específico acessado pela posição, é possível acessar fazer o *fatiamento*. Fatiar permite que você obtenha *substring*:\n",
        "\n",
        "```python\n",
        "py[0:2] # caracteres da posição 0 (incluído) até 2 (excluído)\n",
        "py[2:5] # caracteres da posição 2 (incluído) até 5 (excluído)\n",
        "```\n",
        "\n",
        "Ainda existe uma outra notação que permite acessar substrings de uma posição até outra determinando o passo:\n",
        "\n",
        "```python\n",
        "text = 'Só sei que nada sei'\n",
        "text[0:20:2] # caracteres da posição 0 (incluído) até 20 (excluído), passo 2\n",
        "```\n",
        "\n",
        "> Obs.: Não existe um tipo \"caractere\". Em Python um caracter é uma string que possui tamanho 1."
      ]
    },
    {
      "cell_type": "code",
      "metadata": {
        "id": "HGPH61z6GE4s"
      },
      "source": [
        "# Posição por index\n",
        "\n",
        "\n",
        "# Substring\n",
        "\n",
        "\n",
        "# Substring com passo\n",
        "\n",
        "\n",
        "# Substring invertida com passo\n",
        "\n"
      ],
      "execution_count": null,
      "outputs": []
    },
    {
      "cell_type": "markdown",
      "metadata": {
        "id": "0T9hcreaHoIb"
      },
      "source": [
        "## str.find()\n",
        "\n",
        "Retorna a posição de uma determinada substring procurada.\n",
        "\n",
        "Se o valor retornado for:\n",
        "- `>= 0` : Substring encontrado numa posição específica\n",
        "- `< 0` : Substring não encontrado"
      ]
    },
    {
      "cell_type": "code",
      "metadata": {
        "id": "kCyw4bQsHxfp"
      },
      "source": [
        ""
      ],
      "execution_count": null,
      "outputs": []
    },
    {
      "cell_type": "markdown",
      "metadata": {
        "id": "PfIqf0E0IYoT"
      },
      "source": [
        "## str.count()\n",
        "\n",
        "Retorna a quantidade de ocorrências de determinada substring."
      ]
    },
    {
      "cell_type": "code",
      "metadata": {
        "id": "JuXSls5wJNU0"
      },
      "source": [
        ""
      ],
      "execution_count": null,
      "outputs": []
    },
    {
      "cell_type": "markdown",
      "metadata": {
        "id": "xz5Cg49fJP_M"
      },
      "source": [
        "## Operações com Strings\n",
        "\n",
        "> ⚠ Strings em Python são imutáveis, o que signifca que atribuir um valor a uma posição indexada irá resultar em um erro.\n",
        "\n",
        "Os seguintes operadores podem ser usados com strings:\n",
        "\n",
        "- `+` - Concatenação\n",
        "- `*` - Repetição"
      ]
    },
    {
      "cell_type": "code",
      "metadata": {
        "id": "aSMaMv76M7w-"
      },
      "source": [
        ""
      ],
      "execution_count": null,
      "outputs": []
    },
    {
      "cell_type": "markdown",
      "metadata": {
        "id": "7HX9iZyjM-F7"
      },
      "source": [
        "## str.lower() e str.upper()\n",
        "\n",
        "- `.lower()` - Retorna uma nova string com caracteres em maiúsculo\n",
        "- `.upper()` - Retorna uma nova string com caracteres em minúsculo"
      ]
    },
    {
      "cell_type": "code",
      "metadata": {
        "id": "jqhQ9-IpNd5L"
      },
      "source": [
        ""
      ],
      "execution_count": null,
      "outputs": []
    },
    {
      "cell_type": "markdown",
      "metadata": {
        "id": "PN-C0mXFNeR0"
      },
      "source": [
        "## str.split()\n",
        "\n",
        "Retorna uma lista de substrings dividido por um separador. Se nenhum parâmetro for passado, o separador (ou delimitador) adotado é o espaço em branco."
      ]
    },
    {
      "cell_type": "code",
      "metadata": {
        "id": "YD3qFXcHN83D"
      },
      "source": [
        ""
      ],
      "execution_count": null,
      "outputs": []
    },
    {
      "cell_type": "markdown",
      "metadata": {
        "id": "42qxIR7TOZ_G"
      },
      "source": [
        "## str.replace()\n",
        "\n",
        "Retorna uma nova string com um texto substituído por outro.\n",
        "\n",
        "```python\n",
        "str.replace('old', 'new')\n",
        "```"
      ]
    },
    {
      "cell_type": "code",
      "metadata": {
        "id": "YTqjBSxxO1Sl"
      },
      "source": [
        ""
      ],
      "execution_count": null,
      "outputs": []
    }
  ]
}