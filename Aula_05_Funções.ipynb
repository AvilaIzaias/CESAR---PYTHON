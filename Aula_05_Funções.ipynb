{
  "nbformat": 4,
  "nbformat_minor": 0,
  "metadata": {
    "colab": {
      "name": "Aula 05 - Funções",
      "provenance": [],
      "collapsed_sections": [],
      "include_colab_link": true
    },
    "kernelspec": {
      "name": "python3",
      "display_name": "Python 3"
    },
    "language_info": {
      "name": "python"
    }
  },
  "cells": [
    {
      "cell_type": "markdown",
      "metadata": {
        "id": "view-in-github",
        "colab_type": "text"
      },
      "source": [
        "<a href=\"https://colab.research.google.com/github/AvilaIzaias/CESAR---PYTHON/blob/main/Aula_05_Fun%C3%A7%C3%B5es.ipynb\" target=\"_parent\"><img src=\"https://colab.research.google.com/assets/colab-badge.svg\" alt=\"Open In Colab\"/></a>"
      ]
    },
    {
      "cell_type": "markdown",
      "metadata": {
        "id": "tRvcy-qw7juT"
      },
      "source": [
        "<img src=\"https://www.cesar.school/wp-content/uploads/2019/09/marca_cesar_school.png\" alt=\"drawing\" width=\"200\"/>\n",
        "\n",
        "# Python - **Aula 05**\n",
        "\n",
        "---\n",
        "\n",
        "- Funções"
      ]
    },
    {
      "cell_type": "markdown",
      "metadata": {
        "id": "FgyHxW3DZWcz"
      },
      "source": [
        "# Funções"
      ]
    },
    {
      "cell_type": "markdown",
      "metadata": {
        "id": "h5TpNll7b3B7"
      },
      "source": [
        "Desde que começamos a programar em Python temos descoberto várias funções da linguagem:\n",
        "- `print()`\n",
        "- `len()`\n",
        "- `del()`\n",
        "\n",
        "e também várias funções de tipos específicos de dados:\n",
        "- `str.lower()`\n",
        "- `lista.append()`\n",
        "\n",
        "Essas funções são implementadas pela própria linguagem e executam tarefas específicas. Graças a elas economizamos muito tempo, tendo em vista que não só já foram implementadas, mas também foram testadas e validadas por toda a comunidade que usa a Python.\n",
        "\n",
        "Nesta aula aprenderemos a escrever nossas próprias funções!"
      ]
    },
    {
      "cell_type": "markdown",
      "metadata": {
        "id": "Lipq6fSIIVzm"
      },
      "source": [
        "## Definindo uma função\n",
        "\n",
        "Para definir uma função, ou seja, implementa-la, é necessário usar o comando `def` seguido do nome da função, uma par de parênteses e dois pontos:\n",
        "\n",
        "```python\n",
        "def boas_vindas():\n",
        "  print('Bem-vindo(a) à CESAR School!')\n",
        "```\n",
        "\n",
        "Para executar a função, basta chama-la por sua assinatura:\n",
        "\n",
        "```python\n",
        "boas_vindas()\n",
        "```"
      ]
    },
    {
      "cell_type": "code",
      "metadata": {
        "id": "Dv6RnOgyIsyO",
        "colab": {
          "base_uri": "https://localhost:8080/"
        },
        "outputId": "bc018d5f-238d-46c2-9369-d51a04b13461"
      },
      "source": [
        "def lista_alunos():\n",
        "  print('lista de alunos')\n",
        "\n",
        "lista_alunos()\n",
        "lista_alunos()\n",
        "lista_alunos()\n",
        "lista_alunos()\n",
        "lista_alunos()"
      ],
      "execution_count": null,
      "outputs": [
        {
          "output_type": "stream",
          "text": [
            "lista de alunos\n",
            "lista de alunos\n",
            "lista de alunos\n",
            "lista de alunos\n",
            "lista de alunos\n"
          ],
          "name": "stdout"
        }
      ]
    },
    {
      "cell_type": "markdown",
      "metadata": {
        "id": "jRDwgve5ItNu"
      },
      "source": [
        "## Passando parâmetros para as funções\n",
        "\n",
        "Várias funções que conhecemos recebem parâmetros. Também podemos fazer isso da seguinte forma:\n",
        "\n",
        "```python\n",
        "def boas_vindas(nome_usuario):\n",
        "  print(f'Bem-vindo(a) {nome_usuario} à CESAR School!')\n",
        "```"
      ]
    },
    {
      "cell_type": "code",
      "metadata": {
        "id": "hy0H-ONQI7na",
        "colab": {
          "base_uri": "https://localhost:8080/"
        },
        "outputId": "7d731740-cee2-4664-8b90-a8f70af3f4f0"
      },
      "source": [
        "# exemplo boas_vindas()\n",
        "def boas_vindas(nome_usuario):\n",
        "  print(f'Bem-vindo(a) {nome_usuario} à CESAR School!')\n",
        "\n",
        "# exemplo filme_favorito() // Um dos meus filmes favoritos é [nome_do_filme]\n",
        "def filme_favorito(primeiro_filme, segundo_filme, terceiro_filme):\n",
        "  print(f'Meus filmes favoritos: {primeiro_filme}, {segundo_filme}, {terceiro_filme}')\n",
        "\n",
        "# exemplo soma()\n",
        "def soma(x, y):\n",
        "  print(f'a soma dos valores é: {x+y}')\n",
        "\n",
        "n1 = int(input(\"Digite o primeiro numero\"))\n",
        "n2 = int(input(\"Digite o segundo numero\"))\n",
        "\n",
        "soma(n1, n2)\n",
        "\n",
        "boas_vindas('Gerson')\n",
        "filme_favorito('seila', 'numsei', 'praquequersaber')"
      ],
      "execution_count": null,
      "outputs": [
        {
          "output_type": "stream",
          "text": [
            "19813249713\n",
            "Digite o primeiro numero9\n",
            "Digite o segundo numero5\n",
            "a soma dos valores é: 14\n",
            "Bem-vindo(a) Gerson à CESAR School!\n",
            "Meus filmes favoritos: seila, numsei, praquequersaber\n"
          ],
          "name": "stdout"
        }
      ]
    },
    {
      "cell_type": "markdown",
      "metadata": {
        "id": "b23YBQFiJGRu"
      },
      "source": [
        "## Argumentos posicionais e nomeados\n",
        "\n",
        "- Posicional: Quando são passados na mesma ordem dos parâmetros\n",
        "- Nomeados: Um par nome-valor passados para a função\n",
        "\n",
        "```python\n",
        "# V = d/t\n",
        "def velocidade(distancia, tempo):\n",
        "  print(distancia/tempo)\n",
        "```"
      ]
    },
    {
      "cell_type": "code",
      "metadata": {
        "id": "DMmNAEP9JOyu",
        "colab": {
          "base_uri": "https://localhost:8080/"
        },
        "outputId": "01668c26-eab6-4542-b684-f47fb44e3b9a"
      },
      "source": [
        "# posicional\n",
        "def soma(x, y):\n",
        "  print(f'a soma dos valores é: {x+y}')\n",
        "\n",
        "n1 = 10\n",
        "soma(3, 5)\n",
        "soma(y=1, x=n1)\n",
        "# nomeado\n",
        "\n"
      ],
      "execution_count": null,
      "outputs": [
        {
          "output_type": "stream",
          "text": [
            "a soma dos valores é: 8\n",
            "a soma dos valores é: 11\n"
          ],
          "name": "stdout"
        }
      ]
    },
    {
      "cell_type": "markdown",
      "metadata": {
        "id": "21DC9QeGJVt2"
      },
      "source": [
        "## Valores predefinidos (default)\n",
        "\n",
        "```python\n",
        " print(*objects, sep=' ', end='\\n', file=sys.stdout, flush=False)\n",
        "```\n",
        "\n",
        "> *Mais detalhes sobre o print [aqui](https://docs.python.org/3/library/functions.html#print).*"
      ]
    },
    {
      "cell_type": "code",
      "metadata": {
        "id": "uiWByYm5KgOu",
        "colab": {
          "base_uri": "https://localhost:8080/"
        },
        "outputId": "075fbbcc-6f48-445b-bc0c-28958e2d90d7"
      },
      "source": [
        "def soma(x, y=0, z=10):\n",
        "  print(f'a soma dos valores é: {x+y}')\n",
        "\n",
        "soma(5, z=60)"
      ],
      "execution_count": null,
      "outputs": [
        {
          "output_type": "stream",
          "text": [
            "a soma dos valores é: 5\n"
          ],
          "name": "stdout"
        }
      ]
    },
    {
      "cell_type": "markdown",
      "metadata": {
        "id": "wxMB_--7Kq1J"
      },
      "source": [
        "## Retornando Valores\n",
        "\n",
        "Para que uma função possa devolver um valor para sua chamada, usamos a palavra reservada `return`.\n",
        "\n",
        "> Obs.: Depois que o comando `return` é alcançado, a função é finalizada. Qualquer código após o `return` é inalcançãvel."
      ]
    },
    {
      "cell_type": "code",
      "metadata": {
        "id": "cqpR-ge6MIuY",
        "colab": {
          "base_uri": "https://localhost:8080/"
        },
        "outputId": "933c3e97-632e-41c4-86ce-d582b6801461"
      },
      "source": [
        "# velocidade\n",
        "def soma(x=5, y=10):\n",
        "  return x+y\n",
        "\n",
        "resultado = soma(2,3)\n",
        "print(f'a soma dos valores é: {soma()}')\n",
        "# positivo ou negativo - usando condicionais\n",
        "\n",
        "def soma_verdadeiro(x=0, y=0):\n",
        "  if (x==0 or y==0):\n",
        "    return True\n",
        "  else:\n",
        "    return False\n",
        "\n",
        "soma_verdadeiro(1)"
      ],
      "execution_count": null,
      "outputs": [
        {
          "output_type": "stream",
          "text": [
            "a soma dos valores é: 15\n"
          ],
          "name": "stdout"
        },
        {
          "output_type": "execute_result",
          "data": {
            "text/plain": [
              "True"
            ]
          },
          "metadata": {
            "tags": []
          },
          "execution_count": 72
        }
      ]
    },
    {
      "cell_type": "markdown",
      "metadata": {
        "id": "t1Yw1AmBMcq3"
      },
      "source": [
        "## ⚠ Passando um número arbitrário de parâmetros\n",
        "\n",
        "As vezes você não sabe quantos parâmetros vão ser passados para a sua função. Nesse caso, é possível receber um valor variável de parâmetros usando `*` antes do nome da variável:\n",
        "\n",
        "```python\n",
        "def prepara_acai(*ingredientes, tamanho='medio'):\n",
        "```\n",
        "\n",
        "Esse recurso é usado no `print` para poder recever vários parâmetros\n",
        "\n",
        "```python\n",
        " print(*objects, sep=' ', end='\\n', file=sys.stdout, flush=False)\n",
        "```\n"
      ]
    },
    {
      "cell_type": "code",
      "metadata": {
        "id": "eAuJCRDFNSIg",
        "colab": {
          "base_uri": "https://localhost:8080/"
        },
        "outputId": "ec892ed1-35d5-4677-fe99-7b68a182c458"
      },
      "source": [
        "# prepara_acai\n",
        "def soma_varios(*valores, x=9, seila=9):\n",
        "  print(len(valores) + seila)\n",
        "\n",
        "soma_varios(1,2,1212,8,'asdasd',2,3,4.5665,2,True,4,5,6,8,9,seila=12)"
      ],
      "execution_count": null,
      "outputs": [
        {
          "output_type": "stream",
          "text": [
            "27\n"
          ],
          "name": "stdout"
        }
      ]
    },
    {
      "cell_type": "markdown",
      "metadata": {
        "id": "y-q0T5r5OX1n"
      },
      "source": [
        "## Função com funções"
      ]
    },
    {
      "cell_type": "code",
      "metadata": {
        "id": "_q3Hi3-ZOYpv"
      },
      "source": [
        "# max_min\n",
        "\n",
        "def multiplica(x,y):\n",
        "  valor = 10\n",
        "  def soma123456(j,k):\n",
        "    print(f'soma: {j+k}')\n",
        "  return soma123456(valor,y)\n",
        "\n"
      ],
      "execution_count": null,
      "outputs": []
    },
    {
      "cell_type": "markdown",
      "metadata": {
        "id": "l2t5ZMQ0OphQ"
      },
      "source": [
        "## ⚠ Funções recursivas\n",
        "\n",
        "É chamada de função recursiva aquela que faz uma chamada para ela mesma."
      ]
    },
    {
      "cell_type": "code",
      "metadata": {
        "id": "s7YXNWaIOtXg",
        "colab": {
          "base_uri": "https://localhost:8080/"
        },
        "outputId": "94d2f28d-1b29-49fc-838e-1e4b33a2ef94"
      },
      "source": [
        "def soma_recursiva(x):\n",
        "  if (x <= 1):\n",
        "    return 1\n",
        "  else:\n",
        "    return x * soma_recursiva(x-1)\n",
        "\n",
        "print(soma_recursiva(5))\n",
        "\n",
        "n = 5\n",
        "\n",
        "i = 1\n",
        "n_fat = 1\n",
        "while i <= n:\n",
        "  n_fat = n_fat * i\n",
        "  i = i + 1\n",
        "print(n_fat)"
      ],
      "execution_count": null,
      "outputs": [
        {
          "output_type": "stream",
          "text": [
            "120\n",
            "120\n"
          ],
          "name": "stdout"
        }
      ]
    },
    {
      "cell_type": "markdown",
      "metadata": {
        "id": "z1z5Wv98Psc_"
      },
      "source": [
        "# Exercícios Fundamentais"
      ]
    },
    {
      "cell_type": "markdown",
      "metadata": {
        "id": "DxKeyLJkPw8u"
      },
      "source": [
        "1. Crie um programa que receba um valor inteiro e avalie se ele é positivo ou negativo. Essa avaliação deve ocorrer dentro de uma função que retorna um valor booleano."
      ]
    },
    {
      "cell_type": "code",
      "metadata": {
        "id": "j9so2HjLQ3ro",
        "colab": {
          "base_uri": "https://localhost:8080/"
        },
        "outputId": "39275bb4-1d0a-4e45-d179-2fdd15ae4535"
      },
      "source": [
        "def verifica(numero):\n",
        "  if (numero < 0):\n",
        "    return False\n",
        "  else:\n",
        "    return True\n",
        "\n",
        "n = int(input(\"digite um numero\"))\n",
        "print(verifica(n))"
      ],
      "execution_count": null,
      "outputs": [
        {
          "output_type": "stream",
          "text": [
            "True\n"
          ],
          "name": "stdout"
        }
      ]
    },
    {
      "cell_type": "markdown",
      "metadata": {
        "id": "VkirgJsaQ3_o"
      },
      "source": [
        "2. Crie um programa que tenha uma função que receba uma lista de números inteiros e exiba todos os valores multiplicados por um valor inserido pelo usuário."
      ]
    },
    {
      "cell_type": "code",
      "metadata": {
        "id": "n0SoCk-bQ9j_",
        "colab": {
          "base_uri": "https://localhost:8080/"
        },
        "outputId": "262562d1-ae40-42e4-f7db-445d8dcdb2fd"
      },
      "source": [
        "lista = [1,2,3,4,5,6]\n",
        "numero = int(input(\"digita ai: \"))\n",
        "\n",
        "\n",
        "def questao2(lista_parametro,valor_usuario):\n",
        "  for a in lista_parametro:\n",
        "    print(a*valor_usuario)\n",
        "\n",
        "questao2(lista, numero)"
      ],
      "execution_count": null,
      "outputs": [
        {
          "output_type": "stream",
          "text": [
            "digita ai: 2\n",
            "[2, 4, 6, 8, 10, 12]\n"
          ],
          "name": "stdout"
        }
      ]
    },
    {
      "cell_type": "markdown",
      "metadata": {
        "id": "Deh14fiBXTGI"
      },
      "source": [
        "3. Crie um programa que possua uma lista de nomes. Peça que o usuário insira um nome que será buscado nesta lista. A busca deve ser implementada em uma função que retorna os valores lógicos verdadeiro ou falso."
      ]
    },
    {
      "cell_type": "code",
      "metadata": {
        "id": "XCLsXWtiXUQo"
      },
      "source": [
        ""
      ],
      "execution_count": null,
      "outputs": []
    },
    {
      "cell_type": "markdown",
      "metadata": {
        "id": "jrFYQ-oxXAcZ"
      },
      "source": [
        "4. Implemente um programa que possa receber do usuário a temperatura em graus Celsius ou Fahrenheit. Antes de receber a temperatura, pergunte ao usuário se ele deseja inserir em Celsius ou em Fahrenheit. Se a entrada for em graus Celsius, o programa deverá retornar a temperatura em Fahrenheit. Se a entrada for em Fahrenheit, o programa deverá retornar a temperatura em Celsius."
      ]
    },
    {
      "cell_type": "markdown",
      "metadata": {
        "id": "dofVaIZIJvwZ"
      },
      "source": [
        "F = C x 1,8 + 32\n",
        "\n"
      ]
    },
    {
      "cell_type": "code",
      "metadata": {
        "id": "Lx1wCnOXXNaR"
      },
      "source": [
        ""
      ],
      "execution_count": null,
      "outputs": []
    },
    {
      "cell_type": "markdown",
      "metadata": {
        "id": "qZcEz7I2XN1S"
      },
      "source": [
        "5. Crie um programa que receba do usuário 5 números inteiros e os exiba na tela na ordem contrária a que foi inserido. A leitura dos números deve ser feita em uma função e a exibição dos valores em ordem contrária deve ocorrer em outra função."
      ]
    },
    {
      "cell_type": "code",
      "metadata": {
        "id": "gTD0TuEiXxax"
      },
      "source": [
        ""
      ],
      "execution_count": null,
      "outputs": []
    },
    {
      "cell_type": "markdown",
      "metadata": {
        "id": "saUWUg4hT6zi"
      },
      "source": [
        "6. Crie um programa que tenha uma função que receba uma lista de números inteiros e exiba todos os seus valores em ordem invertida.\n",
        "Obs.: Sem usar `invert` ou o fatiador com passo `-1`."
      ]
    },
    {
      "cell_type": "code",
      "metadata": {
        "id": "4m8R-3pHX0yR",
        "colab": {
          "base_uri": "https://localhost:8080/"
        },
        "outputId": "98fd2bed-c77b-41d4-f340-7f5cf929e43d"
      },
      "source": [
        "lista = [1,2,3,4,5]\n",
        "\n",
        "v = list(range(-len(lista),0))\n",
        "for x in v:\n",
        "  print(lista[(x*-1)-1])"
      ],
      "execution_count": null,
      "outputs": [
        {
          "output_type": "stream",
          "text": [
            "5\n",
            "4\n",
            "3\n",
            "2\n",
            "1\n"
          ],
          "name": "stdout"
        }
      ]
    },
    {
      "cell_type": "markdown",
      "metadata": {
        "id": "-mVgCguqY_rR"
      },
      "source": [
        "# Exercícios de Aprofundamento"
      ]
    },
    {
      "cell_type": "markdown",
      "metadata": {
        "id": "n7sCiHMxMleY"
      },
      "source": [
        "1. Faça um programa para imprimir:\n",
        "\n",
        "```\n",
        "    1\n",
        "    2   2\n",
        "    3   3   3\n",
        "    .....\n",
        "    n   n   n   n   n   n  ... n\n",
        "```\n",
        "\n",
        "\n",
        "\n"
      ]
    },
    {
      "cell_type": "code",
      "metadata": {
        "id": "zaJ0y7MtMwTn"
      },
      "source": [
        ""
      ],
      "execution_count": null,
      "outputs": []
    },
    {
      "cell_type": "markdown",
      "metadata": {
        "id": "oapI1thQMwsj"
      },
      "source": [
        "2. Faça um programa para imprimir:\n",
        "\n",
        "```\n",
        "    1\n",
        "    1   2\n",
        "    1   2   3\n",
        "    .....\n",
        "    1   2   3   ...  n\n",
        "```"
      ]
    },
    {
      "cell_type": "code",
      "metadata": {
        "id": "u6g1IohcM3c3"
      },
      "source": [
        ""
      ],
      "execution_count": null,
      "outputs": []
    },
    {
      "cell_type": "markdown",
      "metadata": {
        "id": "syxp-pz5Xxqo"
      },
      "source": [
        "3. Faça uma função que receba um valor inteiro e positivo e calcule o seu fatorial."
      ]
    },
    {
      "cell_type": "code",
      "metadata": {
        "id": "cUvZOqeXKR-K"
      },
      "source": [
        ""
      ],
      "execution_count": null,
      "outputs": []
    },
    {
      "cell_type": "markdown",
      "metadata": {
        "id": "3a_fuVWBMZZT"
      },
      "source": [
        "4. Faça um programa com uma função chamada somaImposto. A função possui dois parâmetros formais: taxaImposto, que é a quantia de imposto sobre vendas expressa em porcentagem e custo, que é o custo de um item antes do imposto. A função “altera” o valor de custo para incluir o imposto sobre vendas."
      ]
    },
    {
      "cell_type": "code",
      "metadata": {
        "id": "txL6zw6XMaip"
      },
      "source": [
        ""
      ],
      "execution_count": null,
      "outputs": []
    },
    {
      "cell_type": "markdown",
      "metadata": {
        "id": "7brhqI2YNm4J"
      },
      "source": [
        "5. Um palíndromo é uma palavra que se soletra da mesma forma nos dois sentidos, como “osso” e “reviver”. Escreva um função que dado uma plavra verifique se ela é palindro."
      ]
    },
    {
      "cell_type": "code",
      "metadata": {
        "id": "tRnE7E2MNuDg"
      },
      "source": [
        ""
      ],
      "execution_count": null,
      "outputs": []
    },
    {
      "cell_type": "markdown",
      "metadata": {
        "id": "I5MYkuI-LzVO"
      },
      "source": [
        "6. Construa uma função que receba uma string como parâmetro e devolva outra string com os carateres embaralhados. Por exemplo: se função receber a palavra python, pode retornar npthyo, ophtyn ou qualquer outra combinação possível, de forma aleatória. Padronize em sua função que todos os caracteres serão devolvidos em caixa alta ou caixa baixa, independentemente de como foram digitados."
      ]
    },
    {
      "cell_type": "code",
      "metadata": {
        "id": "O2g_x_EsL0ju"
      },
      "source": [
        "# Para pesquisa, veja a biblioteca random\n"
      ],
      "execution_count": null,
      "outputs": []
    }
  ]
}