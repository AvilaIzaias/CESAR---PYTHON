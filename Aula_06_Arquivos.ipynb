{
  "nbformat": 4,
  "nbformat_minor": 0,
  "metadata": {
    "colab": {
      "name": "Aula 06 - Arquivos",
      "provenance": [],
      "collapsed_sections": [],
      "include_colab_link": true
    },
    "kernelspec": {
      "name": "python3",
      "display_name": "Python 3"
    },
    "language_info": {
      "name": "python"
    }
  },
  "cells": [
    {
      "cell_type": "markdown",
      "metadata": {
        "id": "view-in-github",
        "colab_type": "text"
      },
      "source": [
        "<a href=\"https://colab.research.google.com/github/AvilaIzaias/CESAR---PYTHON/blob/main/Aula_06_Arquivos.ipynb\" target=\"_parent\"><img src=\"https://colab.research.google.com/assets/colab-badge.svg\" alt=\"Open In Colab\"/></a>"
      ]
    },
    {
      "cell_type": "markdown",
      "metadata": {
        "id": "tRvcy-qw7juT"
      },
      "source": [
        "<img src=\"https://www.cesar.school/wp-content/uploads/2019/09/marca_cesar_school.png\" alt=\"drawing\" width=\"200\"/>\n",
        "\n",
        "# Python - **Aula 06**\n",
        "\n",
        "---\n",
        "\n",
        "- Arquivos"
      ]
    },
    {
      "cell_type": "markdown",
      "metadata": {
        "id": "bLCeYSaCvWbu"
      },
      "source": [
        "Uma das formas mais eficientes de manter informações salvas é armazenando os dados em arquivo.\n",
        "\n",
        "Além disso, é muito comum que termos a necessidade de fazer a leitura de um arquivo para extrair os dados que vão ser processados.\n",
        "\n",
        "Independente de para qual objeto, em Python é possível fazer a leitura e escrita em arquivos de forma simples e rápida!"
      ]
    },
    {
      "cell_type": "markdown",
      "metadata": {
        "id": "AlSkSWbbvaY-"
      },
      "source": [
        "## Arquivos\n",
        "\n",
        "De forma geral, podemos dizer que existem dois tipos de arquivo:\n",
        "- Arquivos de texto (`.txt`, `.py`, `.html`, `.md`, `json`)\n",
        "- Arquivos binários (`.docx`, `.pdf`, `.jpeg`, `.mp3`)\n",
        "\n"
      ]
    },
    {
      "cell_type": "markdown",
      "metadata": {
        "id": "fdMr3-y0vpy7"
      },
      "source": [
        "## Abrindo um arquivo e modo de abertura\n",
        "\n",
        "Podemos usar a função open() para abrir um arquivo:\n",
        "\n",
        "```python\n",
        "arquivo = open('nomedoarquivo.txt')\n",
        "```\n",
        "\n",
        "Por padrão, os arquivos são abertos no modo de leitura, mas existem vários outros modos possíveis:\n",
        "\n",
        "|   Modo  | Descrição |\n",
        "|---------|-----------|\n",
        "| **'r'** |  **Read** |\n",
        "|   'a'   |   Append  |\n",
        "|   'w'   |   Write   |\n",
        "|   'x'   |   Create  |\n",
        "|    -    |     -     |\n",
        "| **'t'** | **Texto** |\n",
        "|   'b'   |  Binário  |\n",
        "|   '+'   |  Update   |\n",
        "\n",
        "O modo pode ser definido como um segundo parâmetro à função `open()`:\n",
        "\n",
        "```python\n",
        "arquivo = open('nomedoarquivo.txt', 'a')\n",
        "```\n",
        "\n",
        "https://docs.python.org/pt-br/3/library/functions.html#open"
      ]
    },
    {
      "cell_type": "code",
      "metadata": {
        "id": "VjTFPmmGvsK8",
        "colab": {
          "base_uri": "https://localhost:8080/"
        },
        "outputId": "f142c1c7-4373-443c-c109-bfe08dfce2cd"
      },
      "source": [
        "a = open('pasta/exemplo.txt', 'r-b')\n",
        "arquivo = open('exemplo.txt')\n",
        "print(arquivo.read())"
      ],
      "execution_count": null,
      "outputs": [
        {
          "output_type": "stream",
          "text": [
            "gerson\n",
            "maria\n",
            "jose\n",
            "joao\n",
            "seila\n",
            "fulano\n"
          ],
          "name": "stdout"
        }
      ]
    },
    {
      "cell_type": "markdown",
      "metadata": {
        "id": "Oq_6oiZ6vv9z"
      },
      "source": [
        "## Lendo e Escrevendo\n",
        "\n",
        "### Leitura\n",
        "\n",
        "```python\n",
        "arquivo.read()\n",
        "arquivo.seek(0)\n",
        "arquivo.readline()\n",
        "```\n",
        "\n",
        "```python\n",
        "arquivo = open('nomedoarquivo.txt', 'r')\n",
        "for linha in arquivo:\n",
        "  print(linha)\n",
        "```"
      ]
    },
    {
      "cell_type": "code",
      "metadata": {
        "id": "PMSSQrEyvx7y",
        "colab": {
          "base_uri": "https://localhost:8080/"
        },
        "outputId": "e1feef01-0292-4b2b-f1b7-1e63ef3b7f9a"
      },
      "source": [
        "arquivo = open('exemplo.txt')\n",
        "#print(arquivo.read())\n",
        "arquivo.seek(9)\n",
        "# print(arquivo.read())\n",
        "\n",
        "#print(arquivo.readline())\n",
        "print(arquivo.readline())\n",
        "print(arquivo.read())\n",
        "\n",
        "# for linha in arquivo:\n",
        "#   print(linha)"
      ],
      "execution_count": null,
      "outputs": [
        {
          "output_type": "stream",
          "text": [
            "gerson\n",
            "\n",
            "maria\n",
            "jose\n",
            "joao\n",
            "seila\n",
            "fulano\n"
          ],
          "name": "stdout"
        }
      ]
    },
    {
      "cell_type": "markdown",
      "metadata": {
        "id": "RXKTLT0kvzxz"
      },
      "source": [
        "### Escrita\n",
        "\n",
        "Para ler um arquivo, é necessário usar como modo `w` ou `r+`:\n",
        "```python\n",
        "arquivo = open('nomearquivo.txt', 'w')\n",
        "arquivo.write('Capitã Marvel, Marvel')\n",
        "```\n",
        "\n",
        "```python\n",
        "arquivo = open('nomearquivo.txt', 'a')\n",
        "arquivo.write('\\nBatman, DC')\n",
        "arquivo.write('\\nHulk, Marvel')\n",
        "```"
      ]
    },
    {
      "cell_type": "code",
      "metadata": {
        "id": "JVVlPiDfv1nN"
      },
      "source": [
        "arquivo = open('herois.txt', 'a')\n",
        "\n",
        "arquivo.write('Mulher Maravilha, DC\\n')\n",
        "arquivo.write('Lanterna Verde, DC\\n')\n",
        "arquivo.write('Homem de Ferro, Marvel\\n')\n",
        "arquivo.write('John Jones, DC\\n')\n",
        "arquivo.write('Mulher Gavião, DC\\n')\n",
        "arquivo.write('Hulk, Marvel\\n')\n",
        "arquivo.write('Thor, Marvel\\n')\n",
        "arquivo.close()\n",
        "\n",
        "arquivo = open('herois.txt', 'r')\n",
        "print(arquivo.read())\n",
        "arquivo.close()"
      ],
      "execution_count": null,
      "outputs": []
    },
    {
      "cell_type": "code",
      "metadata": {
        "id": "B3cLK0hiv59J"
      },
      "source": [
        "### Fechamento do arquivo\n",
        "\n",
        "`arquivo.close()`"
      ],
      "execution_count": null,
      "outputs": []
    },
    {
      "cell_type": "code",
      "metadata": {
        "id": "JBHzgTJEv796"
      },
      "source": [
        ""
      ],
      "execution_count": null,
      "outputs": []
    },
    {
      "cell_type": "markdown",
      "metadata": {
        "id": "M6CEWMR4v8cT"
      },
      "source": [
        "## Comando `With`\n",
        "\n",
        "Principais vantagens:\n",
        "- Sintaxe mais limpa para a leitura de arquivos;\n",
        "- Abre e fecha o arquivo automaticamente;\n",
        "\n",
        "```python\n",
        "with open('arquivo.txt') as arquivo:\n",
        "  print(arquivo.readline())\n",
        "  print(arquivo.readline())\n",
        "```\n",
        "\n"
      ]
    },
    {
      "cell_type": "code",
      "metadata": {
        "id": "7u0IJyphv-aB",
        "colab": {
          "base_uri": "https://localhost:8080/"
        },
        "outputId": "3e5a7c9b-3199-42c4-cea5-852f648aeafa"
      },
      "source": [
        "with open('herois.txt', 'a') as herois:\n",
        "  valor = input(\"Digita ai: \")\n",
        "  herois.write(valor + '\\n')\n"
      ],
      "execution_count": null,
      "outputs": [
        {
          "output_type": "stream",
          "text": [
            "Digita ai: Home Aranha, Marvel\n"
          ],
          "name": "stdout"
        }
      ]
    },
    {
      "cell_type": "markdown",
      "metadata": {
        "id": "z1z5Wv98Psc_"
      },
      "source": [
        "# Exercícios Fundamentais"
      ]
    },
    {
      "cell_type": "markdown",
      "metadata": {
        "id": "eZ_OlH8owCAC"
      },
      "source": [
        "1. Aumente a lista de heróis no arquivo `herois.txt`. Feito isso, crie um programa que leia esse arquivo e crie dois novos arquivos:\n",
        "- Um arquivo apenas com heróis da Marvel;\n",
        "- Outro apenas com heróis da DC."
      ]
    },
    {
      "cell_type": "code",
      "metadata": {
        "id": "ftHZ1zjpwDLQ",
        "colab": {
          "base_uri": "https://localhost:8080/"
        },
        "outputId": "8ee1758f-d42c-44b3-b4f1-f680a51dc680"
      },
      "source": [
        "with open('dc.txt', 'w') as dc:\n",
        "  with open('marvel.txt', 'w') as marvel:\n",
        "    with open('herois.txt') as arquivo:\n",
        "      for linha in arquivo:\n",
        "        if 'DC' in linha:\n",
        "          dc.write(linha)\n",
        "        else:\n",
        "          marvel.write(linha)\n",
        "\n",
        "with open('dc.txt') as dc:\n",
        "  print(dc.read())\n",
        "with open('marvel.txt') as marvel:\n",
        "  print(marvel.read())\n"
      ],
      "execution_count": null,
      "outputs": [
        {
          "output_type": "stream",
          "text": [
            "Mulher Maravilha, DC\n",
            "Lanterna Verde, DC\n",
            "John Jones, DC\n",
            "Mulher Gavião, DC\n",
            "\n",
            "Homem de Ferro, Marvel\n",
            "Hulk, Marvel\n",
            "Thor, Marvel\n",
            "Capitão America, Marvel\n",
            "Homem Aranha, Marvel\n",
            "\n"
          ],
          "name": "stdout"
        }
      ]
    },
    {
      "cell_type": "markdown",
      "metadata": {
        "id": "5wUzG4G_wF6x"
      },
      "source": [
        "2. Crie um programa que registra as notas de uma pessoa na escola (como o boletim) em um arquivo. Em seguida, leia todos os valores para imprimir o **menor** valor, o **maior** e a **média**.\n",
        "\n",
        "Dica: Se você usar listas, pode usar as funções `min()` e `max()`."
      ]
    },
    {
      "cell_type": "code",
      "metadata": {
        "id": "INq_IgoNwHTX",
        "colab": {
          "base_uri": "https://localhost:8080/"
        },
        "outputId": "9960c8fc-9cb9-4f1d-adb8-871fb3e1d492"
      },
      "source": [
        "lista = [8.6,7.6,9.5,4.5,9.8,10]\n",
        "with open('notas.txt', 'w') as notas:\n",
        "  for nota in lista:\n",
        "    notas.write(str(nota)+'\\n')\n",
        "\n",
        "\n",
        "with open('notas.txt') as notas:\n",
        "  lista2 = []\n",
        "  total = 0\n",
        "  for linha in notas:\n",
        "    print(total)\n",
        "    total += float(linha)\n",
        "    lista2.append(float(linha))\n",
        "\n",
        "  # print(min(lista2))\n",
        "  # print(max(lista2))\n",
        "  # print(round(sum(lista2)/len(lista2),1))\n"
      ],
      "execution_count": null,
      "outputs": [
        {
          "output_type": "stream",
          "text": [
            "0\n",
            "8.6\n",
            "16.2\n",
            "25.7\n",
            "30.2\n",
            "40.0\n"
          ],
          "name": "stdout"
        }
      ]
    },
    {
      "cell_type": "markdown",
      "metadata": {
        "id": "-mVgCguqY_rR"
      },
      "source": [
        "# Exercícios de Aprofundamento"
      ]
    },
    {
      "cell_type": "markdown",
      "metadata": {
        "id": "XgNCMyoF3Axy"
      },
      "source": [
        "3. Faça um programa que leia um arquivo texto contendo uma lista de endereços IP e gere um outro arquivo, contendo um relatório dos endereços IP válidos e inválidos.\n",
        "O arquivo de entrada possui o seguinte formato:\n",
        "```\n",
        "        200.135.80.9\n",
        "        192.168.1.1\n",
        "        8.35.67.74\n",
        "        257.32.4.5\n",
        "        85.345.1.2\n",
        "        1.2.3.4\n",
        "        9.8.234.5\n",
        "        192.168.0.256\n",
        "```\n",
        "- O arquivo de saída possui o seguinte formato:\n",
        "```\n",
        "        [Endereços válidos:]\n",
        "        200.135.80.9\n",
        "        192.168.1.1\n",
        "        8.35.67.74\n",
        "        1.2.3.4\n",
        "\n",
        "        [Endereços inválidos:]\n",
        "        257.32.4.5\n",
        "        85.345.1.2\n",
        "        9.8.234.5\n",
        "        192.168.0.256\n",
        "```"
      ]
    },
    {
      "cell_type": "code",
      "metadata": {
        "id": "2R0gdzmj3bTo"
      },
      "source": [
        ""
      ],
      "execution_count": null,
      "outputs": []
    },
    {
      "cell_type": "markdown",
      "metadata": {
        "id": "U6F5uGX53uNL"
      },
      "source": [
        "4. A ACME Inc., uma empresa de 500 funcionários, está tendo problemas de espaço em disco no seu servidor de arquivos. Para tentar resolver este problema, o Administrador de Rede precisa saber qual o espaço ocupado pelos usuários, e identificar os usuários com maior espaço ocupado. Através de um programa, baixado da Internet, ele conseguiu gerar o seguinte arquivo, chamado \"usuarios.txt\":\n",
        "```\n",
        "      alexandre       456123789\n",
        "      anderson        1245698456\n",
        "      antonio         123456456\n",
        "      carlos          91257581\n",
        "      cesar           987458\n",
        "      rosemary        789456125\n",
        "```\n",
        "Neste arquivo, o nome do usuário possui 15 caracteres. A partir deste arquivo, você deve criar um programa que gere um relatório, chamado \"relatório.txt\", no seguinte formato:\n",
        "```\n",
        "    ACME Inc.       Uso do espaço em disco pelos usuários\n",
        "\n",
        "    Nr.  Usuário        Espaço utilizado     % do uso\n",
        "\n",
        "    1    alexandre       434,99 MB             16,85%\n",
        "    2    anderson       1187,99 MB             46,02%\n",
        "    3    antonio         117,73 MB              4,56%\n",
        "    4    carlos           87,03 MB              3,37%\n",
        "    5    cesar             0,94 MB              0,04%\n",
        "    6    rosemary        752,88 MB             29,16%\n",
        "\n",
        "    Espaço total ocupado: 2581,57 MB\n",
        "    Espaço médio ocupado: 430,26 MB\n",
        "```\n",
        "O arquivo de entrada deve ser lido uma única vez, e os dados armazenados em memória, caso sejam necessários, de forma a agilizar a execução do programa. A conversão da espaço ocupado em disco, de bytes para megabytes deverá ser feita através de uma função separada, que será chamada pelo programa principal. O cálculo do percentual de uso também deverá ser feito através de uma função, que será chamada pelo programa principal.\n"
      ]
    },
    {
      "cell_type": "code",
      "metadata": {
        "id": "Xhz7XuvR4q0k"
      },
      "source": [
        ""
      ],
      "execution_count": null,
      "outputs": []
    }
  ]
}