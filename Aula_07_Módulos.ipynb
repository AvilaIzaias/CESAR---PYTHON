{
  "nbformat": 4,
  "nbformat_minor": 0,
  "metadata": {
    "colab": {
      "name": "Aula 07 - Módulos",
      "provenance": [],
      "collapsed_sections": [],
      "include_colab_link": true
    },
    "kernelspec": {
      "name": "python3",
      "display_name": "Python 3"
    },
    "language_info": {
      "name": "python"
    }
  },
  "cells": [
    {
      "cell_type": "markdown",
      "metadata": {
        "id": "view-in-github",
        "colab_type": "text"
      },
      "source": [
        "<a href=\"https://colab.research.google.com/github/AvilaIzaias/CESAR---PYTHON/blob/main/Aula_07_M%C3%B3dulos.ipynb\" target=\"_parent\"><img src=\"https://colab.research.google.com/assets/colab-badge.svg\" alt=\"Open In Colab\"/></a>"
      ]
    },
    {
      "cell_type": "markdown",
      "metadata": {
        "id": "tRvcy-qw7juT"
      },
      "source": [
        "<img src=\"https://www.cesar.school/wp-content/uploads/2019/09/marca_cesar_school.png\" alt=\"drawing\" width=\"200\"/>\n",
        "\n",
        "# Python - **Aula 07**\n",
        "\n",
        "---\n",
        "\n",
        "- Módulos\n",
        "- Pacotes"
      ]
    },
    {
      "cell_type": "markdown",
      "metadata": {
        "id": "bLCeYSaCvWbu"
      },
      "source": [
        "Por mais que a linguagem Python venha com uma série de recursos que otimizam bastante o tempo de desenvolvimento dos algoritmos, ela não é completa.\n",
        "\n",
        "Há uma série de cálculos, estruturas de dados e recursos para tratar com formatos de arquivos específicos que não está disponível nativamente na linguagem.\n",
        "\n",
        "Para evitar o esforço de \"reinventar a roda\", podemos importar tais recursos desenvolvidos por outros programadores como **módulos**.\n",
        "\n",
        "Além disso, podemos criar nossos próprios módulos, que podem ser usados diversas vezes em um projeto, ou em vários projetos da mesma empresa.\n",
        "\n",
        "> Módulos são partes (blocos) de código usados para solucionar um problema como um conjunto de funções. Os módulos podem ser reutilizados em várias aplicações.\n",
        "\n",
        "https://docs.python.org/pt-br/3/tutorial/modules.html"
      ]
    },
    {
      "cell_type": "markdown",
      "metadata": {
        "id": "Rp4-v6KlivKW"
      },
      "source": [
        "## Importando Módulos / Módulo Matemático\n",
        "\n",
        "Módulos são implementados como arquivos `.py`.\n",
        "\n",
        "Para adicionar um módulo, basta usar o comando `import` seguido no nome do módulo."
      ]
    },
    {
      "cell_type": "code",
      "metadata": {
        "id": "yuxxPJpRV6Oe"
      },
      "source": [
        "# importar módulo matemático do Python\n",
        "\n",
        "# potenciação\n",
        "\n",
        "\n",
        "# arredondamento para cima\n",
        "\n",
        "\n",
        "# arredondamento para baixo\n"
      ],
      "execution_count": null,
      "outputs": []
    },
    {
      "cell_type": "markdown",
      "metadata": {
        "id": "DbQmH9eJjlQ0"
      },
      "source": [
        "## Manipulando arquivos e pastas\n",
        "\n",
        "Na aula passada, aprendemos a criar arquivos, contudo, não conseguimos excluir um arquivo ou criar/excluir uma pasta.\n",
        "\n",
        "Isso só é possível usando o módulo `os`."
      ]
    },
    {
      "cell_type": "code",
      "metadata": {
        "id": "DWjHELVNkHsT"
      },
      "source": [
        "# importando o mólulo os\n",
        "\n",
        "\n",
        "# removendo um arquivo\n",
        "\n",
        "\n",
        "# verificando se um arquivo existe\n",
        "\n",
        "\n",
        "# removendo uma pasta\n",
        "\n"
      ],
      "execution_count": null,
      "outputs": []
    },
    {
      "cell_type": "markdown",
      "metadata": {
        "id": "F-VFRDJXkZ0Z"
      },
      "source": [
        "## Módulos embutidos\n",
        "\n",
        "Em Python existem uma variedades de módulos embutidos (aqueles que são distribuídos junto a linguagem e não requerem instalação adicional). Cada módulo tem uma série de funções específicas.\n",
        "\n",
        "Para descobrir quais são as funções que um determinado módulo tem, é possível usar o método `dir()`.\n",
        "\n",
        "Para entender melhor como uma determinada função funciona, é possível usar o métido `help()`"
      ]
    },
    {
      "cell_type": "code",
      "metadata": {
        "id": "s0eVeC4TlGvE"
      },
      "source": [
        "import math\n",
        "\n",
        "# exibir as funções do módulo matemático\n",
        "\n",
        "\n",
        "# exibir a documentação da função trunc()\n",
        "\n"
      ],
      "execution_count": null,
      "outputs": []
    },
    {
      "cell_type": "markdown",
      "metadata": {
        "id": "J2l4QjnXl6Uf"
      },
      "source": [
        "## Escrevendo e usando módulos\n",
        "\n",
        "Além de usar os módulos embutidos, é possível criar seus próprios módulos!\n",
        "\n",
        "Basta criar um arquivo `.py` com o nome do módulo e importa-lo usando esse nome (sem o `.py`)"
      ]
    },
    {
      "cell_type": "code",
      "metadata": {
        "id": "HgfwaoVBmhWb"
      },
      "source": [
        "# módulo calculadora\n",
        "\n"
      ],
      "execution_count": null,
      "outputs": []
    },
    {
      "cell_type": "markdown",
      "metadata": {
        "id": "uEjGlYN4nfP9"
      },
      "source": [
        "## Criando pacotes\n",
        "\n",
        "Pacotes são espaços compostos por vários módulos. São como uma pasta no computador que tem arquivos relacionados a um mesmo assunto.\n",
        "\n",
        "Por exemplo, podemos imaginar um pacote chamado **matemática** que conteria vário módulos, tais como: *calculadora*, *geometria*, *probabilidade*...\n",
        "\n",
        "Para uma pasta ser considerada como pacote, em Pyhton, é necessário que haja um arquivo `__init__.py` dentro dele."
      ]
    },
    {
      "cell_type": "markdown",
      "metadata": {
        "id": "WAzOO6Heoak-"
      },
      "source": [
        "## Importando módulos de pacotes\n",
        "\n",
        "É possível usar os seguintes comandos:\n",
        "- `import`\n",
        "- `from`\n",
        "\n",
        "Também é possível adicionar apelidos aos módulos:\n",
        "\n",
        "```python\n",
        "from modulo import funcao as apelido\n",
        "from pacote import modulo as apelido\n",
        "```"
      ]
    },
    {
      "cell_type": "code",
      "metadata": {
        "id": "eo2ekobxpQtB"
      },
      "source": [
        "# from matematica import calculadora as calc\n",
        "\n"
      ],
      "execution_count": null,
      "outputs": []
    }
  ]
}