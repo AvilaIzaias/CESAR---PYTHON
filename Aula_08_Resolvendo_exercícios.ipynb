{
  "nbformat": 4,
  "nbformat_minor": 0,
  "metadata": {
    "colab": {
      "name": "Aula 08 - Resolvendo exercícios",
      "provenance": [],
      "collapsed_sections": [],
      "include_colab_link": true
    },
    "kernelspec": {
      "name": "python3",
      "display_name": "Python 3"
    }
  },
  "cells": [
    {
      "cell_type": "markdown",
      "metadata": {
        "id": "view-in-github",
        "colab_type": "text"
      },
      "source": [
        "<a href=\"https://colab.research.google.com/github/AvilaIzaias/CESAR---PYTHON/blob/main/Aula_08_Resolvendo_exerc%C3%ADcios.ipynb\" target=\"_parent\"><img src=\"https://colab.research.google.com/assets/colab-badge.svg\" alt=\"Open In Colab\"/></a>"
      ]
    },
    {
      "cell_type": "markdown",
      "metadata": {
        "id": "9ujEVvoCTM6p"
      },
      "source": [
        "<img src=\"https://www.cesar.school/wp-content/uploads/2019/09/marca_cesar_school.png\" alt=\"drawing\" width=\"200\"/>\n",
        "\n",
        "# Python - **Aula 8 - Resolvendo Exercícios**\n",
        "\n",
        "---\n",
        "\n"
      ]
    },
    {
      "cell_type": "markdown",
      "metadata": {
        "id": "G3NSGY4WWKd3"
      },
      "source": [
        "1. João Papo-de-Pescador, homem de bem, comprou um microcomputador para controlar o rendimento diário de seu trabalho. Toda vez que ele traz um peso de peixes maior que o estabelecido pelo regulamento de pesca do estado de São Paulo (50 quilos) deve pagar uma multa de R$ 4,00 por quilo excedente. João precisa que você faça um programa que leia a variável peso (peso de peixes) e calcule o excesso. Gravar na variável excesso a quantidade de quilos além do limite e na variável multa o valor da multa que João deverá pagar. Imprima os dados do programa com as mensagens adequadas."
      ]
    },
    {
      "cell_type": "code",
      "metadata": {
        "id": "zsI5XJfmWLti"
      },
      "source": [
        "peso = float(input('Digite a quantia de quilos de peixe: '))\n",
        "\n",
        "excesso = peso - 50\n",
        "\n",
        "multa = excesso * 4.0\n",
        "\n",
        "print(f'João pegou {peso} quilos de peixe e pagou R${multa} em multa pelo excesso de {excesso} quilos de peixe')"
      ],
      "execution_count": null,
      "outputs": []
    },
    {
      "cell_type": "markdown",
      "metadata": {
        "id": "SwGBrUj7LEgQ"
      },
      "source": [
        "2. Faça um programa que peça o tamanho de um arquivo para download (em MB) e a velocidade de um link de Internet (em Mbps), calcule e informe o tempo aproximado de download do arquivo usando este link (em minutos)."
      ]
    },
    {
      "cell_type": "code",
      "metadata": {
        "id": "48npOMTFVv9r",
        "colab": {
          "base_uri": "https://localhost:8080/"
        },
        "outputId": "5656cded-c8cb-460b-97f5-766185c756cb"
      },
      "source": [
        "download = float(input('Digite o tamanho do arquivo:'))\n",
        "velocidade = float(input('Digite a velocidade da NET'))\n",
        "\n",
        "print(f'O tempo aproximado de download deste aquivo de {download}MB é de {round(download/(velocidade/8)/60,1)} minutos')"
      ],
      "execution_count": null,
      "outputs": [
        {
          "output_type": "stream",
          "text": [
            "Digite o tamanho do arquivo:500\n",
            "Digite a velocidade da NET200\n",
            "O tempo aproximado de download deste aquivo de 500.0MB é de 0.3 minutos\n"
          ],
          "name": "stdout"
        }
      ]
    },
    {
      "cell_type": "markdown",
      "metadata": {
        "id": "u-3E8qtXWN5u"
      },
      "source": [
        "3. Faça um programa que pergunte o preço de três produtos e informe qual produto você deve comprar, sabendo que a decisão é sempre pelo mais barato."
      ]
    },
    {
      "cell_type": "code",
      "metadata": {
        "id": "YJaKSNG0Wflo",
        "colab": {
          "base_uri": "https://localhost:8080/"
        },
        "outputId": "73df2a15-daf1-4672-c6a2-15419c726502"
      },
      "source": [
        "produto1 = float(input('Digite o valor do primeiro produto'))\n",
        "produto2 = float(input('Digite o valor do segundo produto'))\n",
        "produto3 = float(input('Digite o valor do terceiro produto'))\n",
        "\n",
        "print(min([produto1,produto2,produto3]))\n",
        "\n",
        "if (produto1 > produto2):\n",
        "  if (produto2 > produto3):\n",
        "    print(produto3)\n",
        "  else:\n",
        "    print(produto2)\n",
        "elif (produto1 > produto3):\n",
        "  if (produto2 < produto3):\n",
        "    print(produto2)\n",
        "  else:\n",
        "    print(produto3)\n",
        "else:\n",
        "  print(produto1)  "
      ],
      "execution_count": null,
      "outputs": [
        {
          "output_type": "stream",
          "text": [
            "Digite o valor do primeiro produto60\n",
            "Digite o valor do segundo produto80\n",
            "Digite o valor do terceiro produto20\n",
            "20.0\n",
            "20.0\n"
          ],
          "name": "stdout"
        }
      ]
    },
    {
      "cell_type": "markdown",
      "metadata": {
        "id": "nrXbmFTkVwMh"
      },
      "source": [
        "4. Faça um Programa para leitura de três notas parciais de um aluno. O programa deve calcular a média alcançada por aluno e apresentar:\n",
        "  - A mensagem \"Aprovado\", se a média for maior ou igual a 7, com a respectiva média alcançada;\n",
        "  - A mensagem \"Reprovado\", se a média for menor do que 7, com a respectiva média alcançada;\n",
        "  - A mensagem \"Aprovado com Distinção\", se a média for igual a 10."
      ]
    },
    {
      "cell_type": "code",
      "metadata": {
        "id": "rATzmRWkW2Yg",
        "colab": {
          "base_uri": "https://localhost:8080/"
        },
        "outputId": "4aebfa90-30fb-4b14-ebb0-5685a077e4f3"
      },
      "source": [
        "nota1 = float(input('Digite o valor do primeira nota'))\n",
        "nota2 = float(input('Digite o valor do segunda nota'))\n",
        "nota3 = float(input('Digite o valor do terceira nota'))\n",
        "\n",
        "media = (nota1+nota2+nota3)/3\n",
        "\n",
        "if (media == 10):\n",
        "  print(f'Aprovado com Distinção, com media: {media}')\n",
        "elif (media >= 7):\n",
        "  print(f'Aprovado com media: {media}')\n",
        "else:\n",
        "  print(f'Reprovado com media: {media}')"
      ],
      "execution_count": null,
      "outputs": [
        {
          "output_type": "stream",
          "text": [
            "Digite o valor do primeira nota5\n",
            "Digite o valor do segunda nota4\n",
            "Digite o valor do terceira nota7\n",
            "Reprovado com media: 5.333333333333333\n"
          ],
          "name": "stdout"
        }
      ]
    },
    {
      "cell_type": "markdown",
      "metadata": {
        "id": "JpOpZ3BQW2rp"
      },
      "source": [
        "5. Faça um programa que leia dez conjuntos de dois valores, o primeiro representando o número do aluno e o segundo representando a sua altura em centímetros. Encontre o aluno mais alto e o mais baixo. Mostre o número do aluno mais alto e o número do aluno mais baixo, junto com suas alturas."
      ]
    },
    {
      "cell_type": "code",
      "metadata": {
        "id": "Q3K1e8jiXGST",
        "colab": {
          "base_uri": "https://localhost:8080/"
        },
        "outputId": "84b0c394-e99e-45db-827d-3b5e1247eeda"
      },
      "source": [
        "alunos = []\n",
        "alturas = []\n",
        "\n",
        "for i in range(10):\n",
        "  alunos.append(input('Digite o nome do Aluno: '))\n",
        "  alturas.append(float(input('Digite a altura do Aluno: ')))\n",
        "\n",
        "idx = alturas.index(max(alturas))\n",
        "\n",
        "print(f'O Aluno {alunos[idx]} é o mais alto, com {alturas[idx]} de altura')\n",
        "\n",
        "idx = alturas.index(min(alturas))\n",
        "\n",
        "print(f'O Aluno {alunos[idx]} é o mais baixo, com {alturas[idx]} de altura')"
      ],
      "execution_count": null,
      "outputs": [
        {
          "output_type": "stream",
          "text": [
            "Digite o nome do Aluno: Vitor\n",
            "Digite a altura do Aluno: 1.75\n",
            "Digite o nome do Aluno: Gustavo\n",
            "Digite a altura do Aluno: 1.79\n",
            "Digite o nome do Aluno: Rodrigo\n",
            "Digite a altura do Aluno: 1.70\n",
            "Digite o nome do Aluno: Julio\n",
            "Digite a altura do Aluno: 1.73\n",
            "Digite o nome do Aluno: Matheus\n",
            "Digite a altura do Aluno: 1.85\n",
            "Digite o nome do Aluno: Marina\n",
            "Digite a altura do Aluno: 1.65\n",
            "Digite o nome do Aluno: Marcelo\n",
            "Digite a altura do Aluno: 1.77\n",
            "Digite o nome do Aluno: Carlos\n",
            "Digite a altura do Aluno: 1.80\n",
            "Digite o nome do Aluno: Maria\n",
            "Digite a altura do Aluno: 1.55\n",
            "Digite o nome do Aluno: Izaias\n",
            "Digite a altura do Aluno: 1.67\n",
            "O Aluno Matheus é o mais alto, com 1.85 de altura\n",
            "O Aluno Maria é o mais baixo, com 1.55 de altura\n"
          ],
          "name": "stdout"
        }
      ]
    },
    {
      "cell_type": "markdown",
      "metadata": {
        "id": "M-O3rS_aXGd8"
      },
      "source": [
        "6. Faça um programa que peça dois números, base e expoente, calcule e mostre o primeiro número elevado ao segundo número. Não utilize a função de potência da linguagem."
      ]
    },
    {
      "cell_type": "code",
      "metadata": {
        "id": "suRRZSV2XOFU",
        "colab": {
          "base_uri": "https://localhost:8080/"
        },
        "outputId": "e0b50d13-da3b-4c86-b46c-4f9405640472"
      },
      "source": [
        "base = float(input('Digite a base: '))\n",
        "expoente = int(input('Digite a expoente: '))\n",
        "\n",
        "resultado = 1\n",
        "\n",
        "for x in range(expoente):\n",
        "  resultado *= base\n",
        "\n",
        "print(resultado)"
      ],
      "execution_count": null,
      "outputs": [
        {
          "output_type": "stream",
          "text": [
            "Digite a base: 2\n",
            "Digite a expoente: 32\n",
            "4294967296.0\n"
          ],
          "name": "stdout"
        }
      ]
    },
    {
      "cell_type": "markdown",
      "metadata": {
        "id": "HSBHOLHlXONb"
      },
      "source": [
        "7. Faça um Programa que leia um vetor de 5 números inteiros, mostre a soma, a multiplicação e os números."
      ]
    },
    {
      "cell_type": "code",
      "metadata": {
        "id": "Kii2UenuXTGG",
        "colab": {
          "base_uri": "https://localhost:8080/"
        },
        "outputId": "b0934784-90a8-44d8-b088-a0dfe88b5c8a"
      },
      "source": [
        "numeros = []\n",
        "x = 0\n",
        "while x < 5:\n",
        "  numeros.append(int(input('Digite um numero: ')))\n",
        "  x += 1\n",
        "\n",
        "multiplica = 1\n",
        "soma = 0\n",
        "\n",
        "for n in numeros:\n",
        "  multiplica *= n\n",
        "  soma += n\n",
        "\n",
        "print(soma)\n",
        "print(multiplica)\n",
        "print(numeros)"
      ],
      "execution_count": null,
      "outputs": [
        {
          "output_type": "stream",
          "text": [
            "Digite um numero: 5\n",
            "Digite um numero: 4\n",
            "Digite um numero: 9\n",
            "Digite um numero: 10\n",
            "Digite um numero: 50\n",
            "78\n",
            "90000\n",
            "[5, 4, 9, 10, 50]\n"
          ],
          "name": "stdout"
        }
      ]
    },
    {
      "cell_type": "markdown",
      "metadata": {
        "id": "7H48el0fXTOw"
      },
      "source": [
        "8. Faça um programa que simule um lançamento de dados. Lance o dado 100 vezes e armazene os resultados em um vetor . Depois, mostre quantas vezes cada valor foi conseguido. Dica: use um vetor de contadores(1-6) e uma função para gerar numeros aleatórios, simulando os lançamentos dos dados."
      ]
    },
    {
      "cell_type": "code",
      "metadata": {
        "id": "V6LXDYaIXbq_",
        "colab": {
          "base_uri": "https://localhost:8080/"
        },
        "outputId": "24d8f11f-f6aa-41ad-b612-f155f9dd28a8"
      },
      "source": [
        "import random\n",
        "contador = [0,0,0,0,0,0]\n",
        "temp = 0\n",
        "for i in range(100):\n",
        "  temp = random.randint(1,6)\n",
        "  contador[temp-1] += 1\n",
        "print(f'O dado lançado 100 vezes')\n",
        "print(f'{contador[0]} vezes deu 1')\n",
        "print(f'{contador[1]} vezes deu 2')\n",
        "print(f'{contador[2]} vezes deu 3')\n",
        "print(f'{contador[3]} vezes deu 4')\n",
        "print(f'{contador[4]} vezes deu 5')\n",
        "print(f'{contador[5]} vezes deu 6')"
      ],
      "execution_count": null,
      "outputs": [
        {
          "output_type": "stream",
          "text": [
            "O dado lançado 100 vezes\n",
            "15 vezes deu 1\n",
            "17 vezes deu 2\n",
            "15 vezes deu 3\n",
            "13 vezes deu 4\n",
            "19 vezes deu 5\n",
            "21 vezes deu 6\n"
          ],
          "name": "stdout"
        }
      ]
    },
    {
      "cell_type": "markdown",
      "metadata": {
        "id": "vU68Js3BXcCx"
      },
      "source": [
        "9. Faça um programa, com uma função que necessite de uma quantidade de argumentos indefinida, e um argumento de operação dos valores. Esta função deverá returnar o resultado da operação destes valores."
      ]
    },
    {
      "cell_type": "code",
      "metadata": {
        "id": "22QkaSPtXgHM",
        "colab": {
          "base_uri": "https://localhost:8080/"
        },
        "outputId": "a256d457-2a39-48b6-f08b-25f46caa5ad7"
      },
      "source": [
        "def soma(valores):\n",
        "  resultado = 0 \n",
        "  for x in valores:\n",
        "    resultado += x\n",
        "  return resultado\n",
        "\n",
        "def calculadora(*valores, operacao='soma'):\n",
        "  if (operacao=='soma'):\n",
        "    return soma(valores)\n",
        "  elif (operacao=='multiplicacao'):\n",
        "    resultado = 1 \n",
        "    for x in valores:\n",
        "      resultado *= x\n",
        "    return resultado\n",
        "  elif (operacao=='divisao'):\n",
        "    resultado = 1 \n",
        "    for x in valores:\n",
        "      resultado /= x\n",
        "    return resultado  \n",
        "  elif (operacao=='subtracao'):\n",
        "    resultado = 0 \n",
        "    for x in valores:\n",
        "      resultado -= x\n",
        "    return resultado\n",
        "\n",
        "print(calculadora(1,1,1,4,72,6,operacao='soma'))"
      ],
      "execution_count": null,
      "outputs": [
        {
          "output_type": "stream",
          "text": [
            "85\n"
          ],
          "name": "stdout"
        }
      ]
    },
    {
      "cell_type": "markdown",
      "metadata": {
        "id": "0kJnk-EeXgYq"
      },
      "source": [
        "10. Reverso do número. Faça uma função que retorne o reverso de um número inteiro informado. Por exemplo: 127 -> 721."
      ]
    },
    {
      "cell_type": "code",
      "metadata": {
        "id": "UIYQ9cIAXmSJ",
        "colab": {
          "base_uri": "https://localhost:8080/"
        },
        "outputId": "0063dcd4-59a6-4d50-8665-fbd5a569f291"
      },
      "source": [
        "def inverte(numero):\n",
        "  return str(numero)[::-1]\n",
        "\n",
        "valor = int(input('Digite um numero: '))\n",
        "\n",
        "print(inverte(valor))"
      ],
      "execution_count": null,
      "outputs": [
        {
          "output_type": "stream",
          "text": [
            "Digite um numero: 127\n",
            "721\n"
          ],
          "name": "stdout"
        }
      ]
    },
    {
      "cell_type": "markdown",
      "metadata": {
        "id": "5XcZ2sn-XmbR"
      },
      "source": [
        "11. Conta espaços e vogais. Dado uma string com uma frase informada pelo usuário (incluindo espaços em branco), conte:\n",
        "  - quantos espaços em branco existem na frase.\n",
        "quantas vezes aparecem as vogais a, e, i, o, u."
      ]
    },
    {
      "cell_type": "code",
      "metadata": {
        "id": "xbOE7VzoX4br",
        "colab": {
          "base_uri": "https://localhost:8080/"
        },
        "outputId": "72b50533-530a-454d-8798-513e3cc26d9b"
      },
      "source": [
        "frase = input('Digite uma frase: ')\n",
        "contador = {' ': 0, 'a': 0, 'e':0, 'i': 0, 'o': 0, 'u': 0}\n",
        "# contador = [0,0,0,0,0,0]\n",
        "for letra in frase:\n",
        "  if letra in contador.keys():\n",
        "    contador[letra] += 1\n",
        "  \n",
        "print(f'A letra \\'a\\' aparece {contador[\"a\"]} vezes')"
      ],
      "execution_count": null,
      "outputs": [
        {
          "output_type": "stream",
          "text": [
            "Digite uma frase: a rnhq1 a\n",
            "A letra 'a' aparece 2 vezes\n"
          ],
          "name": "stdout"
        }
      ]
    },
    {
      "cell_type": "markdown",
      "metadata": {
        "id": "GlZ5s_GaX4h0"
      },
      "source": [
        "12. A ACME Inc., uma empresa de 500 funcionários, está tendo problemas de espaço em disco no seu servidor de arquivos. Para tentar resolver este problema, o Administrador de Rede precisa saber qual o espaço ocupado pelos usuários, e identificar os usuários com maior espaço ocupado. Através de um programa, baixado da Internet, ele conseguiu gerar o seguinte arquivo, chamado \"usuarios.txt\":\n",
        "```\n",
        "      alexandre       456123789\n",
        "      anderson        1245698456\n",
        "      antonio         123456456\n",
        "      carlos          91257581\n",
        "      cesar           987458\n",
        "      rosemary        789456125\n",
        "```\n",
        "Neste arquivo, o nome do usuário possui 15 caracteres. A partir deste arquivo, você deve criar um programa que gere um relatório, chamado \"relatório.txt\", no seguinte formato:\n",
        "```\n",
        "    ACME Inc.       Uso do espaço em disco pelos usuários\n",
        "\n",
        "    Nr.  Usuário        Espaço utilizado     % do uso\n",
        "\n",
        "    1    alexandre       434,99 MB             16,85%\n",
        "    2    anderson       1187,99 MB             46,02%\n",
        "    3    antonio         117,73 MB              4,56%\n",
        "    4    carlos           87,03 MB              3,37%\n",
        "    5    cesar             0,94 MB              0,04%\n",
        "    6    rosemary        752,88 MB             29,16%\n",
        "\n",
        "    Espaço total ocupado: 2581,57 MB\n",
        "    Espaço médio ocupado: 430,26 MB\n",
        "```\n",
        "O arquivo de entrada deve ser lido uma única vez, e os dados armazenados em memória, caso sejam necessários, de forma a agilizar a execução do programa. A conversão da espaço ocupado em disco, de bytes para megabytes deverá ser feita através de uma função separada, que será chamada pelo programa principal. O cálculo do percentual de uso também deverá ser feito através de uma função, que será chamada pelo programa principal.\n"
      ]
    },
    {
      "cell_type": "code",
      "metadata": {
        "id": "QqtJ9PThZgg9",
        "colab": {
          "base_uri": "https://localhost:8080/"
        },
        "outputId": "13a6ab60-90f3-4ad6-9409-45ef316e3159"
      },
      "source": [
        "def calcula(lista):\n",
        "  total = 0\n",
        "  for dado in lista:\n",
        "    total += int(dado.split(' ')[-1])\n",
        "  return total\n",
        "\n",
        "def nomes(lista):\n",
        "  names = {}\n",
        "  for dado in lista:\n",
        "    names[dado.split(' ')[0]] = round((int(dado.split(' ')[-1])/1024)/1024,2)\n",
        "  return names\n",
        "\n",
        "with open('usuarios.txt', 'w') as usuarios:\n",
        "  usuarios.write('alexandre       456123789\\n')\n",
        "  usuarios.write('anderson        1245698456\\n')\n",
        "  usuarios.write('antonio         123456456\\n')\n",
        "  usuarios.write('carlos          91257581\\n')\n",
        "  usuarios.write('cesar           987458\\n')\n",
        "  usuarios.write('rosemary        789456125')\n",
        "\n",
        "with open('usuarios.txt') as usuarios:\n",
        "  with open('relatório.txt', 'w') as relatorio:\n",
        "    relatorio.write('ACME Inc.       Uso do espaço em disco pelos usuários\\n\\n')\n",
        "    relatorio.write('Nr.\\tUsuário\\tEspaço utilizado\\t% do uso\\n\\n')\n",
        "    users = usuarios.readlines()\n",
        "    for u in nomes(users).values():\n",
        "      print(u)\n",
        "    "
      ],
      "execution_count": null,
      "outputs": [
        {
          "output_type": "stream",
          "text": [
            "434.99\n",
            "1187.99\n",
            "117.74\n",
            "87.03\n",
            "0.94\n",
            "752.88\n"
          ],
          "name": "stdout"
        }
      ]
    }
  ]
}