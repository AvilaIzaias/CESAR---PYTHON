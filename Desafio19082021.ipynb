{
  "nbformat": 4,
  "nbformat_minor": 0,
  "metadata": {
    "colab": {
      "name": "Desafio19082021.ipynb",
      "provenance": [],
      "authorship_tag": "ABX9TyOkNAiNsc6cVboep4AxBr1f",
      "include_colab_link": true
    },
    "kernelspec": {
      "name": "python3",
      "display_name": "Python 3"
    },
    "language_info": {
      "name": "python"
    }
  },
  "cells": [
    {
      "cell_type": "markdown",
      "metadata": {
        "id": "view-in-github",
        "colab_type": "text"
      },
      "source": [
        "<a href=\"https://colab.research.google.com/github/AvilaIzaias/CESAR---PYTHON/blob/main/Desafio19082021.ipynb\" target=\"_parent\"><img src=\"https://colab.research.google.com/assets/colab-badge.svg\" alt=\"Open In Colab\"/></a>"
      ]
    },
    {
      "cell_type": "code",
      "metadata": {
        "colab": {
          "base_uri": "https://localhost:8080/"
        },
        "id": "HxU06cWtimau",
        "outputId": "8a561905-9a8e-4f61-f65e-f5c12a12c27e"
      },
      "source": [
        "raio = float(input())\n",
        " \n",
        "area = 3.14159 * (raio*raio)\n",
        "\n",
        "print(f'A={area:.4f}')"
      ],
      "execution_count": 22,
      "outputs": [
        {
          "output_type": "stream",
          "text": [
            "2\n",
            "A=12.5664\n"
          ],
          "name": "stdout"
        }
      ]
    },
    {
      "cell_type": "code",
      "metadata": {
        "id": "LQzfTeW7mK0J"
      },
      "source": [
        "#1007\n",
        "A = int(input())\n",
        "B = int(input())\n",
        "C = int(input())\n",
        "D = int(input())\n",
        "\n",
        "DIFERENCA = (A * B - C * D)\n",
        "print(f'DIFERENCA = {DIFERENCA}')"
      ],
      "execution_count": null,
      "outputs": []
    },
    {
      "cell_type": "code",
      "metadata": {
        "id": "9nW8UX3Ak3EG"
      },
      "source": [
        "A = int(input())\n",
        "B = int(input())\n",
        "\n",
        "SOMA = A + B\n",
        "print(f'SOMA = {SOMA}')\n"
      ],
      "execution_count": null,
      "outputs": []
    },
    {
      "cell_type": "code",
      "metadata": {
        "id": "YtaiTy-r0rL9"
      },
      "source": [
        "x1 = float(input())\n",
        "x2 = float(input())\n",
        "y1 = float(input())\n",
        "y2 = float(input())\n",
        "\n",
        "Distancia = ((x2 - x1)**2 - (y2 - y1)**2) ** 0.5\n",
        "\n",
        "print(f'{Distancia:.4f}')\n"
      ],
      "execution_count": null,
      "outputs": []
    }
  ]
}