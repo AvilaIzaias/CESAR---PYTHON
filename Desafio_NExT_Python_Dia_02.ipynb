{
  "nbformat": 4,
  "nbformat_minor": 0,
  "metadata": {
    "colab": {
      "name": "Desafio NExT Python - Dia 02",
      "provenance": [],
      "collapsed_sections": [],
      "include_colab_link": true
    },
    "kernelspec": {
      "name": "python3",
      "display_name": "Python 3"
    },
    "language_info": {
      "name": "python"
    }
  },
  "cells": [
    {
      "cell_type": "markdown",
      "metadata": {
        "id": "view-in-github",
        "colab_type": "text"
      },
      "source": [
        "<a href=\"https://colab.research.google.com/github/AvilaIzaias/CESAR---PYTHON/blob/main/Desafio_NExT_Python_Dia_02.ipynb\" target=\"_parent\"><img src=\"https://colab.research.google.com/assets/colab-badge.svg\" alt=\"Open In Colab\"/></a>"
      ]
    },
    {
      "cell_type": "markdown",
      "metadata": {
        "id": "13PxXo-ENFhg"
      },
      "source": [
        "<img src=\"https://www.cesar.school/wp-content/uploads/2019/09/marca_cesar_school.png\" alt=\"drawing\" width=\"200\"/>\n",
        "\n",
        "# Maratona Python - **Dia 02**\n",
        "\n",
        "---\n",
        "\n",
        "- Maratona de Programação\n",
        "- URI\n",
        "- Desafios"
      ]
    },
    {
      "cell_type": "markdown",
      "metadata": {
        "id": "6r1dx-1WPidP"
      },
      "source": [
        "![URI](https://www.urionlinejudge.com.br/judge/img/5.0/logo.130615.png?1591503281)\n",
        "\n",
        "O URI é um projeto que promove a prática de programação atavés de um sistema que avalia de forma automática a execução de códigos através de uma ferramenta on-line.\n",
        "\n",
        "Ele possui mais de 1000 questões, dividios em 8 grandes categorias. Disponíveis em Portugês e Inglês.\n",
        "\n",
        "- Times;\n",
        "- Torneio.\n",
        "\n",
        "> FAQ: [Status das questões](https://www.urionlinejudge.com.br/judge/pt/answers)"
      ]
    },
    {
      "cell_type": "markdown",
      "metadata": {
        "id": "EMf67FvISgvQ"
      },
      "source": [
        "# Questões"
      ]
    },
    {
      "cell_type": "markdown",
      "metadata": {
        "id": "_yjYDrnE0Kpj"
      },
      "source": [
        "[1000 - Hello World!](https://www.urionlinejudge.com.br/judge/pt/problems/view/1000)"
      ]
    },
    {
      "cell_type": "code",
      "metadata": {
        "id": "iTvIeT3UMJRA"
      },
      "source": [
        ""
      ],
      "execution_count": null,
      "outputs": []
    },
    {
      "cell_type": "markdown",
      "metadata": {
        "id": "Pelrazkl1AXI"
      },
      "source": [
        "[1001 - Extremamente Básico](https://www.urionlinejudge.com.br/judge/pt/problems/view/1001)"
      ]
    },
    {
      "cell_type": "code",
      "metadata": {
        "id": "EmdkYlL-SodG",
        "colab": {
          "base_uri": "https://localhost:8080/"
        },
        "outputId": "1d1d6541-6648-47ba-abb4-bc7795ec14af"
      },
      "source": [
        "a = int(input())\n",
        "b = int(input())\n",
        "\n",
        "X = a + b\n",
        "\n",
        "print(f\"X = {X}\")"
      ],
      "execution_count": null,
      "outputs": [
        {
          "output_type": "stream",
          "text": [
            "Digite seu numero50\n",
            "9\n",
            "X = 59\n"
          ],
          "name": "stdout"
        }
      ]
    },
    {
      "cell_type": "markdown",
      "metadata": {
        "id": "YGB60XV212UV"
      },
      "source": [
        "[1008 - Salário](https://www.urionlinejudge.com.br/judge/pt/problems/view/1008)"
      ]
    },
    {
      "cell_type": "code",
      "metadata": {
        "id": "NMmNHL0RSq0m",
        "colab": {
          "base_uri": "https://localhost:8080/"
        },
        "outputId": "085588c7-6c9f-4f5f-c948-30ac6fb389f8"
      },
      "source": [
        "a = int(input())\n",
        "b = int(input())\n",
        "c = float(input())\n",
        "\n",
        "salary = b * c\n",
        "\n",
        "print(f\"NUMBER = {a}\")\n",
        "print(f\"SALARY = U$ {salary:.2f}\")"
      ],
      "execution_count": null,
      "outputs": [
        {
          "output_type": "stream",
          "text": [
            "25\n",
            "100\n",
            "5.50\n",
            "NUMBER = 25\n",
            "SALARY = U$ 550.00\n"
          ],
          "name": "stdout"
        }
      ]
    },
    {
      "cell_type": "markdown",
      "metadata": {
        "id": "7ikxmXNl2E3s"
      },
      "source": [
        "[1011 - Esfera](https://www.urionlinejudge.com.br/judge/pt/problems/view/1011)"
      ]
    },
    {
      "cell_type": "code",
      "metadata": {
        "id": "xcpsw_PeSsvn"
      },
      "source": [
        ""
      ],
      "execution_count": null,
      "outputs": []
    },
    {
      "cell_type": "markdown",
      "metadata": {
        "id": "bpAFkEWK2iiK"
      },
      "source": [
        "[1013 - O Maior](https://www.urionlinejudge.com.br/judge/pt/problems/view/1013)"
      ]
    },
    {
      "cell_type": "code",
      "metadata": {
        "id": "AB9u2kZQSvKA",
        "colab": {
          "base_uri": "https://localhost:8080/"
        },
        "outputId": "64702a8e-7648-402b-8058-e9ebaeee27f2"
      },
      "source": [
        "entrada = input().split(' ') \n",
        "a = int(entrada[0]) \n",
        "b = int(entrada[1]) \n",
        "c = int(entrada[2]) \n",
        "maiorAB = (a+b+abs(a-b))/2 \n",
        "maiorABC = (maiorAB+c+abs(maiorAB-c))/2\n",
        "print(f\"{int(maiorABC)} eh o maior\") "
      ],
      "execution_count": null,
      "outputs": [
        {
          "output_type": "stream",
          "text": [
            "7 14 106\n",
            "106 eh o maior\n"
          ],
          "name": "stdout"
        }
      ]
    },
    {
      "cell_type": "markdown",
      "metadata": {
        "id": "W6ynyQ3M3O1r"
      },
      "source": [
        "[1038 - Lanche](https://www.urionlinejudge.com.br/judge/pt/problems/view/1038)"
      ]
    },
    {
      "cell_type": "code",
      "metadata": {
        "id": "UTUmYMw0SzDH",
        "colab": {
          "base_uri": "https://localhost:8080/"
        },
        "outputId": "4b409850-2be6-46b7-ca96-b87e20b05295"
      },
      "source": [
        "entrada = input().split(\" \") \n",
        "codigo = int(entrada[0]) \n",
        "quant = int(entrada[1]) \n",
        "preco = [4.0,4.5,5.0,2.0,1.5] \n",
        "if (codigo == 1): \n",
        "  total = quant*preco[0] \n",
        "elif (codigo == 2): \n",
        "  total = quant*preco[1] \n",
        "elif (codigo == 3): \n",
        "  total = quant*preco[2] \n",
        "elif (codigo == 4): \n",
        "  total = quant*preco[3] \n",
        "elif (codigo == 5): \n",
        "  total = quant*preco[4] \n",
        "\n",
        "print(f\"Total: R$ {total}\") "
      ],
      "execution_count": null,
      "outputs": [
        {
          "output_type": "stream",
          "text": [
            "3 2\n",
            "Total: R$ 10.0\n"
          ],
          "name": "stdout"
        }
      ]
    },
    {
      "cell_type": "code",
      "metadata": {
        "id": "GRXAu-6LSzdP"
      },
      "source": [
        ""
      ],
      "execution_count": null,
      "outputs": []
    },
    {
      "cell_type": "markdown",
      "metadata": {
        "id": "16utMTxg67WQ"
      },
      "source": [
        "[1050 - DDD](https://www.urionlinejudge.com.br/judge/pt/problems/view/1050)"
      ]
    },
    {
      "cell_type": "code",
      "metadata": {
        "id": "q0EwIZ-5S3-n",
        "colab": {
          "base_uri": "https://localhost:8080/"
        },
        "outputId": "09140c5f-af93-4723-c464-ecbb547424ac"
      },
      "source": [
        "tabela = { \n",
        "    61: \"Brasilia\", \n",
        "    71: \"Salvador\", \n",
        "    11: \"Sao Paulo\", \n",
        "    21: \"Rio de Janeiro\", \n",
        "    32: \"Juiz de Fora\", \n",
        "    19: \"Campinas\", \n",
        "    27: \"Vitoria\", \n",
        "    31: \"Belo Horizonte\" \n",
        "} \n",
        "entrada = int(input()) \n",
        "if entrada in tabela.keys(): \n",
        "  print(tabela[entrada]) \n",
        "else: \n",
        "  print(\"DDD nao cadastrado\") "
      ],
      "execution_count": null,
      "outputs": [
        {
          "output_type": "stream",
          "text": [
            "6465\n",
            "DDD não cadastrado\n"
          ],
          "name": "stdout"
        }
      ]
    },
    {
      "cell_type": "markdown",
      "metadata": {
        "id": "p3rb-Rtj-QsA"
      },
      "source": [
        "[1094 - Experiências](https://www.urionlinejudge.com.br/judge/pt/problems/view/1094)"
      ]
    },
    {
      "cell_type": "code",
      "metadata": {
        "id": "2jUmOyQmS7s4",
        "colab": {
          "base_uri": "https://localhost:8080/"
        },
        "outputId": "af6a2030-347f-4d57-b58a-2a44eefb7fdf"
      },
      "source": [
        "sal = 12.356543\n",
        "print(\"SALARY = U$ %.2f\" % sal)\n",
        "print(f\"SALARY = U$ {sal:.2f}\")"
      ],
      "execution_count": null,
      "outputs": [
        {
          "output_type": "stream",
          "text": [
            "SALARY = U$ 12.36\n",
            "SALARY = U$ 12.36\n"
          ],
          "name": "stdout"
        }
      ]
    },
    {
      "cell_type": "markdown",
      "metadata": {
        "id": "bnoNGhV4-Zh7"
      },
      "source": [
        "[1151 - Fibonacci Fácil](https://www.urionlinejudge.com.br/judge/pt/problems/view/1151)"
      ]
    },
    {
      "cell_type": "code",
      "metadata": {
        "id": "Z65_FBDWS8tP"
      },
      "source": [
        "n = int(input())\n",
        "\n",
        "x = 0\n",
        "anterior = 1\n",
        "aux =\n",
        "texto = \"\"\n",
        "\n",
        "while x < n:\n",
        "    texto += f\" {x}\"\n",
        "    x += anterior\n",
        "    anterior = x\n",
        "    "
      ],
      "execution_count": null,
      "outputs": []
    },
    {
      "cell_type": "markdown",
      "metadata": {
        "id": "Ak42Hq4j-l5A"
      },
      "source": [
        "[1173 - Preenchimento de Vetor I](https://www.urionlinejudge.com.br/judge/pt/problems/view/1173)"
      ]
    },
    {
      "cell_type": "code",
      "metadata": {
        "id": "XTV0gajFS-wG"
      },
      "source": [
        ""
      ],
      "execution_count": null,
      "outputs": []
    },
    {
      "cell_type": "markdown",
      "metadata": {
        "id": "GMv2Vm9k_JOu"
      },
      "source": [
        "[1175 - Troca em Vetor I](https://www.urionlinejudge.com.br/judge/pt/problems/view/1175)"
      ]
    },
    {
      "cell_type": "code",
      "metadata": {
        "id": "NBRC6ybCTBe3"
      },
      "source": [
        ""
      ],
      "execution_count": null,
      "outputs": []
    },
    {
      "cell_type": "markdown",
      "metadata": {
        "id": "WrVwSZDcBr1Q"
      },
      "source": [
        "[2569 - A Bruxa do 7 x 1](https://www.urionlinejudge.com.br/judge/pt/problems/view/2569)\n"
      ]
    },
    {
      "cell_type": "code",
      "metadata": {
        "id": "Pj5NmgyOTF5P"
      },
      "source": [
        ""
      ],
      "execution_count": null,
      "outputs": []
    },
    {
      "cell_type": "markdown",
      "metadata": {
        "id": "XPOEenQmE_5k"
      },
      "source": [
        "[2650 - Construindo Muralhas](https://www.urionlinejudge.com.br/judge/pt/problems/view/2650)"
      ]
    },
    {
      "cell_type": "code",
      "metadata": {
        "id": "DbMNIFRkVpPn"
      },
      "source": [
        ""
      ],
      "execution_count": null,
      "outputs": []
    },
    {
      "cell_type": "markdown",
      "metadata": {
        "id": "MJrywUB7ayEp"
      },
      "source": [
        "[2653 - Dijkstra](https://www.urionlinejudge.com.br/judge/pt/problems/view/2653)"
      ]
    },
    {
      "cell_type": "code",
      "metadata": {
        "id": "Qk5-O6nEVptX"
      },
      "source": [
        ""
      ],
      "execution_count": null,
      "outputs": []
    }
  ]
}