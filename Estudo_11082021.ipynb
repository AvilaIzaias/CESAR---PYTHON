{
  "nbformat": 4,
  "nbformat_minor": 0,
  "metadata": {
    "colab": {
      "name": "Estudo 11082021.ipynb",
      "provenance": [],
      "authorship_tag": "ABX9TyOsVISct9GJ/0e8HRwX2kp8",
      "include_colab_link": true
    },
    "kernelspec": {
      "name": "python3",
      "display_name": "Python 3"
    },
    "language_info": {
      "name": "python"
    }
  },
  "cells": [
    {
      "cell_type": "markdown",
      "metadata": {
        "id": "view-in-github",
        "colab_type": "text"
      },
      "source": [
        "<a href=\"https://colab.research.google.com/github/AvilaIzaias/CESAR---PYTHON/blob/main/Estudo_11082021.ipynb\" target=\"_parent\"><img src=\"https://colab.research.google.com/assets/colab-badge.svg\" alt=\"Open In Colab\"/></a>"
      ]
    },
    {
      "cell_type": "markdown",
      "metadata": {
        "id": "zwHzlAqNcIlo"
      },
      "source": [
        "UTILIZANDO O PYTHON COMO CALCULADORA:"
      ]
    },
    {
      "cell_type": "code",
      "metadata": {
        "colab": {
          "base_uri": "https://localhost:8080/"
        },
        "id": "sIhnIEQSbAHQ",
        "outputId": "bb425b48-44bc-4b5c-9103-f24f51a6adcf"
      },
      "source": [
        "2 + 2"
      ],
      "execution_count": 2,
      "outputs": [
        {
          "output_type": "execute_result",
          "data": {
            "text/plain": [
              "4"
            ]
          },
          "metadata": {
            "tags": []
          },
          "execution_count": 2
        }
      ]
    },
    {
      "cell_type": "code",
      "metadata": {
        "colab": {
          "base_uri": "https://localhost:8080/"
        },
        "id": "VzwmwN8tbFan",
        "outputId": "afd2465c-1814-4c7a-bf29-9e3123439361"
      },
      "source": [
        "a = 20\n",
        "b = 5 * 9\n",
        "c = a * b\n",
        "c"
      ],
      "execution_count": 4,
      "outputs": [
        {
          "output_type": "execute_result",
          "data": {
            "text/plain": [
              "900"
            ]
          },
          "metadata": {
            "tags": []
          },
          "execution_count": 4
        }
      ]
    },
    {
      "cell_type": "code",
      "metadata": {
        "colab": {
          "base_uri": "https://localhost:8080/"
        },
        "id": "ke7mhgO4cQQb",
        "outputId": "282d21ff-082e-4805-f236-24e50ce0ea5b"
      },
      "source": [
        "5 ** 3\n"
      ],
      "execution_count": 6,
      "outputs": [
        {
          "output_type": "execute_result",
          "data": {
            "text/plain": [
              "125"
            ]
          },
          "metadata": {
            "tags": []
          },
          "execution_count": 6
        }
      ]
    },
    {
      "cell_type": "code",
      "metadata": {
        "colab": {
          "base_uri": "https://localhost:8080/"
        },
        "id": "hOA2Qn_8cmHR",
        "outputId": "2208bb8b-d01b-459a-f980-34588865b7d6"
      },
      "source": [
        "imposto = 12.5 / 100\n",
        "preço = 100.5\n",
        "preço * imposto\n",
        "preço + _  # o valor da última expressão exibida é atribuída a variável _\n",
        "round(_, 2) # arredonda para duas casas"
      ],
      "execution_count": 17,
      "outputs": [
        {
          "output_type": "execute_result",
          "data": {
            "text/plain": [
              "113.06"
            ]
          },
          "metadata": {
            "tags": []
          },
          "execution_count": 17
        }
      ]
    },
    {
      "cell_type": "markdown",
      "metadata": {
        "id": "3reCU8VUgfVP"
      },
      "source": [
        "UTILIZANDO AS STRINGS:"
      ]
    },
    {
      "cell_type": "code",
      "metadata": {
        "colab": {
          "base_uri": "https://localhost:8080/",
          "height": 35
        },
        "id": "y6mBxo0nc6Qm",
        "outputId": "56aa3025-14c5-4265-8135-3167cc1bd451"
      },
      "source": [
        "'Py' 'thon' # duas strings separadas podem ser concatenadas"
      ],
      "execution_count": 19,
      "outputs": [
        {
          "output_type": "execute_result",
          "data": {
            "application/vnd.google.colaboratory.intrinsic+json": {
              "type": "string"
            },
            "text/plain": [
              "'Python'"
            ]
          },
          "metadata": {
            "tags": []
          },
          "execution_count": 19
        }
      ]
    },
    {
      "cell_type": "code",
      "metadata": {
        "colab": {
          "base_uri": "https://localhost:8080/",
          "height": 35
        },
        "id": "r_nvgYCIg54F",
        "outputId": "931adfcb-5926-4363-d471-8cc47022ef57"
      },
      "source": [
        "prefixo = 'Py'\n",
        "prefixo = 'thon'\n",
        "'Py' + prefixo\n",
        "prefixo + 'thon'\n"
      ],
      "execution_count": 24,
      "outputs": [
        {
          "output_type": "execute_result",
          "data": {
            "application/vnd.google.colaboratory.intrinsic+json": {
              "type": "string"
            },
            "text/plain": [
              "'thonthon'"
            ]
          },
          "metadata": {
            "tags": []
          },
          "execution_count": 24
        }
      ]
    },
    {
      "cell_type": "code",
      "metadata": {
        "colab": {
          "base_uri": "https://localhost:8080/",
          "height": 35
        },
        "id": "RaoimCo4iEJ9",
        "outputId": "3b576b51-488c-4d3f-a7b3-235913625b37"
      },
      "source": [
        "word = 'Python'\n",
        "word [:2] # até o índice 2(excluido) 0 - 1\n",
        "word [2:] # do indice 2(incluído) em diante . 2-3-4-5\n",
        "#word [42] # vai dar erro a palavra só tem indice de 0 a 5. (string index out of range(fora do alcance))\n",
        "word [-1] # Ele pega a última letra (indice reverso -6, -5, -4, -3, -2, -1)\n",
        "word [-6] # Ele pega a primeira letra (indice reverso -6, -5, -4, -3, -2, -1)\n",
        "word [0:2] # inclui o indice 0 e exclui o indice 2\n",
        "word [0 : 5] # inclui o indice 0 e exclui o indice 5\n",
        "word [0 : 6] #inclui o indice 0 e exclui o indice 6(que nesse caso não existe)\n",
        "word [0 : 2] + word [2:6] # a saída será Python\n",
        "word [:2] + word[3:6] #saída será Python\n",
        "word [:2] + word[2:] #saida será Python\n",
        "word [:3] + word[3:] #saida será Python\n",
        "word [4:42] #saída 'on'\n",
        "#word [0] = J #As strings do Python não podem ser alteradas — \n",
        "#uma string é imutável. Portanto, atribuir a uma posição indexada na sequência resulta em um erro=>>: \"name 'J' is not defined\"\n"
      ],
      "execution_count": 49,
      "outputs": [
        {
          "output_type": "execute_result",
          "data": {
            "application/vnd.google.colaboratory.intrinsic+json": {
              "type": "string"
            },
            "text/plain": [
              "'on'"
            ]
          },
          "metadata": {
            "tags": []
          },
          "execution_count": 49
        }
      ]
    },
    {
      "cell_type": "markdown",
      "metadata": {
        "id": "15x9Jva7pX0J"
      },
      "source": [
        "A função embutida len() devolve o comprimento de uma string:"
      ]
    },
    {
      "cell_type": "code",
      "metadata": {
        "colab": {
          "base_uri": "https://localhost:8080/"
        },
        "id": "9PuXGbeinnZP",
        "outputId": "e28754d6-022c-4174-bc15-75e5816d9d53"
      },
      "source": [
        "s =  'gabrielavilaavelino'\n",
        "len(s)"
      ],
      "execution_count": 50,
      "outputs": [
        {
          "output_type": "execute_result",
          "data": {
            "text/plain": [
              "19"
            ]
          },
          "metadata": {
            "tags": []
          },
          "execution_count": 50
        }
      ]
    },
    {
      "cell_type": "code",
      "metadata": {
        "colab": {
          "base_uri": "https://localhost:8080/"
        },
        "id": "jsC9xemlnjJP",
        "outputId": "9c8a057b-d7f4-479b-83d3-bd3b632ce60d"
      },
      "source": [
        "s = 'aquilesavilaavelino'\n",
        "len(s)"
      ],
      "execution_count": 53,
      "outputs": [
        {
          "output_type": "execute_result",
          "data": {
            "text/plain": [
              "19"
            ]
          },
          "metadata": {
            "tags": []
          },
          "execution_count": 53
        }
      ]
    },
    {
      "cell_type": "code",
      "metadata": {
        "colab": {
          "base_uri": "https://localhost:8080/"
        },
        "id": "9HZfBJnPp4Aw",
        "outputId": "0007da1d-03c6-4fcc-dadb-eed6c3c50880"
      },
      "source": [
        "k = 'keniaavilaavelino'\n",
        "len(k)"
      ],
      "execution_count": 55,
      "outputs": [
        {
          "output_type": "execute_result",
          "data": {
            "text/plain": [
              "17"
            ]
          },
          "metadata": {
            "tags": []
          },
          "execution_count": 55
        }
      ]
    },
    {
      "cell_type": "code",
      "metadata": {
        "colab": {
          "base_uri": "https://localhost:8080/"
        },
        "id": "E5AZgWRTp_w9",
        "outputId": "60e70929-ab2b-4091-fa56-ff3e44be8e6d"
      },
      "source": [
        "sa = 'saronmatiascarvalhoavelino'\n",
        "len(sa)"
      ],
      "execution_count": 58,
      "outputs": [
        {
          "output_type": "execute_result",
          "data": {
            "text/plain": [
              "26"
            ]
          },
          "metadata": {
            "tags": []
          },
          "execution_count": 58
        }
      ]
    },
    {
      "cell_type": "markdown",
      "metadata": {
        "id": "OnIw-7O1wXxE"
      },
      "source": [
        "LISTAS:"
      ]
    },
    {
      "cell_type": "code",
      "metadata": {
        "colab": {
          "base_uri": "https://localhost:8080/"
        },
        "id": "TLc0yJN4wIQs",
        "outputId": "f78ddfaa-a3b9-4e09-924d-8cfc572895ad"
      },
      "source": [
        "squares = [1, 4, 9, 16, 25]\n",
        "squares\n",
        "squares [-1]\n",
        "squares[0]\n",
        "squares [:] #mostra todos os elementos da lista\n",
        "squares [-3:] #indice - 3 incluido (-3, -2, -1) = 9, 16, 25\n",
        "squares + [36, 49, 64, 81, 100] # adicionou uma outra lista na lista anterior(agregou os valores) +(concatenou)\n",
        "\n"
      ],
      "execution_count": 65,
      "outputs": [
        {
          "output_type": "execute_result",
          "data": {
            "text/plain": [
              "[1, 4, 9, 16, 25, 36, 49, 64, 81, 100]"
            ]
          },
          "metadata": {
            "tags": []
          },
          "execution_count": 65
        }
      ]
    },
    {
      "cell_type": "code",
      "metadata": {
        "colab": {
          "base_uri": "https://localhost:8080/"
        },
        "id": "YzcDdl77wcF2",
        "outputId": "0f633e88-adfe-4f46-a54c-9ac99201f643"
      },
      "source": [
        "cubes = [1, 8, 27, 65, 125] #tem coisa errada aqui\n",
        "4 ** 3 # o cubes de 4 é 64 e não 65\n",
        "cubes [3] = 64 #agora foi corrigido =>> alterado o indice 3 por 64\n",
        "cubes"
      ],
      "execution_count": 70,
      "outputs": [
        {
          "output_type": "execute_result",
          "data": {
            "text/plain": [
              "[1, 8, 27, 64, 125]"
            ]
          },
          "metadata": {
            "tags": []
          },
          "execution_count": 70
        }
      ]
    },
    {
      "cell_type": "code",
      "metadata": {
        "colab": {
          "base_uri": "https://localhost:8080/"
        },
        "id": "FpQPqriYy-tx",
        "outputId": "2ea93d49-cb96-437b-d642-48af860b0ddd"
      },
      "source": [
        "#Você também pode adicionar novos itens no final da lista, usando o método append() \n",
        "#(estudaremos mais a respeito dos métodos posteriormente):\n",
        "cubes.append(216) # adicionar o cubo de 6 . note que utilizou os parênteses\n",
        "cubes.append(7 ** 3) # adicionando o cubo de 7\n",
        "cubes"
      ],
      "execution_count": 72,
      "outputs": [
        {
          "output_type": "execute_result",
          "data": {
            "text/plain": [
              "[1, 8, 27, 64, 125, 216, 343, 216, 343]"
            ]
          },
          "metadata": {
            "tags": []
          },
          "execution_count": 72
        }
      ]
    },
    {
      "cell_type": "code",
      "metadata": {
        "colab": {
          "base_uri": "https://localhost:8080/"
        },
        "id": "VM3X7rQR0SPM",
        "outputId": "b604bff7-2f90-4b3e-faee-055303029673"
      },
      "source": [
        "#Atribuição a fatias também é possível, e isso pode até alterar o tamanho da lista ou remover todos os itens dela:\n",
        "letras = ['a', 'b', 'c', 'd', 'e' , 'f', 'g']\n",
        "letras\n",
        "#SUBSTITUIR ALGUNS VALORES\n",
        "letras [2 : 5] = ['C', 'D', 'E']\n",
        "#REMOVER LETRAS\n",
        "letras [2 : 5] = [ ]\n",
        "letras\n",
        "#LIMPAR TODA A LISTA E DEIXÁ-LA VAZIA\n",
        "letras[:] = []\n",
        "letras"
      ],
      "execution_count": 78,
      "outputs": [
        {
          "output_type": "execute_result",
          "data": {
            "text/plain": [
              "[]"
            ]
          },
          "metadata": {
            "tags": []
          },
          "execution_count": 78
        }
      ]
    },
    {
      "cell_type": "code",
      "metadata": {
        "colab": {
          "base_uri": "https://localhost:8080/"
        },
        "id": "HRVCN92t2zwC",
        "outputId": "9c899384-d399-4dee-dd09-31a18b311c4d"
      },
      "source": [
        "#A função embutida len() também se aplica a listas:\n",
        "letras = ['a', 'b', 'c', 'd', 'e' , 'f', 'g']\n",
        "len(letras) # saída 7\n",
        "letras = ['a', 'b', 'c', 'd', 'e' , 'f']\n",
        "len(letras) #saída 6\n",
        "letras = ['a', 'b', 'c', 'd', 'e']\n",
        "len(letras) #saída 5\n",
        "letras = ['a', 'b', 'c', 'd']\n",
        "len(letras) #saída 4\n",
        "letras = ['a', 'b', 'c']\n",
        "len(letras) #saída 3\n",
        "letras = ['a', 'b']\n",
        "len(letras) #saída 2\n",
        "letras = ['a']\n",
        "len(letras) #saída 1\n",
        "letras = []\n",
        "len(letras) #saída 0"
      ],
      "execution_count": 87,
      "outputs": [
        {
          "output_type": "execute_result",
          "data": {
            "text/plain": [
              "0"
            ]
          },
          "metadata": {
            "tags": []
          },
          "execution_count": 87
        }
      ]
    },
    {
      "cell_type": "code",
      "metadata": {
        "colab": {
          "base_uri": "https://localhost:8080/"
        },
        "id": "rLAAva3x4Fhf",
        "outputId": "46691f57-1200-4ec1-f284-027458e644d9"
      },
      "source": [
        "nume = [14.1, 12.1, 10.0, 15.9]\n",
        "nume\n",
        "min(nume) #essa função verifica o menor numero no caso 10.0, se fosse a funcao max o resultado seria 15.9\n",
        "nume.append(20.0) #adicionou 20.0 no final da lista\n",
        "nume\n",
        "max(nume)"
      ],
      "execution_count": 97,
      "outputs": [
        {
          "output_type": "execute_result",
          "data": {
            "text/plain": [
              "20.0"
            ]
          },
          "metadata": {
            "tags": []
          },
          "execution_count": 97
        }
      ]
    },
    {
      "cell_type": "code",
      "metadata": {
        "colab": {
          "base_uri": "https://localhost:8080/",
          "height": 35
        },
        "id": "Gp8Cazwf5vnl",
        "outputId": "5113b4e0-8ccf-43f6-d13a-33673e1b09c0"
      },
      "source": [
        "#É possível aninhar listas (criar listas contendo outras listas), por exemplo:\n",
        "a = ['a', 'b', 'c']\n",
        "n = [1, 2, 3]\n",
        "x = [a, n]\n",
        "x # saída foi [['a', 'b', 'c'], [1, 2, 3]]\n",
        "x [0] # saída foi['a', 'b', 'c']\n",
        "x [0][1] #saída foi 'b' => indice 0 = todos elementos de a e no indice 1 do a está o 'b'."
      ],
      "execution_count": 101,
      "outputs": [
        {
          "output_type": "execute_result",
          "data": {
            "application/vnd.google.colaboratory.intrinsic+json": {
              "type": "string"
            },
            "text/plain": [
              "'b'"
            ]
          },
          "metadata": {
            "tags": []
          },
          "execution_count": 101
        }
      ]
    },
    {
      "cell_type": "markdown",
      "metadata": {
        "id": "Q42098T771kN"
      },
      "source": [
        "## Primeiros passos para a programação¶"
      ]
    },
    {
      "cell_type": "code",
      "metadata": {
        "colab": {
          "base_uri": "https://localhost:8080/"
        },
        "id": "fwLRjyGT70T5",
        "outputId": "26865fdb-58c2-4b33-8db4-dad3bf82d538"
      },
      "source": [
        "# resolvendo a questão da soma de dois elementos é igual ao próximo elemento.\n",
        "\n",
        "a , b = 0 , 1\n",
        "while a < 10:\n",
        "  print(a, end = \" , \") #O argumento end pode ser usado para evitar uma nova linha após a saída ou finalizar a saída com uma string diferente:\n",
        "  a, b = b, a+b"
      ],
      "execution_count": 107,
      "outputs": [
        {
          "output_type": "stream",
          "text": [
            "0 , 1 , 1 , 2 , 3 , 5 , 8 , "
          ],
          "name": "stdout"
        }
      ]
    }
  ]
}