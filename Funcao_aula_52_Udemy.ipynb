{
  "nbformat": 4,
  "nbformat_minor": 0,
  "metadata": {
    "colab": {
      "name": "Funcao aula 52 Udemy.ipynb",
      "provenance": [],
      "authorship_tag": "ABX9TyP8Pr+ucjpLS04/3sEtD0vG",
      "include_colab_link": true
    },
    "kernelspec": {
      "name": "python3",
      "display_name": "Python 3"
    },
    "language_info": {
      "name": "python"
    }
  },
  "cells": [
    {
      "cell_type": "markdown",
      "metadata": {
        "id": "view-in-github",
        "colab_type": "text"
      },
      "source": [
        "<a href=\"https://colab.research.google.com/github/AvilaIzaias/CESAR---PYTHON/blob/main/Funcao_aula_52_Udemy.ipynb\" target=\"_parent\"><img src=\"https://colab.research.google.com/assets/colab-badge.svg\" alt=\"Open In Colab\"/></a>"
      ]
    },
    {
      "cell_type": "code",
      "metadata": {
        "colab": {
          "base_uri": "https://localhost:8080/"
        },
        "id": "EGszU5TNl9qp",
        "outputId": "c9872aa9-f596-447e-cf24-50f971e20a83"
      },
      "source": [
        "def funcao():\n",
        "  print('Hello world!')\n",
        "# chamando a funcao duas vezes e é imprisso mostrando na tela.\n",
        "funcao()\n",
        "funcao()"
      ],
      "execution_count": null,
      "outputs": [
        {
          "output_type": "stream",
          "text": [
            "Hello world!\n",
            "Hello world!\n"
          ],
          "name": "stdout"
        }
      ]
    },
    {
      "cell_type": "code",
      "metadata": {
        "colab": {
          "base_uri": "https://localhost:8080/"
        },
        "id": "rJ0EDxtdnDUX",
        "outputId": "b53d1049-755b-40ab-b5a1-4cfb54b4dcfa"
      },
      "source": [
        "def funcao():  #Vc poderia imprimir varias vezes que daria a mesma coisa(A PRATICA DA FUNCAO É QUE SER VC ALTERAR O PRINT VC MUDA APENAS UMA VEZ)\n",
        "  print('Alô Mundo!')\n",
        "# chamando a funcao duas vezes e é imprisso mostrando na tela.\n",
        "funcao()\n",
        "funcao()"
      ],
      "execution_count": null,
      "outputs": [
        {
          "output_type": "stream",
          "text": [
            "Alô Mundo!\n",
            "Alô Mundo!\n"
          ],
          "name": "stdout"
        }
      ]
    },
    {
      "cell_type": "code",
      "metadata": {
        "id": "bdblg8Ib-2yX"
      },
      "source": [
        "def saudacao(msg = 'Olá', nome = 'usuário'):\n",
        "  nome = nome.replace('e', '3')  #Onde existir e será substituído por 3\n",
        "  msg = msg.replace('e', '3')  #Onde existir e será substituído por 3\n",
        "  return f'{msg} {nome}'\n",
        "\n",
        "  variavel = saudacao()\n",
        "  print(variavel)"
      ],
      "execution_count": null,
      "outputs": []
    },
    {
      "cell_type": "code",
      "metadata": {
        "id": "bcuW5zqa-1rS"
      },
      "source": [
        "d"
      ],
      "execution_count": null,
      "outputs": []
    },
    {
      "cell_type": "code",
      "metadata": {
        "id": "JFE-TRa2AmUh"
      },
      "source": [
        "def funcao(var):\n",
        "    print(var)\n",
        "    funcao('Escrever o que quiser')\n",
        "#nao funcionou"
      ],
      "execution_count": null,
      "outputs": []
    },
    {
      "cell_type": "code",
      "metadata": {
        "colab": {
          "base_uri": "https://localhost:8080/"
        },
        "id": "05gaaQWQDBb2",
        "outputId": "f2dd639e-1842-45a4-907e-64b6f2840cff"
      },
      "source": [
        "def divisao(n1, n2):\n",
        "  return n1 / n2\n",
        "\n",
        "divide = divisao(12, 2) #nao estava funcionando... quando eu prestei atenção a identação funcionou.\n",
        "print(divide)"
      ],
      "execution_count": null,
      "outputs": [
        {
          "output_type": "stream",
          "text": [
            "6.0\n"
          ],
          "name": "stdout"
        }
      ]
    },
    {
      "cell_type": "code",
      "metadata": {
        "colab": {
          "base_uri": "https://localhost:8080/"
        },
        "id": "xCDKwyqAFrnF",
        "outputId": "3472ca0e-9477-4973-89ef-43ecc129775b"
      },
      "source": [
        "def divisao(n1, n2):\n",
        "  if n2 == 0:\n",
        "    return\n",
        "  return n1 / n2\n",
        "xx = divisao(12, 0) #testando com o divisor igual a zero\n",
        "if xx:\n",
        "  print(xx)\n",
        "else:\n",
        "    print('Conta inválida')"
      ],
      "execution_count": null,
      "outputs": [
        {
          "output_type": "stream",
          "text": [
            "Conta inválida\n"
          ],
          "name": "stdout"
        }
      ]
    },
    {
      "cell_type": "markdown",
      "metadata": {
        "id": "p3KuRdQRsP6W"
      },
      "source": [
        "Continuando funções da aula 53 Udemy 18/08/2021."
      ]
    },
    {
      "cell_type": "code",
      "metadata": {
        "colab": {
          "base_uri": "https://localhost:8080/"
        },
        "id": "_AUznrwuIwWB",
        "outputId": "ee215b01-8330-4bc4-aece-07b52fa6f363"
      },
      "source": [
        "def dumb():\n",
        "  return False\n",
        "\n",
        "print(dumb(), type(dumb()))  # prete atenção na identação do código...\n"
      ],
      "execution_count": null,
      "outputs": [
        {
          "output_type": "stream",
          "text": [
            "False <class 'bool'>\n"
          ],
          "name": "stdout"
        }
      ]
    },
    {
      "cell_type": "code",
      "metadata": {
        "colab": {
          "base_uri": "https://localhost:8080/"
        },
        "id": "Pa21VUsnu-PK",
        "outputId": "f6911206-f950-4996-bd4e-a36a87e1b139"
      },
      "source": [
        "def dumb():\n",
        "  return 1.1\n",
        "\n",
        "var = dumb()\n",
        "print(var, type(var))  #atribuindo um valor para dumb... no caso var."
      ],
      "execution_count": null,
      "outputs": [
        {
          "output_type": "stream",
          "text": [
            "1.1 <class 'float'>\n"
          ],
          "name": "stdout"
        }
      ]
    },
    {
      "cell_type": "code",
      "metadata": {
        "colab": {
          "base_uri": "https://localhost:8080/"
        },
        "id": "YF35DS7DveQl",
        "outputId": "8cd15d31-21b3-4cbb-b1b4-7b6fb335616e"
      },
      "source": [
        "#retornando uma lista\n",
        "def dumb():\n",
        "  return [1, 2, 3, 4, 5]\n",
        "\n",
        "var = dumb()\n",
        "print(var, type(var))  \n"
      ],
      "execution_count": null,
      "outputs": [
        {
          "output_type": "stream",
          "text": [
            "[1, 2, 3, 4, 5] <class 'list'>\n"
          ],
          "name": "stdout"
        }
      ]
    },
    {
      "cell_type": "code",
      "metadata": {
        "colab": {
          "base_uri": "https://localhost:8080/"
        },
        "id": "_gyT7_covtuF",
        "outputId": "02b609e4-3cf2-44cf-bb90-4ea67e0d0edf"
      },
      "source": [
        "def dumb():\n",
        "  return\n",
        "\n",
        "var = dumb()\n",
        "print(var, type(var))  #retornou none que não é nada... não tem valor."
      ],
      "execution_count": null,
      "outputs": [
        {
          "output_type": "stream",
          "text": [
            "None <class 'NoneType'>\n"
          ],
          "name": "stdout"
        }
      ]
    },
    {
      "cell_type": "code",
      "metadata": {
        "colab": {
          "base_uri": "https://localhost:8080/"
        },
        "id": "oEuDh8lUwem5",
        "outputId": "4bfe8248-476e-465a-e8bf-abab99011523"
      },
      "source": [
        "def g(var):\n",
        "  print(var)\n",
        "\n",
        "def dumb():  #Quando vc não coloca os parenteses na função () apenas return g o type retorna função...\n",
        "  return g\n",
        "\n",
        "print(type(g))"
      ],
      "execution_count": null,
      "outputs": [
        {
          "output_type": "stream",
          "text": [
            "<class 'function'>\n"
          ],
          "name": "stdout"
        }
      ]
    },
    {
      "cell_type": "code",
      "metadata": {
        "colab": {
          "base_uri": "https://localhost:8080/"
        },
        "id": "YtvFgA360Fn2",
        "outputId": "0a7a7eaa-db0c-4be9-b07d-3f77a966d83f"
      },
      "source": [
        "def f(var):\n",
        "  print(var)\n",
        "\n",
        "def dumb(): \n",
        "  return f  #não está chamando(executando) a função está apenas retornando a função\n",
        "\n",
        "var = dumb()  #var agora é uma função ==>> olha o nó. dumb acima está retornando f que é uma função\n",
        "print(type(var))  #O type de var neste momento é <class 'function'>\n"
      ],
      "execution_count": null,
      "outputs": [
        {
          "output_type": "stream",
          "text": [
            "<class 'function'>\n"
          ],
          "name": "stdout"
        }
      ]
    },
    {
      "cell_type": "code",
      "metadata": {
        "colab": {
          "base_uri": "https://localhost:8080/"
        },
        "id": "7ahKepXg3QZx",
        "outputId": "affe9684-4964-46de-ac69-c9a055ac296f"
      },
      "source": [
        "def f(var):\n",
        "  print(var)\n",
        "\n",
        "def dumb(): \n",
        "  return f  #não está chamando(executando) a função está apenas retornando a função\n",
        "\n",
        "var = dumb()  #var agora é uma função ==>> olha o nó. dumb acima está retornando f que é uma função\n",
        "print(id(var), id(f))  #id é a identificação da função na memória... então perceba que os ids são iguais... 140251758486880 140251758486880"
      ],
      "execution_count": null,
      "outputs": [
        {
          "output_type": "stream",
          "text": [
            "140251758950736 140251758950736\n"
          ],
          "name": "stdout"
        }
      ]
    },
    {
      "cell_type": "code",
      "metadata": {
        "colab": {
          "base_uri": "https://localhost:8080/"
        },
        "id": "Bw_N2mah31Nq",
        "outputId": "a08e9260-975a-4875-8e4c-132a68859a34"
      },
      "source": [
        "#140251758486880 140251758486880\n",
        "def f(var):\n",
        "  print(var)\n",
        "\n",
        "def dumb(): \n",
        "  return f  #não está chamando(executando) a função está apenas retornando a função\n",
        "\n",
        "var = dumb()  #var agora é uma função ==>> olha o nó. dumb acima está retornando f que é uma função e se var = dumb() então var é uma função\n",
        "print(id(var), id(f)) \n",
        "#então vamos fazer uma verificação dessa igualdade...\n",
        "if var == f:\n",
        "  print(\"var é igual a f\")  #retorno140251758679536 14025175867953 - var é igual a f. dentro da memória do computador\n",
        "else:\n",
        "  print(\"kkkkkkkkkkkkkk\")"
      ],
      "execution_count": null,
      "outputs": [
        {
          "output_type": "stream",
          "text": [
            "140251758680112 140251758680112\n",
            "var é igual a f\n"
          ],
          "name": "stdout"
        }
      ]
    },
    {
      "cell_type": "code",
      "metadata": {
        "colab": {
          "base_uri": "https://localhost:8080/"
        },
        "id": "Bk6Cy2BR7aar",
        "outputId": "9b009e90-283a-4b07-e83b-b39e76d2e2ab"
      },
      "source": [
        "#140251758486880 140251758486880\n",
        "def f(var):\n",
        "  print(var)\n",
        "\n",
        "def dumb(): \n",
        "  return f  #não está chamando(executando) a função está apenas retornando a função\n",
        "\n",
        "var = dumb()  #var agora é uma função ==>> olha o nó. dumb acima está retornando f que é uma função e se var = dumb() então var é uma função\n",
        "var('Como var é uma função agora ele pode imprimir algo na tela')"
      ],
      "execution_count": null,
      "outputs": [
        {
          "output_type": "stream",
          "text": [
            "Como var é uma função agora ele pode imprimir algo na tela\n"
          ],
          "name": "stdout"
        }
      ]
    },
    {
      "cell_type": "code",
      "metadata": {
        "colab": {
          "base_uri": "https://localhost:8080/"
        },
        "id": "2uvhkxLfN_JE",
        "outputId": "1e16aba1-2c7c-41a4-d12d-0906e30a2eea"
      },
      "source": [
        "#treinando funções\n",
        "def a():\n",
        "  print('bbbbbbb')\n",
        "\n",
        "a()\n",
        "a()"
      ],
      "execution_count": null,
      "outputs": [
        {
          "output_type": "stream",
          "text": [
            "bbbbbbb\n",
            "bbbbbbb\n"
          ],
          "name": "stdout"
        }
      ]
    },
    {
      "cell_type": "code",
      "metadata": {
        "colab": {
          "base_uri": "https://localhost:8080/"
        },
        "id": "XHko1CjtTB7Y",
        "outputId": "e9f63d38-2db1-4f58-d18b-4118815ec6ae"
      },
      "source": [
        "def divisao(n1, n2):\n",
        "  if n2 == 0:\n",
        "    return\n",
        "\n",
        "    return n1 / n2\n",
        "divide = divisao (8 , 0)\n",
        "if divide:\n",
        "  print(divide)\n",
        "else:\n",
        "  print(\"Conta inválida\")\n"
      ],
      "execution_count": null,
      "outputs": [
        {
          "output_type": "stream",
          "text": [
            "Conta inválida\n"
          ],
          "name": "stdout"
        }
      ]
    },
    {
      "cell_type": "code",
      "metadata": {
        "colab": {
          "base_uri": "https://localhost:8080/"
        },
        "id": "sAYZIqejWEzt",
        "outputId": "44001cea-5461-475a-ae1c-1ca1e5c80bbc"
      },
      "source": [
        "def dumb():\n",
        "  return 1\n",
        "print(dumb(), type(dumb()))"
      ],
      "execution_count": null,
      "outputs": [
        {
          "output_type": "stream",
          "text": [
            "1 <class 'int'>\n"
          ],
          "name": "stdout"
        }
      ]
    },
    {
      "cell_type": "code",
      "metadata": {
        "colab": {
          "base_uri": "https://localhost:8080/"
        },
        "id": "J3JDCktZWy43",
        "outputId": "1212fdc9-170b-4677-92db-e723e6e356cf"
      },
      "source": [
        "def dumb1():\n",
        "  return 1.7\n",
        "print(dumb1(), type(dumb1()))"
      ],
      "execution_count": null,
      "outputs": [
        {
          "output_type": "stream",
          "text": [
            "1.7 <class 'float'>\n"
          ],
          "name": "stdout"
        }
      ]
    },
    {
      "cell_type": "code",
      "metadata": {
        "colab": {
          "base_uri": "https://localhost:8080/"
        },
        "id": "RBvT1hGfXOpr",
        "outputId": "0d0bf426-1593-4b1a-8b81-e54e88dfe722"
      },
      "source": [
        "def dumb2():\n",
        "  return True\n",
        "print(dumb2(), type(dumb2()))"
      ],
      "execution_count": null,
      "outputs": [
        {
          "output_type": "stream",
          "text": [
            "True <class 'bool'>\n"
          ],
          "name": "stdout"
        }
      ]
    },
    {
      "cell_type": "code",
      "metadata": {
        "colab": {
          "base_uri": "https://localhost:8080/"
        },
        "id": "LCjHBSpSXk5j",
        "outputId": "baadd56a-7b20-4d08-d98c-4c21932fe272"
      },
      "source": [
        "def dumb3():\n",
        "  return 'ola mundo!'\n",
        "print(dumb3(), type(dumb3()))"
      ],
      "execution_count": null,
      "outputs": [
        {
          "output_type": "stream",
          "text": [
            "ola mundo! <class 'str'>\n"
          ],
          "name": "stdout"
        }
      ]
    },
    {
      "cell_type": "code",
      "metadata": {
        "colab": {
          "base_uri": "https://localhost:8080/"
        },
        "id": "uXRTV34PYCh5",
        "outputId": "22440a84-8d23-4c2a-ee19-39e418187ac9"
      },
      "source": [
        "def dumb4():\n",
        "  return [1, 2, \"cesar\"]\n",
        "#print(dumb4(), type(dumb4()))  #[1, 2, 'cesar'] <class 'list'> este é o retorno\n",
        "var = dumb4()\n",
        "print(var, type(var))  #retorno"
      ],
      "execution_count": null,
      "outputs": [
        {
          "output_type": "stream",
          "text": [
            "[1, 2, 'cesar'] <class 'list'>\n"
          ],
          "name": "stdout"
        }
      ]
    },
    {
      "cell_type": "code",
      "metadata": {
        "colab": {
          "base_uri": "https://localhost:8080/"
        },
        "id": "MM4RsLgLZmMe",
        "outputId": "e3d54faa-2434-4639-b4b0-be8bcc0d64a4"
      },
      "source": [
        "def dumb5():\n",
        "  return 1\n",
        "var = dumb5()\n",
        "print(var, type(var))  #retorno 1 <class 'int'>"
      ],
      "execution_count": null,
      "outputs": [
        {
          "output_type": "stream",
          "text": [
            "1 <class 'int'>\n"
          ],
          "name": "stdout"
        }
      ]
    },
    {
      "cell_type": "code",
      "metadata": {
        "colab": {
          "base_uri": "https://localhost:8080/"
        },
        "id": "sQ1sCB_vZ2eG",
        "outputId": "4074aca3-a582-45e9-85ad-bde9098ca3b7"
      },
      "source": [
        "def dumb6():\n",
        "  return 1.1\n",
        "x = dumb6()\n",
        "print(x, type(x))  #retorno 1.1 <class 'float'>"
      ],
      "execution_count": null,
      "outputs": [
        {
          "output_type": "stream",
          "text": [
            "1.1 <class 'float'>\n"
          ],
          "name": "stdout"
        }
      ]
    },
    {
      "cell_type": "code",
      "metadata": {
        "colab": {
          "base_uri": "https://localhost:8080/"
        },
        "id": "Z4XclF1eaF3j",
        "outputId": "d404687c-8778-4730-9fd2-c52a5d62c7f3"
      },
      "source": [
        "def dumb7():\n",
        "  return False\n",
        "gg = dumb7()\n",
        "print(gg, type(gg))  #retorno False <class 'bool'>"
      ],
      "execution_count": null,
      "outputs": [
        {
          "output_type": "stream",
          "text": [
            "False <class 'bool'>\n"
          ],
          "name": "stdout"
        }
      ]
    },
    {
      "cell_type": "code",
      "metadata": {
        "colab": {
          "base_uri": "https://localhost:8080/"
        },
        "id": "H-4CiPrMahas",
        "outputId": "989f940a-0564-4115-8d4e-2529b48479ed"
      },
      "source": [
        "def dumb8():\n",
        "  return\n",
        "v = dumb8()\n",
        "print(v, type(v))  #retorno None <class 'NoneType'>"
      ],
      "execution_count": null,
      "outputs": [
        {
          "output_type": "stream",
          "text": [
            "None <class 'NoneType'>\n"
          ],
          "name": "stdout"
        }
      ]
    },
    {
      "cell_type": "code",
      "metadata": {
        "colab": {
          "base_uri": "https://localhost:8080/"
        },
        "id": "SXyrumMekeVX",
        "outputId": "3232f109-4247-45fa-9f60-8bdda887fd96"
      },
      "source": [
        "def dumb():\n",
        "  return('izaias' , 'avila')\n",
        "var = dumb()\n",
        "print(var, type(var))  #retorno  ('izaias', 'avila') <class 'tuple'>"
      ],
      "execution_count": null,
      "outputs": [
        {
          "output_type": "stream",
          "text": [
            "('izaias', 'avila') <class 'tuple'>\n"
          ],
          "name": "stdout"
        }
      ]
    },
    {
      "cell_type": "code",
      "metadata": {
        "colab": {
          "base_uri": "https://localhost:8080/"
        },
        "id": "oKHbGt3nk3fx",
        "outputId": "83505ca8-ff94-4a58-c7ac-174f8ab64922"
      },
      "source": [
        "def a(b):\n",
        "  print(b)\n",
        "def c():\n",
        "  return a\n",
        "d = c()\n",
        "print(id(d), id(a))  #retorno 140251758032944 140251758032944"
      ],
      "execution_count": null,
      "outputs": [
        {
          "output_type": "stream",
          "text": [
            "140251758032944 140251758032944\n"
          ],
          "name": "stdout"
        }
      ]
    },
    {
      "cell_type": "code",
      "metadata": {
        "colab": {
          "base_uri": "https://localhost:8080/"
        },
        "id": "H4Qnf-sUmroo",
        "outputId": "6df0831f-298b-449b-b04f-2abc5ff6c249"
      },
      "source": [
        "def e(f):\n",
        "  return f\n",
        "def g():\n",
        "  return e\n",
        "h = g()\n",
        "print(id(e), id(h), id(g))  #olha o retorno 140204536003760 140204536003760 140204536003040"
      ],
      "execution_count": null,
      "outputs": [
        {
          "output_type": "stream",
          "text": [
            "140204536003760 140204536003760 140204536003040\n"
          ],
          "name": "stdout"
        }
      ]
    }
  ]
}