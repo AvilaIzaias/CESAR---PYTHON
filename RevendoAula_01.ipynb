{
  "nbformat": 4,
  "nbformat_minor": 0,
  "metadata": {
    "colab": {
      "name": "RevendoAula 01.ipynb",
      "provenance": [],
      "authorship_tag": "ABX9TyNfI474NdkITxVxnMZGEh9q",
      "include_colab_link": true
    },
    "kernelspec": {
      "name": "python3",
      "display_name": "Python 3"
    },
    "language_info": {
      "name": "python"
    }
  },
  "cells": [
    {
      "cell_type": "markdown",
      "metadata": {
        "id": "view-in-github",
        "colab_type": "text"
      },
      "source": [
        "<a href=\"https://colab.research.google.com/github/AvilaIzaias/CESAR---PYTHON/blob/main/RevendoAula_01.ipynb\" target=\"_parent\"><img src=\"https://colab.research.google.com/assets/colab-badge.svg\" alt=\"Open In Colab\"/></a>"
      ]
    },
    {
      "cell_type": "code",
      "metadata": {
        "colab": {
          "base_uri": "https://localhost:8080/"
        },
        "id": "oP9tCeOX6RXn",
        "outputId": "bd64a9f4-1c12-4448-f0c0-547a71792caf"
      },
      "source": [
        "my_int = 103204934813\n",
        "print(my_int)\n"
      ],
      "execution_count": null,
      "outputs": [
        {
          "output_type": "stream",
          "text": [
            "103204934813\n"
          ],
          "name": "stdout"
        }
      ]
    },
    {
      "cell_type": "code",
      "metadata": {
        "colab": {
          "base_uri": "https://localhost:8080/"
        },
        "id": "GLFB7_us7FD8",
        "outputId": "a98ac1d4-5583-4a2e-c8cc-da5ee36c4070"
      },
      "source": [
        "xx = 1\n",
        "print(xx)"
      ],
      "execution_count": null,
      "outputs": [
        {
          "output_type": "stream",
          "text": [
            "1\n"
          ],
          "name": "stdout"
        }
      ]
    },
    {
      "cell_type": "code",
      "metadata": {
        "colab": {
          "base_uri": "https://localhost:8080/"
        },
        "id": "bQzppxP6IaDl",
        "outputId": "5ccaf25c-c1b7-469b-e5d6-65b38da867f8"
      },
      "source": [
        "print(\"Esta é uma string entre aspas duplas\")\n",
        "print('Esta é uma string entre aspas simples')\n",
        "#as duas maneiras são usadas em Python --- treinando comentar #"
      ],
      "execution_count": null,
      "outputs": [
        {
          "output_type": "stream",
          "text": [
            "Esta é uma string entre aspas duplas\n",
            "Esta é uma string entre aspas simples\n"
          ],
          "name": "stdout"
        }
      ]
    },
    {
      "cell_type": "code",
      "metadata": {
        "id": "XEVTgkU6I1Mg"
      },
      "source": [
        "# Podemos imprimir strings simplesmente chamando a função print()\n",
        "print('Olá mundo!')\n"
      ],
      "execution_count": null,
      "outputs": []
    },
    {
      "cell_type": "code",
      "metadata": {
        "colab": {
          "base_uri": "https://localhost:8080/"
        },
        "id": "KZatWtaqJEmQ",
        "outputId": "1775e08c-6acc-4659-f716-2871fbb832b2"
      },
      "source": [
        "print(\"segundo print\")"
      ],
      "execution_count": null,
      "outputs": [
        {
          "output_type": "stream",
          "text": [
            "segundo print\n"
          ],
          "name": "stdout"
        }
      ]
    },
    {
      "cell_type": "code",
      "metadata": {
        "colab": {
          "base_uri": "https://localhost:8080/"
        },
        "id": "Ja6Tgwi6JWUc",
        "outputId": "498862b4-655e-4055-f3e4-200bf10dea28"
      },
      "source": [
        "# Os comentários inline\n",
        "x = 8 #Inicializa x com um número arbitrário\n",
        "print(x)"
      ],
      "execution_count": null,
      "outputs": [
        {
          "output_type": "stream",
          "text": [
            "8\n"
          ],
          "name": "stdout"
        }
      ]
    },
    {
      "cell_type": "code",
      "metadata": {
        "colab": {
          "base_uri": "https://localhost:8080/"
        },
        "id": "aBBLdC7hEPFb",
        "outputId": "b56af065-4cac-4bc5-dcf7-5f540ffd4a41"
      },
      "source": [
        "login = input(\"Login: \")\n",
        "senha = input(\"Senha: \")\n",
        "print(\"O usuário informado foi: %s, e a senha digitada foi: %s\" %(login, senha))\n"
      ],
      "execution_count": null,
      "outputs": [
        {
          "output_type": "stream",
          "text": [
            "Login: kaka\n",
            "Senha: 123\n",
            "O usuário informado foi: kaka, e a senha digitada foi: 123\n"
          ],
          "name": "stdout"
        }
      ]
    },
    {
      "cell_type": "code",
      "metadata": {
        "id": "W_i4D03aQt1C"
      },
      "source": [
        ""
      ],
      "execution_count": null,
      "outputs": []
    },
    {
      "cell_type": "code",
      "metadata": {
        "colab": {
          "base_uri": "https://localhost:8080/"
        },
        "id": "H-WdHVO1FxHZ",
        "outputId": "6c2b3a31-039f-4586-ed14-7b332cb7743d"
      },
      "source": [
        "login = input(\"login: \")\n",
        "senha = input(\"senha: \")\n",
        "\n",
        "print(\"O usuário informado foi: %s\" %(str(login)), \"E a senha foi: %s\" %(str(senha)))\n",
        "print({login}, {senha})"
      ],
      "execution_count": null,
      "outputs": [
        {
          "output_type": "stream",
          "text": [
            "login: ppppp\n",
            "senha: 4444\n",
            "O usuário informado foi: ppppp E a senha foi: 4444\n",
            "{'ppppp'} {'4444'}\n"
          ],
          "name": "stdout"
        }
      ]
    },
    {
      "cell_type": "markdown",
      "metadata": {
        "id": "hzv2_tpgQuar"
      },
      "source": [
        "# Convertendo os números inteiros em floats"
      ]
    },
    {
      "cell_type": "code",
      "metadata": {
        "id": "pBTgjWZqQ1Vb"
      },
      "source": [
        "f = 57\n"
      ],
      "execution_count": null,
      "outputs": []
    }
  ]
}